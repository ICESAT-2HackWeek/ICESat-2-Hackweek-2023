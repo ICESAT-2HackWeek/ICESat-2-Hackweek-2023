{
 "cells": [
  {
   "cell_type": "code",
   "execution_count": 25,
   "id": "bbccb924-8dac-4737-bf9c-e270e323b4eb",
   "metadata": {
    "tags": []
   },
   "outputs": [],
   "source": [
    "class Human:\n",
    "    def __init__(self, name):\n",
    "        self.name = name\n",
    "        self.energy = 10\n",
    "        self.friends = []\n",
    "        \n",
    "    def __str__(self):\n",
    "        s = \"Hi, my name is {0}. My energy level is {1}\".format(self.name, self.energy)\n",
    "        return s\n",
    "        \n",
    "    def move(self, dist = 1):\n",
    "        if self.energy < dist:\n",
    "            print(\"I don't have the energy to move that far\")\n",
    "        else:\n",
    "            self.energy -= dist\n",
    "            \n",
    "    def sleep(self):\n",
    "        self.energy = 10\n",
    "        \n",
    "    def makefriends(self, friend):\n",
    "        self.friends.append(friend)\n",
    "        friend.friends.append(self)"
   ]
  },
  {
   "cell_type": "code",
   "execution_count": 15,
   "id": "cbd637cb-b7ba-40c0-9a1d-9f17376758b9",
   "metadata": {
    "tags": []
   },
   "outputs": [],
   "source": [
    "a = Human(\"Alice\")\n",
    "b = Human(\"Bruno\")\n",
    "c = Human(\"Chantel\")"
   ]
  },
  {
   "cell_type": "code",
   "execution_count": 16,
   "id": "62af1033-b025-45e0-a7c8-e1b396feb6da",
   "metadata": {
    "tags": []
   },
   "outputs": [
    {
     "name": "stdout",
     "output_type": "stream",
     "text": [
      "Hi, my name is Alice. My energy level is 10\n"
     ]
    }
   ],
   "source": [
    "print(a)"
   ]
  },
  {
   "cell_type": "code",
   "execution_count": 17,
   "id": "e4e3060e-ea09-4568-a69b-40aef5d9e030",
   "metadata": {
    "tags": []
   },
   "outputs": [
    {
     "name": "stdout",
     "output_type": "stream",
     "text": [
      "Alice's friends:\n",
      "Bruno\n",
      "Chantel\n",
      "Alice\n"
     ]
    }
   ],
   "source": [
    "a.makefriends(b)\n",
    "a.makefriends(c)\n",
    "print(\"Alice's friends:\")\n",
    "for i in a.friends:\n",
    "    print(i.name)\n",
    "\n",
    "print(\"Bruno's friends:\")\n",
    "for i in b.friends:\n",
    "    print(i.name)"
   ]
  },
  {
   "cell_type": "code",
   "execution_count": 12,
   "id": "b38b21e8-66d3-4253-9778-54fbb6736994",
   "metadata": {
    "tags": []
   },
   "outputs": [
    {
     "data": {
      "text/plain": [
       "[<__main__.Human at 0x7f5398391e40>, <__main__.Human at 0x7f5398390ac0>]"
      ]
     },
     "execution_count": 12,
     "metadata": {},
     "output_type": "execute_result"
    }
   ],
   "source": [
    "a.friends"
   ]
  },
  {
   "cell_type": "code",
   "execution_count": null,
   "id": "67a99567-2cdd-4370-a86e-ca00a992a156",
   "metadata": {},
   "outputs": [],
   "source": []
  },
  {
   "cell_type": "code",
   "execution_count": 33,
   "id": "e8c6edef-26e2-4b0f-a7c7-577d982fe6ca",
   "metadata": {
    "tags": []
   },
   "outputs": [],
   "source": [
    "class Bakery:\n",
    "    def __init__(self, cookies, cost):\n",
    "        self.numcookies = cookies\n",
    "        self.cost = cost\n",
    "        \n",
    "    def __str__(self):\n",
    "        s = \"This bakery has {0}\".format(self.numcookies)\n",
    "        return s\n",
    "        \n",
    "class Baker(Human):\n",
    "    def __init__(self, name):\n",
    "        super().__init__(name)\n",
    "        self.sales = 0\n",
    "    \n",
    "    def make_cookies(self, bakery, n_cookies):\n",
    "        bakery.numcookies += n_cookies\n",
    "        \n",
    "    def sell_cookies(self, customer, bakery, n_cookies):\n",
    "        \n",
    "        if n_cookies > bakery.numcookies:\n",
    "            print(\"This bakery doeson't have enough cookies\")\n",
    "            return\n",
    "        \n",
    "        subtotal = n_cookies * bakery.cost\n",
    "        if custormer.money < subtotal:\n",
    "            print(\"The customer can't afford these cookies\")\n",
    "            return\n",
    "        \n",
    "        bakery.numcookies -= n_cookies\n",
    "        self.sales += subtotal\n",
    "        customer.money -= subtotal\n",
    "        customer.cookies += n_cookies"
   ]
  },
  {
   "cell_type": "code",
   "execution_count": 38,
   "id": "e2d09ae1-e51b-465b-9bdc-35e7de988977",
   "metadata": {
    "tags": []
   },
   "outputs": [],
   "source": [
    "class Customer(Human):\n",
    "    def __init__(self, name, money):\n",
    "        super().__init__(name)\n",
    "        self.money = money\n",
    "        self.cookies = 0\n",
    "        \n",
    "    def __str__(self):\n",
    "        s = super().__str__() + \" and I have {0} cookies.\".format(self.cookies)\n",
    "        return s"
   ]
  },
  {
   "cell_type": "code",
   "execution_count": 39,
   "id": "409d92f2-291f-4124-a7c1-115bc2691053",
   "metadata": {
    "tags": []
   },
   "outputs": [
    {
     "name": "stdout",
     "output_type": "stream",
     "text": [
      "Hi, my name is Romina. My energy level is 10\n"
     ]
    }
   ],
   "source": [
    "romina = Baker(\"Romina\")\n",
    "print(romina)"
   ]
  },
  {
   "cell_type": "code",
   "execution_count": 40,
   "id": "998e68e0-c1d2-4e79-9860-b13d4dd3f46a",
   "metadata": {
    "tags": []
   },
   "outputs": [
    {
     "name": "stdout",
     "output_type": "stream",
     "text": [
      "Hi, my name is Kelsey. My energy level is 10 and I have 0 cookies.\n"
     ]
    }
   ],
   "source": [
    "kelsey = Customer(\"Kelsey\", 10)\n",
    "print(kelsey)"
   ]
  },
  {
   "cell_type": "code",
   "execution_count": 37,
   "id": "8915990e-ba53-47af-97e7-3a4cb3a84511",
   "metadata": {
    "tags": []
   },
   "outputs": [
    {
     "name": "stdout",
     "output_type": "stream",
     "text": [
      "This bakery has 20\n"
     ]
    }
   ],
   "source": [
    "tall_grass = Bakery(20, 1.25)\n",
    "print(tall_grass)"
   ]
  },
  {
   "cell_type": "code",
   "execution_count": null,
   "id": "64096063-226d-407f-8438-56e830b724de",
   "metadata": {},
   "outputs": [],
   "source": []
  }
 ],
 "metadata": {
  "kernelspec": {
   "display_name": "Python 3 (ipykernel)",
   "language": "python",
   "name": "python3"
  },
  "language_info": {
   "codemirror_mode": {
    "name": "ipython",
    "version": 3
   },
   "file_extension": ".py",
   "mimetype": "text/x-python",
   "name": "python",
   "nbconvert_exporter": "python",
   "pygments_lexer": "ipython3",
   "version": "3.10.12"
  }
 },
 "nbformat": 4,
 "nbformat_minor": 5
}
