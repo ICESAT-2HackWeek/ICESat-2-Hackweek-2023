{
 "cells": [
  {
   "cell_type": "markdown",
   "metadata": {},
   "source": [
    "# SlideRule Interactive Feature Find\n",
    "\n",
    "Instructors: [Tyler Sutterley](mailto:tsutterl@uw.edu), Nathan Kurtz and Ben Smith\n",
    "\n",
    "[Documentation for using SlideRule](https://slideruleearth.io/rtd) is available from the [project website](https://slideruleearth.io) "
   ]
  },
  {
   "cell_type": "code",
   "execution_count": null,
   "metadata": {},
   "outputs": [],
   "source": [
    "import os\n",
    "os.environ['USE_PYGEOS'] = '0'\n",
    "from sliderule import icesat2, ipysliderule, sliderule, io\n",
    "import ipywidgets as widgets\n",
    "import warnings\n",
    "# autoreload\n",
    "%load_ext autoreload\n",
    "%autoreload 2\n",
    "# turn off warnings for demo\n",
    "warnings.filterwarnings('ignore')"
   ]
  },
  {
   "cell_type": "markdown",
   "metadata": {},
   "source": [
    "#### Paste `Show Code` contents from [Web Demo](https://demo.slideruleearth.io/)"
   ]
  },
  {
   "cell_type": "code",
   "execution_count": null,
   "metadata": {},
   "outputs": [],
   "source": []
  },
  {
   "cell_type": "markdown",
   "metadata": {},
   "source": [
    "### Review GeoDataFrame output\n",
    "Can inspect the columns, number of returns and returns at the top of the GeoDataFrame.\n",
    "\n",
    "See the [ICESat-2 documentation](https://slideruleearth.io/web/rtd/user_guide/ICESat-2.html#segmented-photon-data-atl03) for descriptions of each column"
   ]
  },
  {
   "cell_type": "code",
   "execution_count": null,
   "metadata": {},
   "outputs": [],
   "source": [
    "print(f'Returned {gdf.shape[0]} records')\n",
    "gdf.head()"
   ]
  },
  {
   "cell_type": "markdown",
   "metadata": {},
   "source": [
    "### Interactive Mapping with Leaflet\n",
    "\n",
    "<table>\n",
    "  <tbody>\n",
    "    <tr>\n",
    "      <th align='center' max-width=\"30%\"><a href=\"https://epsg.io/3857\">Global (Web Mercator, EPSG:3857)</a></th>\n",
    "      <th align='center' max-width=\"30%\"><a href=\"https://epsg.io/5936\">North (Alaska Polar Stereographic, EPSG:5936)</a></th>\n",
    "      <th align='center' max-width=\"30%\"><a href=\"https://epsg.io/3031\">South (Antarctic Polar Stereographic, EPSG:3031)</a></th>\n",
    "    </tr>\n",
    "    <tr>\n",
    "      <td align='left' valign='top' max-width=\"30%\">\n",
    "        <ul style=\"line-height: 1.5em\">\n",
    "            <li><a href=\"https://apps.nationalmap.gov/3depdem/\">USGS 3DEP Hillshade</a></li>\n",
    "            <li><a href=\"https://asterweb.jpl.nasa.gov/gdem.asp\">ASTER GDEM Hillshade</a></li>\n",
    "            <li><a href=\"https://www.arcgis.com/home/item.html?id=10df2279f9684e4a9f6a7f08febac2a9\">ESRI Imagery</a></li>\n",
    "            <li><a href=\"http://glims.colorado.edu/glacierdata/\">Global Land Ice Measurements from Space (GLIMS)</a></li>\n",
    "            <li><a href=\"https://www.glims.org/RGI/\">Randolph Glacier Inventory (RGI)</a></li>\n",
    "        </ul>\n",
    "       </td>\n",
    "       <td align='left' valign='top' max-width=\"30%\">\n",
    "        <ul style=\"line-height: 1.5em\">\n",
    "            <li><a href=\"http://goto.arcgisonline.com/maps/Arctic_Imagery\">ESRI Imagery</a></li>\n",
    "            <li><a href=\"https://www.pgc.umn.edu/data/arcticdem\">ArcticDEM</a></li>\n",
    "        </ul>\n",
    "       </td>\n",
    "       <td align='left' valign='top' max-width=\"30%\">\n",
    "        <ul style=\"line-height: 1.5em\">\n",
    "            <li><a href=\"https://lima.usgs.gov/\">Landsat Image Mosaic of Antarctica (LIMA)</a></li>\n",
    "            <li><a href=\"https://nsidc.org/data/nsidc-0280\">MODIS Mosaic of Antarctica (MOA)</a></li>\n",
    "            <li><a href=\"https://nsidc.org/data/NSIDC-0103\">Radarsat Antarctic Mapping Project (RAMP)</a></li>\n",
    "            <li><a href=\"https://www.pgc.umn.edu/data/rema\">Reference Elevation Model of Antarctica (REMA)</a></li>\n",
    "        </ul>\n",
    "      </td>\n",
    "    </tr>\n",
    "  </tbody>\n",
    "</table>"
   ]
  },
  {
   "cell_type": "code",
   "execution_count": null,
   "metadata": {},
   "outputs": [],
   "source": [
    "# display widgets for setting SlideRule parameters\n",
    "SRwidgets = ipysliderule.widgets()\n",
    "SRwidgets.set_atl03_defaults()\n",
    "widgets.VBox([\n",
    "    SRwidgets.projection,\n",
    "    SRwidgets.layers,\n",
    "    SRwidgets.raster_functions\n",
    "])"
   ]
  },
  {
   "cell_type": "code",
   "execution_count": null,
   "metadata": {},
   "outputs": [],
   "source": [
    "# center map on polygon centroid\n",
    "lon, lat = io.from_region(parms['poly'])\n",
    "cx, cy = io.centroid(lon, lat)\n",
    "# create ipyleaflet map in specified projection\n",
    "m = ipysliderule.leaflet(SRwidgets.projection.value,\n",
    "    center=(cy, cx), prefer_canvas=True)\n",
    "# install click handler callback\n",
    "m.add_selected_callback(SRwidgets.atl03_click_handler)\n",
    "# add polygon from web demo code\n",
    "m.add_region([parms['poly']])\n",
    "# show map\n",
    "m.map"
   ]
  },
  {
   "cell_type": "code",
   "execution_count": null,
   "metadata": {},
   "outputs": [],
   "source": [
    "# add any selected base layers\n",
    "m.add_layer(\n",
    "    layers=SRwidgets.layers.value,\n",
    "    rendering_rule=SRwidgets.rendering_rule\n",
    ")"
   ]
  },
  {
   "cell_type": "markdown",
   "metadata": {
    "tags": []
   },
   "source": [
    "#### Add GeoDataFrame to map\n",
    "\n",
    "For stability of the leaflet map, SlideRule will as a default limit the plot to have up to 10000 points from the GeoDataFrame\n",
    "\n",
    "GeoDataFrames can be plotted in any available [matplotlib colormap](https://matplotlib.org/stable/tutorials/colors/colormaps.html)"
   ]
  },
  {
   "cell_type": "code",
   "execution_count": null,
   "metadata": {},
   "outputs": [],
   "source": [
    "widgets.VBox([\n",
    "    SRwidgets.variable,\n",
    "    SRwidgets.cmap,\n",
    "    SRwidgets.reverse,\n",
    "])"
   ]
  },
  {
   "cell_type": "code",
   "execution_count": null,
   "metadata": {},
   "outputs": [],
   "source": [
    "%matplotlib inline\n",
    "# ATL03 fields for hover tooltip\n",
    "fields = m.default_atl03_fields()\n",
    "m.GeoData(gdf, column_name=SRwidgets.variable.value, cmap=SRwidgets.colormap,\n",
    "    max_plot_points=10000, tooltip=True, colorbar=True, fields=fields)"
   ]
  },
  {
   "cell_type": "markdown",
   "metadata": {},
   "source": [
    "#### Visualize photons as an along-track plot"
   ]
  },
  {
   "cell_type": "code",
   "execution_count": null,
   "metadata": {},
   "outputs": [],
   "source": [
    "widgets.VBox([\n",
    "    SRwidgets.plot_classification,\n",
    "    SRwidgets.rgt,\n",
    "    SRwidgets.ground_track,\n",
    "    SRwidgets.cycle,\n",
    "])"
   ]
  },
  {
   "cell_type": "code",
   "execution_count": null,
   "metadata": {},
   "outputs": [],
   "source": [
    "%matplotlib widget\n",
    "SRwidgets.plot(atl03=gdf, kind='scatter', title='Photon Cloud',\n",
    "    cmap=SRwidgets.colormap, legend=True, legend_frameon=True,\n",
    "    classification=SRwidgets.plot_classification.value, \n",
    "    segments=False)"
   ]
  }
 ],
 "metadata": {
  "interpreter": {
   "hash": "31f2aee4e71d21fbe5cf8b01ff0e069b9275f58929596ceb00d14d90e3e16cd6"
  },
  "kernelspec": {
   "display_name": "Python 3 (ipykernel)",
   "language": "python",
   "name": "python3"
  },
  "language_info": {
   "codemirror_mode": {
    "name": "ipython",
    "version": 3
   },
   "file_extension": ".py",
   "mimetype": "text/x-python",
   "name": "python",
   "nbconvert_exporter": "python",
   "pygments_lexer": "ipython3",
   "version": "3.10.6"
  }
 },
 "nbformat": 4,
 "nbformat_minor": 4
}
