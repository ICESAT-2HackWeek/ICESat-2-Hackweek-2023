{
 "cells": [
  {
   "cell_type": "markdown",
   "metadata": {
    "user_expressions": []
   },
   "source": [
    "### Visualizing ICESat-2 data\n",
    "\n",
    "Instructors: [Tyler Sutterley](mailto:tsutterl@uw.edu), Nathan Kurtz and Ben Smith\n",
    "\n",
    "This notebook uses standard python tools to demonstrate some basic visualization of ICESat-2 products"
   ]
  },
  {
   "cell_type": "code",
   "execution_count": null,
   "metadata": {
    "tags": []
   },
   "outputs": [],
   "source": [
    "from __future__ import print_function, division\n",
    "\n",
    "import os\n",
    "os.environ['USE_PYGEOS'] = '0'\n",
    "import re\n",
    "import logging\n",
    "import numpy as np\n",
    "import matplotlib.pyplot as plt\n",
    "import icesat2_toolkit as is2tk\n",
    "import IS2view\n",
    "# autoreload\n",
    "%load_ext autoreload\n",
    "%autoreload 2\n",
    "# set logging level\n",
    "logging.basicConfig(level=logging.ERROR)"
   ]
  },
  {
   "cell_type": "markdown",
   "metadata": {
    "tags": [],
    "user_expressions": []
   },
   "source": [
    "#### Create s3 filesystem with `s3fs`"
   ]
  },
  {
   "cell_type": "code",
   "execution_count": null,
   "metadata": {
    "tags": []
   },
   "outputs": [],
   "source": [
    "client = is2tk.utilities.attempt_login('urs.earthdata.nasa.gov',\n",
    "    authorization_header=True)\n",
    "session = is2tk.utilities.s3_filesystem()"
   ]
  },
  {
   "cell_type": "markdown",
   "metadata": {
    "user_expressions": []
   },
   "source": [
    "#### ATLAS Background\n",
    "The primary and secondary instrumentation onboard the ICESat-2 observatory are the Advanced Topographic Laser Altimeter System (ATLAS, a photon-counting laser altimeter), the global positioning system (GPS) and the star cameras. \n",
    "Data from these instruments are combined to create three primary measurements: the time of flight of a photon transmitted and received from ATLAS, the position of the satellite in space, and the pointing vector of the satellite during the transmission of photons. \n",
    "These three measurements are used to create ATL03, the geolocated photon product of ICESat-2.  \n",
    "\n",
    "#### ATL03 - Global Geolocated Photon Data\n",
    "- Precise latitude, longitude and elevation for every received photon, arranged by beam in the along-track direction  \n",
    "- Photons classified by signal vs. background, as well as by surface type (land ice, sea ice, land, ocean), including all geophysical corrections  \n",
    "\n",
    "More information about ATL03 can be found in the Algorithm Theoretical Basis Documents (ATBDs) provided by the ICESat-2 project:  \n",
    "- [ATL03: Global Geolocated Photon Data](https://nsidc.org/sites/default/files/documents/technical-reference/icesat2_atl03_atbd_v006.pdf)  \n",
    "- [ATL03g: Received photon geolocation](https://icesat-2.gsfc.nasa.gov/sites/default/files/page_files/ICESat2_ATL03g_ATBD_r002.pdf)  \n",
    "- [ATL03a: Atmospheric Delay Corrections](https://icesat-2.gsfc.nasa.gov/sites/default/files/page_files/I2_ATL03A_ATBD.pdf)  \n",
    "\n",
    "#### Read ATL03 HDF5 file for root variables and attributes\n",
    "The structure of the file has six groups for each beam, data describing the responses of the ATLAS instrument, ancillary data for correcting and transforming the ATL03 data, and a group of metadata.  "
   ]
  },
  {
   "cell_type": "code",
   "execution_count": null,
   "metadata": {
    "tags": []
   },
   "outputs": [],
   "source": [
    "# query CMR for path to Release-06 granule\n",
    "ATL03_id, ATL03_s3_url = is2tk.utilities.cmr(product='ATL03',\n",
    "    release=6, cycles=5, tracks=752, granules=12,\n",
    "    provider=is2tk.utilities._s3_providers['nsidc'],\n",
    "    endpoint='s3', request_type='application/x-hdf5')\n",
    "# access ATL03 file from NSIDC\n",
    "ATL03_granule = session.open(ATL03_s3_url[0], mode='rb')\n",
    "\n",
    "# load ICESat-2 ATL03 data\n",
    "IS2_atl03_mds,IS2_atl03_attrs,IS2_atl03_beams = \\\n",
    "    is2tk.io.ATL03.read_main(ATL03_granule, ATTRIBUTES=True)\n",
    "\n",
    "# extract parameters from ICESat-2 ATLAS HDF5 file name\n",
    "rx = re.compile(r'(processed_)?(ATL\\d{2})_(\\d{4})(\\d{2})(\\d{2})(\\d{2})'\n",
    "    r'(\\d{2})(\\d{2})_(\\d{4})(\\d{2})(\\d{2})_(\\d{3})_(\\d{2})(.*?).h5$')\n",
    "SUB,PRD,YY,MM,DD,HH,MN,SS,TRK,CYCL,GRAN,RL,VERS,AUX = rx.findall(ATL03_id[0]).pop()\n",
    "\n",
    "# number of GPS seconds between the GPS epoch\n",
    "# and ATLAS Standard Data Product (SDP) epoch\n",
    "atlas_sdp_gps_epoch, = IS2_atl03_mds['ancillary_data']['atlas_sdp_gps_epoch']"
   ]
  },
  {
   "cell_type": "markdown",
   "metadata": {
    "user_expressions": []
   },
   "source": [
    "#### Create a scatter plot of photon elevations vs time\n",
    "\n",
    "ATL03 contains most of the data needed to create the higher level data products. \n",
    "\n",
    "The ATL03 photon events will have a confidence level flag associated with it for a given surface type:  \n",
    "- -2: possible Transmit Echo Path photons  \n",
    "- -1: events not associated with a specific surface type  \n",
    "- 0: noise  \n",
    "- 1: buffer but algorithm classifies as background  \n",
    "- 2: low  \n",
    "- 3: medium  \n",
    "- 4: high  \n",
    "\n",
    "In the confidence level matrix, the column of each surface types is:   \n",
    "- 0: Land  \n",
    "- 1: Ocean  \n",
    "- 2: Sea Ice  \n",
    "- 3: Land Ice  \n",
    "- 4: Inland Water  \n",
    "\n",
    "The level of confidence of a given photon event (PE) may vary based on the surface type\n",
    "\n",
    "This particular set of data approaches the grounding line near Thwaites Glacier in West Antarctica, has some photon events that are impacted by the presence of clouds (highly scattered lower confidence photon events), and has some possible Transmitter Echo Photons (TEP) (the red curved line of anomalous photon events in gt2r and gt3r).  These are [things to be aware of when analyzing photon event data from ATL03](https://nsidc.org/sites/nsidc.org/files/technical-references/ATL03_Known_Issues_May2019.pdf).  \n",
    "\n",
    "The ATLAS instrument decides whether or not to telemeter packets of received photons back as data.  ATLAS uses a digital elevation model (DEM) and a few rules to decide whether to transmit large blocks of data to NASA.  The telemetry bands are evident by the spread of low confidence photon events around the surface for each beam.  \n",
    "\n",
    "Photon events in ATL03 can come to the ATLAS receiver in a few different ways:  \n",
    "- Many photons come from the sun either by reflecting off clouds or the land surface.  These photon events are spread in a random distribution along the telemetry band.  In ATL03, a large majority of these \"background\" photon events are classified, but some may be incorrectly classified as signal.  \n",
    "- Some photons are from the ATLAS instrument that have reflected off clouds. These photons can be clustered together or widely dispersed depending on the properties of the cloud and a few other variables.  \n",
    "- Some photons will be returns from the [Transmit Echo Path (TEP)](https://nsidc.org/sites/nsidc.org/files/technical-references/ATL03_Known_Issues_May2019.pdf)  \n",
    "- Some photons are from the ATLAS instrument that have reflected off the surface (our signal photons).  \n",
    "\n",
    "There will be photons transmitted by the ATLAS instrument will never be recorded back.  The vast majority of these photons never reached the ATLAS instrument again  (only about 10 out of the 10^<sup>14</sup> photons transmitted are received), but some are not detected due to the \"dead time\" of the instrument.  This can create a bias towards the first photons that were received by the instrument.  This first photon bias (FPB) is estimated in the higher level data products.  \n",
    "\n",
    "The transmitted pulse is also not symmetric in time, which can introduce a bias when calculating average surfaces.  The magnitude of this bias depends on the shape of the transmitted waveform, the width of the window used to calculate the average surface, and the slope and roughness of the surface that broadens the return pulse.  This transmit-pulse shape bias is also estimated in the higher level data products.  \n",
    "\n",
    "To show the impacts of clouds in more detail, we can investigate the confidence of each photon event for a cloud impacted beam.  For this file, the cloud is situated over the sea surface and does not have an associated confidence for land ice."
   ]
  },
  {
   "cell_type": "code",
   "execution_count": null,
   "metadata": {
    "tags": []
   },
   "outputs": [],
   "source": [
    "%matplotlib inline\n",
    "# create scatter plot of photon data versus along-track distance\n",
    "f1,ax1 = plt.subplots(num=1,nrows=2,sharex=True,sharey=True,figsize=(10,10))\n",
    "\n",
    "# data for beam gtx\n",
    "gtx = 'gt2r'\n",
    "val,attrs = is2tk.io.ATL03.read_beam(ATL03_granule, gtx, ATTRIBUTES=True)\n",
    "\n",
    "# ATL03 Segment ID\n",
    "Segment_ID = val['geolocation']['segment_id']\n",
    "# number of photon events\n",
    "n_pe, = val['heights']['delta_time'].shape\n",
    "# first photon in the segment (convert to 0-based indexing)\n",
    "Segment_Index_begin = val['geolocation']['ph_index_beg'] - 1\n",
    "# number of photon events in the segment\n",
    "Segment_PE_count = val['geolocation']['segment_ph_cnt']\n",
    "# along-track distance for each ATL03 segment\n",
    "Segment_Distance = val['geolocation']['segment_dist_x']\n",
    "# along-track length for each ATL03 segment\n",
    "Segment_Length = val['geolocation']['segment_length']\n",
    "# along-track and across-track distance for photon events\n",
    "x_atc = val['heights']['dist_ph_along']\n",
    "y_atc = val['heights']['dist_ph_across']\n",
    "# photon event heights\n",
    "h_ph = val['heights']['h_ph']\n",
    "\n",
    "# for each 20m segment\n",
    "for j,_ in enumerate(Segment_ID):\n",
    "    # index for 20m segment j\n",
    "    idx = Segment_Index_begin[j]\n",
    "    # skip segments with no photon events\n",
    "    if (idx < 0):\n",
    "        continue\n",
    "    # number of photons in 20m segment\n",
    "    cnt = Segment_PE_count[j]\n",
    "    # add segment distance to along-track coordinates\n",
    "    x_atc[idx:idx+cnt] += Segment_Distance[j]\n",
    "\n",
    "# check confidence level associated with each photon event\n",
    "# -1: Events not associated with a specific surface type\n",
    "#  0: noise\n",
    "#  1: buffer but algorithm classifies as background\n",
    "#  2: low\n",
    "#  3: medium\n",
    "#  4: high\n",
    "# Signal classification confidence for land ice\n",
    "# 0=Land; 1=Ocean; 2=SeaIce; 3=LandIce; 4=InlandWater\n",
    "ice_sig_conf = val['heights']['signal_conf_ph'][:,3]\n",
    "# find possible TEP events\n",
    "isTEP, = np.nonzero(ice_sig_conf == -2)\n",
    "# find different surface classification photon events\n",
    "stype, = np.nonzero(ice_sig_conf == -1)\n",
    "# background and buffer photons\n",
    "bg, = np.nonzero((ice_sig_conf == 0) | (ice_sig_conf == 1))\n",
    "# find photon events of progressively higher confidence\n",
    "lc, = np.nonzero(ice_sig_conf == 2)\n",
    "mc, = np.nonzero(ice_sig_conf == 3)\n",
    "hc, = np.nonzero(ice_sig_conf == 4)\n",
    "# Photon event geolocation and elevation (WGS84)\n",
    "ax1[0].plot(x_atc[isTEP], h_ph[isTEP], marker='.',\n",
    "    markersize=0.1, lw=0, color='red', label='TEP')\n",
    "ax1[0].plot(x_atc[stype], h_ph[stype], marker='.',\n",
    "    markersize=0.1, lw=0, color='0.2', label='Surface Classification')\n",
    "ax1[0].plot(x_atc[bg], h_ph[bg], marker='.',\n",
    "    markersize=0.1, lw=0, color='0.5', label='Background')\n",
    "ax1[0].plot(x_atc[lc], h_ph[lc], marker='.',\n",
    "    markersize=0.1, lw=0, color='darkorange', label='Low Confidence')\n",
    "ax1[0].plot(x_atc[mc], h_ph[mc], marker='.',\n",
    "    markersize=0.1, lw=0, color='mediumseagreen', label='Medium Confidence')\n",
    "ax1[0].plot(x_atc[hc], h_ph[hc], marker='.',\n",
    "    markersize=0.1, lw=0, color='darkorchid', label='High Confidence')\n",
    "\n",
    "# YAPC photon event classifier\n",
    "weight_ph = val['heights']['weight_ph']\n",
    "isort = np.argsort(weight_ph)\n",
    "sc = ax1[1].scatter(x_atc[isort], h_ph[isort], c=weight_ph[isort], s=0.1)\n",
    "# add colorbar for scatter plot\n",
    "cax = f1.add_axes([0.075, 0.080, 0.305, 0.02])\n",
    "# add extension triangles to upper and lower bounds\n",
    "# pad = distance from main plot axis\n",
    "# shrink = percent size of colorbar\n",
    "# aspect = lengthXwidth aspect of colorbar\n",
    "cbar = f1.colorbar(sc, cax=cax, extend='both', extendfrac=0.0375,\n",
    "    drawedges=False, orientation='horizontal')\n",
    "# rasterized colorbar to remove lines\n",
    "cbar.solids.set_rasterized(True)\n",
    "# Add label to the colorbar\n",
    "cbar.ax.set_xlabel('Photon Classifier SNR')\n",
    "cbar.ax.xaxis.set_label_position('top')\n",
    "# ticks lines all the way across\n",
    "cbar.ax.tick_params(which='both',width=1,length=15,direction=\"in\")\n",
    "\n",
    "# set title and labels\n",
    "ax1[1].set_xlabel('Along-Track Distance [m]')\n",
    "ax1[0].set_ylabel('Elevation above WGS84 Ellipsoid [m]')\n",
    "ax1[1].set_ylabel('Elevation above WGS84 Ellipsoid [m]')\n",
    "ax1[0].set_title(f'{PRD} RGT:{TRK} Cycle: {CYCL} Region: {GRAN} GT: {gtx}')\n",
    "# create legend\n",
    "lgd = ax1[0].legend(loc=3,frameon=False)\n",
    "lgd.get_frame().set_alpha(1.0)\n",
    "for line in lgd.get_lines():\n",
    "    line.set_linewidth(6)\n",
    "    \n",
    "# adjust the figure axes\n",
    "f1.subplots_adjust(left=0.07, right=0.98, bottom=0.05, top=0.95, hspace=0.05)\n",
    "# show the plot\n",
    "plt.show()"
   ]
  },
  {
   "cell_type": "markdown",
   "metadata": {
    "user_expressions": []
   },
   "source": [
    "#### ATL06 - Land Ice Height Data\n",
    "- Latitude, longitude and elevation for overlapping 40m along-track segments  \n",
    "- cm-level corrections for known instrument biases\n",
    "- Ancillary parameters that can be used to interpret and assess the quality of the height estimates\n",
    "\n",
    "More information about ATL06 can be found in the [ATBD](https://nsidc.org/sites/default/files/documents/technical-reference/icesat2_atl06_atbd_v006.pdf) provided by NSIDC\n"
   ]
  },
  {
   "cell_type": "code",
   "execution_count": null,
   "metadata": {
    "tags": []
   },
   "outputs": [],
   "source": [
    "# query CMR for path to Release-06 granule\n",
    "ATL06_id, ATL06_s3_url = is2tk.utilities.cmr(product='ATL06',\n",
    "    release=6, cycles=5, tracks=752, granules=12,\n",
    "    provider=is2tk.utilities._s3_providers['nsidc'],\n",
    "    endpoint='s3', request_type='application/x-hdf5')\n",
    "# access ATL06 file from NSIDC\n",
    "ATL06_granule = session.open(ATL06_s3_url[0], mode='rb')\n",
    "\n",
    "# load ICESat-2 ATL06 data\n",
    "IS2_atl06_mds,IS2_atl06_attrs,IS2_atl06_beams = \\\n",
    "    is2tk.io.ATL06.read_granule(ATL06_granule, ATTRIBUTES=True)\n",
    "\n",
    "# extract parameters from ICESat-2 ATLAS HDF5 file name\n",
    "rx = re.compile(r'(processed_)?(ATL\\d{2})_(\\d{4})(\\d{2})(\\d{2})(\\d{2})'\n",
    "    r'(\\d{2})(\\d{2})_(\\d{4})(\\d{2})(\\d{2})_(\\d{3})_(\\d{2})(.*?).h5$')\n",
    "SUB,PRD,YY,MM,DD,HH,MN,SS,TRK,CYCL,GRAN,RL,VERS,AUX = rx.findall(ATL06_id[0]).pop()"
   ]
  },
  {
   "cell_type": "code",
   "execution_count": null,
   "metadata": {
    "tags": []
   },
   "outputs": [],
   "source": [
    "%matplotlib widget\n",
    "# create scatter plot of segment data versus along-track distance\n",
    "f2,ax2 = plt.subplots(num=2, figsize=(10,10))\n",
    "\n",
    "# data for beam gtx\n",
    "gtx = 'gt2r'\n",
    "val = IS2_atl06_mds[gtx]['land_ice_segments']\n",
    "attrs = IS2_atl06_attrs[gtx]['land_ice_segments']\n",
    "\n",
    "# ATL06 Segment ID\n",
    "Segment_ID = val['segment_id']\n",
    "# number of ATL06 segments\n",
    "n_seg, = val['delta_time'].shape\n",
    "# average transmit time of the segment\n",
    "delta_time = val['delta_time']\n",
    "# along-track and across-track distance \n",
    "x_atc = val['ground_track']['x_atc']\n",
    "y_atc = val['ground_track']['y_atc']\n",
    "dh_dx = val['fit_statistics']['dh_fit_dx']\n",
    "dx = 20.0\n",
    "# land ice heights\n",
    "h_li = np.ma.array(val['h_li'], fill_value=attrs['h_li']['_FillValue'])\n",
    "h_li.mask = (h_li.data == h_li.fill_value)\n",
    "# segment quality summary flag\n",
    "atl06_quality_summary = val['atl06_quality_summary']\n",
    "# find low and high quality data\n",
    "lq, = np.nonzero(atl06_quality_summary != 0)\n",
    "hq, = np.nonzero(atl06_quality_summary == 0)\n",
    "\n",
    "# segment geolocation and elevation (WGS84)\n",
    "ax2.plot(x_atc[lq], h_li[lq], marker='.',\n",
    "    markersize=5, lw=0, color='mediumseagreen', label='Low-Quality Data')\n",
    "ax2.plot(x_atc[hq], h_li[hq], marker='.',\n",
    "    ms=5, lw=0, color='darkorchid', label='High-Quality Data')\n",
    "distances = np.c_[x_atc[hq] - dx, x_atc[hq] + dx]\n",
    "heights = np.c_[h_li[hq] - dx*dh_dx[hq], h_li[hq] + dx*dh_dx[hq]]\n",
    "ax2.plot(distances.T, heights.T, color='0.5', alpha=0.5, lw=1)\n",
    "\n",
    "# set title and labels\n",
    "ax2.set_xlabel('Along-Track Distance [m]')\n",
    "ax2.set_ylabel('Elevation above WGS84 Ellipsoid [m]')\n",
    "ax2.set_title(f'{PRD} RGT:{TRK} Cycle: {CYCL} Region: {GRAN} GT: {gtx}')\n",
    "# create legend\n",
    "lgd = ax2.legend(loc=3,frameon=False)\n",
    "lgd.get_frame().set_alpha(1.0)\n",
    "for line in lgd.get_lines():\n",
    "    line.set_linewidth(6)\n",
    "    \n",
    "# adjust the figure axes\n",
    "f2.subplots_adjust(left=0.07, right=0.98, bottom=0.05, top=0.95)\n",
    "# show the plot\n",
    "plt.show()"
   ]
  },
  {
   "cell_type": "markdown",
   "metadata": {
    "user_expressions": []
   },
   "source": [
    "#### ATL11 - Slope-Corrected Land Ice Height Time Series Data\n",
    "- Latitude, longitude and elevation for 120m along-track segments  \n",
    "\n",
    "Data is combined from the two beam pairs into a single pair track solution, corrected for across-track slope. ATL11 height data is easily comparable through time to calculate the elevation change. More information about ATL11 can be found in the [ATBD](https://nsidc.org/sites/default/files/icesat2_atl11_atbd_r005_0.pdf) provided by NSIDC"
   ]
  },
  {
   "cell_type": "code",
   "execution_count": null,
   "metadata": {
    "tags": []
   },
   "outputs": [],
   "source": [
    "# query CMR for path to ATL11 Release-05 granule\n",
    "ATL11_id, ATL11_s3_url = is2tk.utilities.cmr(product='ATL11',\n",
    "    release=5, tracks=752, granules=12,\n",
    "    provider=is2tk.utilities._s3_providers['nsidc'],\n",
    "    endpoint='s3', request_type='application/x-hdf5')\n",
    "# access ATL11 file from NSIDC\n",
    "ATL11_granule = session.open(ATL11_s3_url[0], mode='rb')\n",
    "    \n",
    "# load ICESat-2 ATL11 data\n",
    "IS2_atl11_mds,IS2_atl11_attrs,IS2_atl11_pairs = is2tk.io.ATL11.read_granule(\n",
    "    ATL11_granule, ATTRIBUTES=True)\n",
    "\n",
    "# extract parameters from ICESat-2 ATLAS HDF5 file name\n",
    "rx = re.compile(r'(processed_)?(ATL\\d{2})_(\\d{4})(\\d{2})_(\\d{2})(\\d{2})_'\n",
    "    r'(\\d{3})_(\\d{2})(.*?).h5$')\n",
    "SUB,PRD,TRK,GRAN,SCYC,ECYC,RL,VERS,AUX = rx.findall(ATL11_id[0]).pop()"
   ]
  },
  {
   "cell_type": "code",
   "execution_count": null,
   "metadata": {
    "tags": []
   },
   "outputs": [],
   "source": [
    "%matplotlib widget\n",
    "# create scatter plot of segment data versus along-track distance\n",
    "f3,ax3 = plt.subplots(num=3, figsize=(10,10))\n",
    "\n",
    "# data for beam pair ptx\n",
    "ptx = 'pt2'\n",
    "val = IS2_atl11_mds[ptx]\n",
    "attrs = IS2_atl11_attrs[ptx]\n",
    "\n",
    "# ATL11 reference points\n",
    "Segment_ID = val['ref_pt']\n",
    "# number of ATL11 segments\n",
    "n_seg,n_cycles = val['delta_time'].shape\n",
    "# average transmit time of the segment\n",
    "delta_time = val['delta_time']\n",
    "# longitude and latitude\n",
    "longitude = val['longitude']\n",
    "latitude = val['latitude']\n",
    "# slope corrected land ice heights\n",
    "h_corr = np.ma.array(val['h_corr'], fill_value=attrs['h_corr']['_FillValue'])\n",
    "h_corr.mask = (h_corr.data == h_corr.fill_value)\n",
    "# only include high-quality segments\n",
    "h_corr.mask |= (val['quality_summary'] != 0)\n",
    "\n",
    "# segment geolocation and elevation for each cycle\n",
    "colors = plt.cm.viridis(np.linspace(0,1,n_cycles))\n",
    "for i,c in enumerate(val['cycle_number']):\n",
    "    # along-track and across-track distance\n",
    "    x_atc = val['cycle_stats']['x_atc'][:,i]\n",
    "    ax3.plot(x_atc, h_corr[:,i], marker='.',\n",
    "        ms=5, lw=0, color=colors[i], label=f'Cycle {c:d}')\n",
    "\n",
    "# set title and labels\n",
    "ax3.set_xlabel('Along-Track Distance [m]')\n",
    "ax3.set_ylabel('Elevation above WGS84 Ellipsoid [m]')\n",
    "ax3.set_title(f'{PRD} RGT:{TRK} Region: {GRAN} PT: {ptx}')\n",
    "# create legend\n",
    "lgd = ax3.legend(loc=3, frameon=False)\n",
    "lgd.get_frame().set_alpha(1.0)\n",
    "for line in lgd.get_lines():\n",
    "    line.set_linewidth(6)\n",
    "    \n",
    "# adjust the figure axes\n",
    "f3.subplots_adjust(left=0.07, right=0.98, bottom=0.05, top=0.95)\n",
    "# show the plot\n",
    "plt.show()"
   ]
  },
  {
   "cell_type": "markdown",
   "metadata": {
    "user_expressions": []
   },
   "source": [
    "#### ATL15 -Gridded Land Ice Height Change Data\n",
    "- Time-variable land ice height change and change rate at 1km, 10km, 20km and 40km spatial resolutions\n",
    "- Relative elevation provided at quarter-annual time resolution\n",
    "- Height change rate at quarter-annual, annual and multi-annual time resolutions\n",
    "\n",
    "All ATL11 along-track data is combined in a constrained least-squares solution to provided gridded fields that are smoothly interpolated between tracks. The solution provides the reference elevation at a time point (ATL14) and the relative elevation change at the quarter-annual time points (ATL15). More information about ATL14 and ATL15 can be found in the [ATBD](https://nsidc.org/sites/default/files/documents/technical-reference/icesat2_atl14_atl15_atbd_r002.pdf) provided by NSIDC"
   ]
  },
  {
   "cell_type": "code",
   "execution_count": null,
   "metadata": {
    "tags": []
   },
   "outputs": [],
   "source": [
    "# query CMR for path to ATL15 Release-02 granule\n",
    "ATL15_id, ATL15_s3_url = IS2view.utilities.cmr(product='ATL15',\n",
    "    release=2, regions='AA', resolutions='01km',\n",
    "    provider=IS2view.utilities._s3_providers['nsidc'],\n",
    "    endpoint='s3', request_type='application/x-netcdf')\n",
    "# access ATL15 file from NSIDC\n",
    "# ATL15_granule = session.open(ATL15_s3_url[0], mode='rb')\n",
    "ATL15_granule = f'IS2view/notebooks/{ATL15_id[0]}'\n",
    "# read ATL15 granule\n",
    "ds = IS2view.io.from_file(ATL15_granule, group='delta_h', format='nc')\n",
    "ds"
   ]
  },
  {
   "cell_type": "code",
   "execution_count": null,
   "metadata": {},
   "outputs": [],
   "source": [
    "%matplotlib inline\n",
    "# create geoJSON-like data from ATL11 coordinates\n",
    "geometry = dict(type='LineString', coordinates=list(zip(longitude, latitude)))\n",
    "feature = dict(type='Feature', id=0, geometry=geometry)\n",
    "# plot ATL15 relative heights (in reference to 2020.0) along the ATL11 line\n",
    "ds.timeseries.plot(feature, variable='delta_h', cmap=plt.cm.viridis, legend=True)"
   ]
  },
  {
   "cell_type": "code",
   "execution_count": null,
   "metadata": {},
   "outputs": [],
   "source": []
  }
 ],
 "metadata": {
  "interpreter": {
   "hash": "31f2aee4e71d21fbe5cf8b01ff0e069b9275f58929596ceb00d14d90e3e16cd6"
  },
  "kernelspec": {
   "display_name": "Python 3 (ipykernel)",
   "language": "python",
   "name": "python3"
  },
  "language_info": {
   "codemirror_mode": {
    "name": "ipython",
    "version": 3
   },
   "file_extension": ".py",
   "mimetype": "text/x-python",
   "name": "python",
   "nbconvert_exporter": "python",
   "pygments_lexer": "ipython3",
   "version": "3.10.12"
  }
 },
 "nbformat": 4,
 "nbformat_minor": 4
}
