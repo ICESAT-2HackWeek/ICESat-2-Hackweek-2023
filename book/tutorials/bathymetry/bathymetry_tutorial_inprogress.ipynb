{
 "cells": [
  {
   "cell_type": "markdown",
   "id": "bcf24655-2a6a-4144-a281-bb9720474f57",
   "metadata": {
    "tags": [],
    "user_expressions": []
   },
   "source": [
    "# ICESat-2 Bathymetry Tutorial - Hackweek 2023"
   ]
  },
  {
   "cell_type": "markdown",
   "id": "970fb6f1-51b3-4fd7-87ab-402b23394ee3",
   "metadata": {
    "user_expressions": []
   },
   "source": [
    "Building the bathymetry tutorial starting from the SlideRule Grand Mesa demo. Currently in progress.\n",
    "\n",
    "Jonathan Markel"
   ]
  },
  {
   "cell_type": "code",
   "execution_count": null,
   "id": "6ef0bca8",
   "metadata": {
    "tags": []
   },
   "outputs": [],
   "source": [
    "import numpy as np\n",
    "import matplotlib.pyplot as plt\n",
    "from sliderule import sliderule, icesat2, earthdata"
   ]
  },
  {
   "cell_type": "code",
   "execution_count": null,
   "id": "13d96296",
   "metadata": {
    "tags": []
   },
   "outputs": [],
   "source": [
    "url = \"slideruleearth.io\"\n",
    "icesat2.init(url, verbose=False)\n",
    "asset = \"icesat2\""
   ]
  },
  {
   "cell_type": "markdown",
   "id": "7b52165b-456f-4aa6-86d1-6bda0d6da758",
   "metadata": {
    "user_expressions": []
   },
   "source": [
    "## Data Access"
   ]
  },
  {
   "cell_type": "markdown",
   "id": "3e058070-7232-431c-bd59-01e06d54c57c",
   "metadata": {
    "user_expressions": []
   },
   "source": [
    "### Identifying bathymetry data using OpenAltimetry"
   ]
  },
  {
   "cell_type": "markdown",
   "id": "d8f47425-ffe6-4dfd-9882-47dd8abd83d7",
   "metadata": {
    "user_expressions": []
   },
   "source": [
    "Using the Shark Bay track that can be found on OpenAltimetry [here](https://openaltimetry.org/data/icesat2/elevation?minx=112.75162305009795&miny=-26.877032522887525&maxx=114.30196711853347&maxy=-24.38549436684328&zoom_level=8&beams=1,2,3,4,5,6&tracks=544&date=2022-04-27&product=ATL08&mapType=geographic&tab=photon).\n",
    "\n",
    "Note you may need to log in to EarthData and select 'view all photons' to see bathymetry returns in OpenAltimetry."
   ]
  },
  {
   "cell_type": "markdown",
   "id": "4c53b258-06f3-41e6-bacb-47775bdc2aca",
   "metadata": {
    "tags": [],
    "user_expressions": []
   },
   "source": [
    "### Querying SlideRule With Bounding Box\n",
    "Including bathymetry specific ATL03 fields."
   ]
  },
  {
   "cell_type": "code",
   "execution_count": null,
   "id": "f3be3845-d104-468c-8aae-dddd098ab1e0",
   "metadata": {
    "tags": []
   },
   "outputs": [],
   "source": [
    "from ipyleaflet import Map, DrawControl, basemaps\n",
    "\n",
    "# default bounding box\n",
    "bbox_coords = []\n",
    "\n",
    "def handle_draw(target, action, geo_json):\n",
    "    if action == 'created':\n",
    "        coords = geo_json['geometry']['coordinates'][0]\n",
    "        bbox_coords.append(coords)\n",
    "\n",
    "# setting up the map\n",
    "m = Map(basemap=basemaps.Esri.WorldImagery, \n",
    "        center=(-26, 113.5), # Shark Bay, Australia\n",
    "        zoom=9, \n",
    "        scroll_wheel_zoom=True)\n",
    "\n",
    "# simplifying user options - can be used to enable polygons, line drawings, etc\n",
    "dc = DrawControl(circlemarker={}, polyline={}, polygon={})\n",
    "\n",
    "dc.rectangle = {\n",
    "    \"shapeOptions\": {\n",
    "        \"fillColor\": \"#bf5700\",\n",
    "        \"color\": \"#bf5700\",\n",
    "        \"fillOpacity\": 0.5\n",
    "    }\n",
    "}\n",
    "dc.on_draw(handle_draw)\n",
    "m.add_control(dc)\n",
    "m"
   ]
  },
  {
   "cell_type": "code",
   "execution_count": null,
   "id": "435fde1f-c11c-4f2a-8bbc-8b5059cbafc4",
   "metadata": {
    "tags": []
   },
   "outputs": [],
   "source": [
    "# default bounding box for demo\n",
    "bbox_coords = [[[113, -26.1],\n",
    "  [113, -25.6],\n",
    "  [114, -25.6],\n",
    "  [114, -26.1],\n",
    "  [113, -26.1]]]"
   ]
  },
  {
   "cell_type": "code",
   "execution_count": null,
   "id": "c248b0aa-9157-49c3-a940-f4f91cfcaa96",
   "metadata": {
    "tags": []
   },
   "outputs": [],
   "source": [
    "display(bbox_coords)"
   ]
  },
  {
   "cell_type": "code",
   "execution_count": null,
   "id": "2048c860-7a0f-40de-8569-6e72ecdeb944",
   "metadata": {
    "tags": []
   },
   "outputs": [],
   "source": [
    "from shapely import Polygon\n",
    "import geopandas as gpd\n",
    "\n",
    "polygon = Polygon(bbox_coords[0])\n",
    "\n",
    "bbox_gdf = gpd.GeoDataFrame(geometry=[polygon], crs=\"EPSG:4326\")\n",
    "\n",
    "utm_crs = bbox_gdf.estimate_utm_crs()\n",
    "\n",
    "display(utm_crs) # full crs info\n",
    "# print(utm_crs) # EPSG:X"
   ]
  },
  {
   "cell_type": "code",
   "execution_count": null,
   "id": "c079d2c7-ff82-414b-82aa-ce598ef0eaeb",
   "metadata": {
    "tags": []
   },
   "outputs": [],
   "source": [
    "# date of track (pre-identified via openaltimetry), \n",
    "target_date = '2022-04-27'\n",
    "day_window = 1 # days on either side to query\n",
    "\n",
    "# Specific RGT to analyze\n",
    "target_rgt = 544"
   ]
  },
  {
   "cell_type": "code",
   "execution_count": null,
   "id": "8671ac90-dc28-4000-a584-3b4b29b14a83",
   "metadata": {
    "tags": []
   },
   "outputs": [],
   "source": [
    "from datetime import datetime, timedelta"
   ]
  },
  {
   "cell_type": "code",
   "execution_count": null,
   "id": "3605d245",
   "metadata": {
    "tags": []
   },
   "outputs": [],
   "source": [
    "%%time\n",
    "\n",
    "# build sliderule parameters for ATL03 subsetting request\n",
    "# SRT_LAND = 0\n",
    "# SRT_OCEAN = 1\n",
    "# SRT_SEA_ICE = 2\n",
    "# SRT_LAND_ICE = 3\n",
    "# SRT_INLAND_WATER = 4\n",
    "\n",
    "parms = {\n",
    "    # processing parameters\n",
    "    \"srt\": icesat2.SRT_LAND,\n",
    "    \"len\": 20,\n",
    "    # classification and checks\n",
    "    # still return photon segments that fail checks\n",
    "    \"pass_invalid\": True, \n",
    "    # all photons\n",
    "    \"cnf\": -2, \n",
    "    # all land classification flags\n",
    "    \"atl08_class\": [\"atl08_noise\", \"atl08_ground\", \"atl08_canopy\", \"atl08_top_of_canopy\", \"atl08_unclassified\"],\n",
    "    # all photons\n",
    "    \"yapc\": dict(knn=0, win_h=6, win_x=11, min_ph=4, score=0), \n",
    "    \n",
    "    # extra fields from ATL03 gtxx/geolocation or gtxx/geophys_corr channels\n",
    "    \"atl03_geo_fields\": [\"ref_azimuth\", \"ref_elev\"],\n",
    "    \n",
    "    # extra fields via ATL03 \"gtxx/heights\" (see atl03 data dictionary)\n",
    "    \"atl03_ph_fields\": [] # \n",
    "}\n",
    "\n",
    "# ICESat-2 data release\n",
    "release = '006'\n",
    "\n",
    "# region of interest\n",
    "# reformatting as dict - necessary? tbd\n",
    "coords_arr = np.array(bbox_coords[0])\n",
    "\n",
    "poly = []\n",
    "for point in coords_arr:\n",
    "    poly.append({\n",
    "        'lat': point[1],\n",
    "        'lon': point[0]\n",
    "    })\n",
    "    \n",
    "# time bounds for CMR query\n",
    "\n",
    "# Convert to datetime\n",
    "target_dt = datetime.strptime(target_date, '%Y-%m-%d')\n",
    "\n",
    "# Calculate dates before and after \n",
    "time_start = target_dt - timedelta(days=day_window)\n",
    "time_end = target_dt + timedelta(days=day_window)\n",
    "\n",
    "# Convert back to string\n",
    "time_start = time_start.strftime('%Y-%m-%d')  \n",
    "time_end = time_end.strftime('%Y-%m-%d')\n",
    "\n",
    "# find granule for each region of interest\n",
    "granules_list = earthdata.cmr(short_name='ATL03', polygon=poly, time_start=time_start, time_end=time_end, version=release)\n",
    "\n",
    "# create an empty geodataframe\n",
    "parms[\"poly\"] = poly\n",
    "gdf = icesat2.atl03sp(parms, asset=asset, version=release, resources=granules_list)"
   ]
  },
  {
   "cell_type": "code",
   "execution_count": null,
   "id": "f3af6613-c9e6-4cfd-9034-49c0126ccb95",
   "metadata": {
    "tags": []
   },
   "outputs": [],
   "source": [
    "gdf.columns"
   ]
  },
  {
   "cell_type": "code",
   "execution_count": null,
   "id": "6e7c90b1-579a-4f4e-a6ab-0c41c1195963",
   "metadata": {
    "tags": []
   },
   "outputs": [],
   "source": [
    "gdf.head()"
   ]
  },
  {
   "cell_type": "markdown",
   "id": "9ac6a168-a8df-46ed-bdcb-64633dedf0da",
   "metadata": {
    "user_expressions": []
   },
   "source": [
    "### Reduce GeoDataFrame to plot a single beam\n",
    "- Convert coordinate reference system to compound projection"
   ]
  },
  {
   "cell_type": "code",
   "execution_count": null,
   "id": "38a6f5b5-08f0-45ff-8d8d-ab392d653a4d",
   "metadata": {
    "tags": []
   },
   "outputs": [],
   "source": [
    "def reduce_dataframe(gdf, RGT=None, GT=None, track=None, pair=None, cycle=None, beam='', crs=4326):\n",
    "    # convert coordinate reference system\n",
    "    D3 = gdf.to_crs(crs)\n",
    "    # reduce to reference ground track\n",
    "    if RGT is not None:\n",
    "        D3 = D3[D3[\"rgt\"] == RGT]\n",
    "        \n",
    "    # reduce to ground track (gt[123][lr]), track ([123]), or pair (l=0, r=1) \n",
    "    gtlookup = {icesat2.GT1L: 1, icesat2.GT1R: 1, icesat2.GT2L: 2, icesat2.GT2R: 2, icesat2.GT3L: 3, icesat2.GT3R: 3}\n",
    "    pairlookup = {icesat2.GT1L: 0, icesat2.GT1R: 1, icesat2.GT2L: 0, icesat2.GT2R: 1, icesat2.GT3L: 0, icesat2.GT3R: 1}\n",
    "    if GT is not None:\n",
    "        D3 = D3[(D3[\"track\"] == gtlookup[GT]) & (D3[\"pair\"] == pairlookup[GT])]\n",
    "    if track is not None:\n",
    "        D3 = D3[D3[\"track\"] == track]\n",
    "    if pair is not None:\n",
    "        D3 = D3[D3[\"pair\"] == pair]\n",
    "        \n",
    "    # reduce to weak or strong beams\n",
    "    # tested on cycle 11, where the strong beam in the pair matches the spacecraft orientation.\n",
    "    # Need to check on other cycles\n",
    "    if (beam == 'strong'):\n",
    "        D3 = D3[D3['sc_orient'] == D3['pair']]\n",
    "    elif (beam == 'weak'):\n",
    "        D3 = D3[D3['sc_orient'] != D3['pair']]\n",
    "        \n",
    "    # reduce to cycle\n",
    "    if cycle is not None:\n",
    "        D3 = D3[D3[\"cycle\"] == cycle]\n",
    "    # otherwise, return both beams\n",
    "    return D3"
   ]
  },
  {
   "cell_type": "code",
   "execution_count": null,
   "id": "5afec4e1-44c0-44b6-b9dd-7eb28375dfce",
   "metadata": {
    "tags": []
   },
   "outputs": [],
   "source": [
    "beam_type = 'strong'\n",
    "project_srs = f\"{str(utm_crs)}+EPSG:3855\" # best estimate UTM zone + EGM08 geoid\n",
    "D3 = reduce_dataframe(gdf, \n",
    "                      RGT=target_rgt, \n",
    "                      track=1, \n",
    "                      beam='strong', \n",
    "                      crs=project_srs)"
   ]
  },
  {
   "cell_type": "markdown",
   "id": "60948f77-3293-4fbe-99ac-0fe64b3ae3bd",
   "metadata": {
    "user_expressions": []
   },
   "source": [
    "### Compute photon along-track distance from start of data"
   ]
  },
  {
   "cell_type": "code",
   "execution_count": null,
   "id": "c8995daf-1afe-4aef-a54e-f6e5d3d172c3",
   "metadata": {
    "tags": []
   },
   "outputs": [],
   "source": [
    "d0=np.min(D3['segment_dist'])\n",
    "D3['along_track_meters'] = D3['segment_dist']+D3['distance']-d0"
   ]
  },
  {
   "cell_type": "markdown",
   "id": "455d6e79-b456-47e9-80bb-017dba2ce6cc",
   "metadata": {
    "user_expressions": []
   },
   "source": [
    "## Data Inspection"
   ]
  },
  {
   "cell_type": "markdown",
   "id": "af0cae47-66a2-4e3c-bec4-8b172d807513",
   "metadata": {
    "user_expressions": []
   },
   "source": [
    "### Visualize on interactive map"
   ]
  },
  {
   "cell_type": "code",
   "execution_count": null,
   "id": "00674e46-89f3-4c3f-8f27-090c4f79deaa",
   "metadata": {
    "tags": []
   },
   "outputs": [],
   "source": [
    "from ipyleaflet import Polyline"
   ]
  },
  {
   "cell_type": "code",
   "execution_count": null,
   "id": "d1e80cff-9efe-4d0b-86f0-c07034fc62e7",
   "metadata": {
    "tags": []
   },
   "outputs": [],
   "source": [
    "D3_wgs = D3.to_crs('EPSG:4326')\n",
    "ph_loc_list = list(zip(D3_wgs['geometry'].x.values, D3_wgs['geometry'].y.values))"
   ]
  },
  {
   "cell_type": "code",
   "execution_count": null,
   "id": "258b6063-cc54-42f1-b38f-b8e01a82bb14",
   "metadata": {
    "tags": []
   },
   "outputs": [],
   "source": [
    "ground_track = Polyline(locations=ph_loc_list, \n",
    "                         color='red', weight=3)\n",
    "\n",
    "m.add_layer(ground_track)\n",
    "m"
   ]
  },
  {
   "cell_type": "markdown",
   "id": "15dd2545-818a-4cd3-aa1b-85e90be1e065",
   "metadata": {
    "user_expressions": []
   },
   "source": [
    "### Plot the ATL08 classifications"
   ]
  },
  {
   "cell_type": "code",
   "execution_count": null,
   "id": "285ea134-0353-4236-967c-7741c61a718f",
   "metadata": {
    "tags": []
   },
   "outputs": [],
   "source": [
    "ylim = [-100, 50]"
   ]
  },
  {
   "cell_type": "code",
   "execution_count": null,
   "id": "80e69cb2",
   "metadata": {
    "tags": []
   },
   "outputs": [],
   "source": [
    "plt.figure(figsize=[8,6])\n",
    "\n",
    "colors={0:['gray', 'noise'], \n",
    "        4:['gray','unclassified'],  \n",
    "        2:['green','canopy'], \n",
    "        3:['lime', 'canopy_top'], \n",
    "        1:['brown', 'ground']}\n",
    "\n",
    "for class_val, color_name in colors.items():\n",
    "    ii=D3['atl08_class']==class_val\n",
    "    plt.plot(D3['along_track_meters'][ii], D3['height'][ii],'o', \n",
    "         markersize=.5, alpha=0.8, color=color_name[0], label=color_name[1])\n",
    "    \n",
    "hl=plt.legend(loc=3, frameon=False, markerscale=5)\n",
    "\n",
    "plt.gca().set_ylim(ylim)\n",
    "\n",
    "plt.ylabel('height, m')\n",
    "plt.xlabel('$x_{ATC}$, m');"
   ]
  },
  {
   "cell_type": "markdown",
   "id": "a7b578b0-393b-4812-bee7-08749311d4b4",
   "metadata": {
    "user_expressions": []
   },
   "source": [
    "### Plot the YAPC classifications"
   ]
  },
  {
   "cell_type": "code",
   "execution_count": null,
   "id": "2ec925a6-161c-4eb8-bfd8-4aa0a785f124",
   "metadata": {
    "tags": []
   },
   "outputs": [],
   "source": [
    "# plt.figure(figsize=[10,6])\n",
    "\n",
    "# ii=np.argsort(D3['yapc_score'])\n",
    "\n",
    "# plt.scatter(D3['along_track_meters'],\n",
    "#     D3['height'][ii], 2, c=D3['yapc_score'][ii],\n",
    "#     vmin=10, vmax=255, cmap='plasma_r')\n",
    "\n",
    "# plt.colorbar(label='YAPC score')\n",
    "\n",
    "# plt.gca().set_ylim(ylim)\n",
    "\n",
    "# plt.ylabel('height, m')\n",
    "\n",
    "# plt.xlabel('$x_{ATC}$, m');"
   ]
  },
  {
   "cell_type": "markdown",
   "id": "414a323f-7560-4c82-88ac-9fafa7ab4326",
   "metadata": {
    "user_expressions": []
   },
   "source": [
    "### Plot the ATL03 signal confidence values"
   ]
  },
  {
   "cell_type": "code",
   "execution_count": null,
   "id": "939c1785-f786-45b9-9fbe-3ff7064ac457",
   "metadata": {},
   "outputs": [],
   "source": [
    "# TBD"
   ]
  },
  {
   "cell_type": "markdown",
   "id": "31e3e7a5-46fa-4322-ae28-34a7fcd25712",
   "metadata": {
    "tags": [],
    "user_expressions": []
   },
   "source": [
    "## Data Analysis"
   ]
  },
  {
   "cell_type": "code",
   "execution_count": null,
   "id": "700106b0-b29d-4ed7-aa1a-2ac03ca46578",
   "metadata": {},
   "outputs": [],
   "source": []
  }
 ],
 "metadata": {
  "kernelspec": {
   "display_name": "Python 3 (ipykernel)",
   "language": "python",
   "name": "python3"
  },
  "language_info": {
   "codemirror_mode": {
    "name": "ipython",
    "version": 3
   },
   "file_extension": ".py",
   "mimetype": "text/x-python",
   "name": "python",
   "nbconvert_exporter": "python",
   "pygments_lexer": "ipython3",
   "version": "3.10.11"
  }
 },
 "nbformat": 4,
 "nbformat_minor": 5
}
