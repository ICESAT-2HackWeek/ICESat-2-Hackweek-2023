{
 "cells": [
  {
   "cell_type": "markdown",
   "id": "8bb46530-715e-49e0-9226-64527befb934",
   "metadata": {
    "user_expressions": []
   },
   "source": [
    "# Sliderule Output to S3\n",
    "\n",
    "```{admonition} Learning Objectives\n",
    "- basics of Parquet and Geoparquet formats\n",
    "- how to output Sliderule results as parquet files on S3\n",
    "- how to work with outputs on S3\n",
    "```"
   ]
  },
  {
   "cell_type": "code",
   "execution_count": null,
   "id": "78baeb2f-9e7f-470f-a3d2-473745e788c4",
   "metadata": {
    "tags": []
   },
   "outputs": [],
   "source": [
    "from sliderule import sliderule, icesat2\n",
    "import geopandas as gpd\n",
    "import s3fs\n",
    "import os\n",
    "import boto3"
   ]
  },
  {
   "cell_type": "markdown",
   "id": "45e2639a-58c7-40f1-bd36-e197aec390bf",
   "metadata": {
    "user_expressions": []
   },
   "source": [
    "```{tip}\n",
    "Parquet is cloud-optimized format. At a very basic level, it is for tabular data. Unlike CSV files which are stored as plain text and writen row-wise, Parquet is a columnar binary format that is well-suited to hosting on S3 for data analysis.\n",
    "```\n",
    "\n",
    "Sliderule documentation has an extensive description of [Parquet](https://slideruleearth.io/web/rtd/user_guide/GeoParquet.html). And a [tutorial](https://slideruleearth.io/web/rtd/tutorials/user/geoparquet_output.html) with code examples! \n",
    "\n",
    "Here we will show a basic example to output this data to S3. As this example was put together for ICESat-2 Hackweek 2023, we are using CryoCloud JupyterHub which has a preconfigured S3 bucket."
   ]
  },
  {
   "cell_type": "markdown",
   "id": "9a1f8179-f474-413b-b5f5-1288961c1d35",
   "metadata": {
    "user_expressions": []
   },
   "source": [
    "## Set Area of Interest\n",
    "\n",
    "We will use a geojson file from the [sliderule GitHub Repository over Grand Mesa, Colorado. "
   ]
  },
  {
   "cell_type": "code",
   "execution_count": null,
   "id": "f9611bb8-18d6-46e8-8892-7b5cb63f1c6d",
   "metadata": {
    "tags": []
   },
   "outputs": [],
   "source": [
    "gfa = gpd.read_file('https://raw.githubusercontent.com/ICESat2-SlideRule/sliderule-python/main/data/grandmesa.geojson')"
   ]
  },
  {
   "cell_type": "code",
   "execution_count": null,
   "id": "5050093d-7790-4c3a-9a8d-a24d4a7d0b24",
   "metadata": {
    "tags": []
   },
   "outputs": [],
   "source": [
    "folium_map = gfa.explore(tiles=\"Stamen Terrain\", \n",
    "                         style_kwds=dict(fill=False, color='magenta'),\n",
    "                        )\n",
    "folium_map"
   ]
  },
  {
   "cell_type": "markdown",
   "id": "05d456f9-ec41-403b-a3b9-50092430582f",
   "metadata": {
    "user_expressions": []
   },
   "source": [
    "## Configure SlideRule"
   ]
  },
  {
   "cell_type": "code",
   "execution_count": null,
   "id": "bd1c3c92-207d-4e2b-841a-d0111fbfb364",
   "metadata": {
    "tags": []
   },
   "outputs": [],
   "source": [
    "# Connect to server\n",
    "icesat2.init(\"slideruleearth.io\")"
   ]
  },
  {
   "cell_type": "code",
   "execution_count": null,
   "id": "e3681cd3-43cb-4d48-a3ee-c3b6e618f156",
   "metadata": {
    "tags": []
   },
   "outputs": [],
   "source": [
    "# Sliderule Processing Parameters\n",
    "parms = {\n",
    "    \"poly\": sliderule.toregion(gfa)[\"poly\"],\n",
    "    \"srt\": icesat2.SRT_LAND,\n",
    "    \"cnf\": icesat2.CNF_SURFACE_HIGH,\n",
    "    \"len\": 40.0,\n",
    "    \"res\": 20.0,\n",
    "    \"maxi\": 6\n",
    "}"
   ]
  },
  {
   "cell_type": "markdown",
   "id": "6b0d636f-4d30-4f25-a849-98df986084db",
   "metadata": {
    "user_expressions": []
   },
   "source": [
    "### Get Temporary AWS Credentials (JupyterHub)\n",
    "\n",
    "```{warning}\n",
    "This will only work on CryoCloud JupyterHub\n",
    "```"
   ]
  },
  {
   "cell_type": "code",
   "execution_count": null,
   "id": "641749d5-2eb5-40ac-839c-2c10660fe9bf",
   "metadata": {
    "tags": []
   },
   "outputs": [],
   "source": [
    "# Get Temporary AWS Credentials on CryoCloud JupyterHub\n",
    "client = boto3.client('sts')\n",
    "# https://boto3.amazonaws.com/v1/documentation/api/latest/reference/services/sts/client/assume_role_with_web_identity.html\n",
    "\n",
    "with open(os.environ['AWS_WEB_IDENTITY_TOKEN_FILE']) as f:\n",
    "    TOKEN = f.read()\n",
    "\n",
    "response = client.assume_role_with_web_identity(\n",
    "    RoleArn=os.environ['AWS_ROLE_ARN'],\n",
    "    RoleSessionName=os.environ['JUPYTERHUB_CLIENT_ID'],\n",
    "    WebIdentityToken=TOKEN,\n",
    "    DurationSeconds=3600\n",
    ")\n",
    "\n",
    "ACCESS_KEY_ID = response['Credentials']['AccessKeyId']\n",
    "SECRET_ACCESS_KEY_ID = response['Credentials']['SecretAccessKey']\n",
    "SESSION_TOKEN = response['Credentials']['SessionToken']"
   ]
  },
  {
   "cell_type": "markdown",
   "id": "462acd6d-7529-4954-8990-b77c3423fa39",
   "metadata": {
    "user_expressions": []
   },
   "source": [
    "### Configure Parquet and S3 Output"
   ]
  },
  {
   "cell_type": "code",
   "execution_count": null,
   "id": "cdc6ea3e-4ee4-48c3-8fb5-09dc93e8a65d",
   "metadata": {
    "tags": []
   },
   "outputs": [],
   "source": [
    "S3_OUTPUT = 's3://nasa-cryo-scratch/sliderule-example/grandmesa.parquet'\n",
    "\n",
    "parms[\"output\"] = {\n",
    "    \"path\": S3_OUTPUT, \n",
    "    \"format\": \"parquet\", \n",
    "    \"open_on_complete\": False,\n",
    "    \"region\": \"us-west-2\",\n",
    "    \"credentials\": {\n",
    "         \"aws_access_key_id\": ACCESS_KEY_ID,\n",
    "         \"aws_secret_access_key\": SECRET_ACCESS_KEY_ID,\n",
    "         \"aws_session_token\": SESSION_TOKEN\n",
    "     }\n",
    "}"
   ]
  },
  {
   "cell_type": "markdown",
   "id": "118072a8-714e-4577-a9b6-06a05780565e",
   "metadata": {
    "user_expressions": []
   },
   "source": [
    "### Run SlideRule processing"
   ]
  },
  {
   "cell_type": "code",
   "execution_count": null,
   "id": "9225b944-ec31-481f-a174-c2f1a85d0ac9",
   "metadata": {
    "tags": []
   },
   "outputs": [],
   "source": [
    "%%time\n",
    "\n",
    "output_path = icesat2.atl06p(parms,  version='006')\n",
    "output_path"
   ]
  },
  {
   "cell_type": "markdown",
   "id": "ad0fa228-c132-4896-9a3a-786e72e2510d",
   "metadata": {
    "user_expressions": []
   },
   "source": [
    "## Read output from S3\n"
   ]
  },
  {
   "cell_type": "code",
   "execution_count": null,
   "id": "445d71c4-d80c-454f-a95c-df9a0ed4be8e",
   "metadata": {
    "tags": []
   },
   "outputs": [],
   "source": [
    "gf = gpd.read_parquet(output_path)"
   ]
  },
  {
   "cell_type": "code",
   "execution_count": null,
   "id": "bd844374-840a-4f3d-b650-c428260778d6",
   "metadata": {
    "tags": []
   },
   "outputs": [],
   "source": [
    "print(\"Start:\", gf.index.min().strftime('%Y-%m-%d'))\n",
    "print(\"End:\", gf.index.max().strftime('%Y-%m-%d'))\n",
    "print(\"Reference Ground Tracks: {}\".format(gf[\"rgt\"].unique()))\n",
    "print(\"Cycles: {}\".format(gf[\"cycle\"].unique()))\n",
    "print(\"Elevation Measurements: {} \".format(gf.shape[0]))\n",
    "gf.head(2)"
   ]
  },
  {
   "cell_type": "markdown",
   "id": "dda3c1da-399f-434a-bc65-dcec907a491d",
   "metadata": {
    "user_expressions": []
   },
   "source": [
    "100,000+ is a lot of points to visualize! Let's randomly sample 1000 of them and plot on our map"
   ]
  },
  {
   "cell_type": "code",
   "execution_count": null,
   "id": "5f9d356c-687b-424d-a3d8-51d856d2addc",
   "metadata": {
    "tags": []
   },
   "outputs": [],
   "source": [
    "# Need to turn timestamps into strings first\n",
    "points = gf.sample(1000).reset_index()\n",
    "points['time'] = points.time.dt.strftime('%Y-%m-%d')\n",
    "points.explore(column='h_mean', m=folium_map)"
   ]
  },
  {
   "cell_type": "markdown",
   "id": "e43c34aa-99b1-463e-980e-3c1adbd98b0e",
   "metadata": {
    "user_expressions": []
   },
   "source": [
    "## Summary\n",
    "\n",
    "We processed all ATL03 v006 data covering Grand Mesa, Colorado spanning 2018-10-16 to 2023-03-07 to ATL06-SR elevations. We output our results in GeoParquet format to an AWS S3 bucket and quickly visualized some of the results."
   ]
  }
 ],
 "metadata": {
  "kernelspec": {
   "display_name": "Python 3 (ipykernel)",
   "language": "python",
   "name": "python3"
  },
  "language_info": {
   "codemirror_mode": {
    "name": "ipython",
    "version": 3
   },
   "file_extension": ".py",
   "mimetype": "text/x-python",
   "name": "python",
   "nbconvert_exporter": "python",
   "pygments_lexer": "ipython3",
   "version": "3.10.11"
  }
 },
 "nbformat": 4,
 "nbformat_minor": 5
}
