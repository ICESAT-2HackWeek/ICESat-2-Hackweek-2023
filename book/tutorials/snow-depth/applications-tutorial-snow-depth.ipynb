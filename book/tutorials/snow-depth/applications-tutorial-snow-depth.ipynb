{
 "cells": [
  {
   "cell_type": "markdown",
   "id": "suffering-union",
   "metadata": {
    "user_expressions": []
   },
   "source": [
    "# Snow Depth - ICESat-2 Applications Tutorial\n",
    "\n",
    "```{admonition} Learning Objectives\n",
    "- gain experience in working with SlideRule to access and pre-process ICESat-2 data\n",
    "- learn how use projections and interpolation to compare ICESat-2 track data with gridded raster products\n",
    "- develop a general understanding of how to measure snow depths with LiDAR, and learn about opportunities and challenges when using ICEsat-2 along-track products\n",
    "```"
   ]
  },
  {
   "cell_type": "markdown",
   "id": "3ccacab6-67d7-4054-951b-08d100611d5f",
   "metadata": {
    "user_expressions": []
   },
   "source": [
    "## Background\n",
    "### How do we measure snow depth with LiDAR?\n",
    "LiDAR is a useful tool for colecting high resolution snow depth maps over large spacial areas. \n",
    "\n",
    "Snow depth is mesured from LiDAR by differencing a snow-free LiDAR map from snow-covered LiDAR map of the same area of interest.\n",
    "\n",
    "\n",
    "<div style=\"text-align: center;\">\n",
    "<img src=\"Images/DeemsLidarDifferencing.png\" width=\"50%\" /> \n",
    "</div>\n",
    "\n",
    "*Image: Snow depth differencing calculation diagram from Deems et al.* \n",
    "<div style=\"text-align: center;\">\n",
    "<img src=\"Images/Deems_snowpack_example.png\" width=\"50%\" />\n",
    "</div>\n",
    "\n",
    "*Image: Example snow pack map from Deems et al.*\n"
   ]
  },
  {
   "cell_type": "markdown",
   "id": "193c9398-0c25-4db4-909c-634e49c2046b",
   "metadata": {
    "user_expressions": []
   },
   "source": [
    "### Can we do this with ICESat-2?\n",
    "Yes! By differencing snow-covered ICESat-2 transects from snow-free maps we can calculate snow depths!\n",
    "\n",
    "Calculating snow depth from ICESat-2 is a little different from other LiDAR snow depth methods as ICESat-2 is a transect of points not gridded raster data and ICESat-2 tracks do not repeat regularly in the mid-latitudes. So we need a independently colected snow-free map of our region of interest for comparison to ICESat-2 and we need to put our snow-free data in a form which it can be differenced from snow-on ICESat-2 data.\n",
    "\n",
    "In this tutorial we will show an example of how to compare ICESat-2 data to raster data.\n",
    "\n",
    "<div style=\"text-align: center;\">\n",
    "<img src=\"Images/Zikan_DryCreek_map.png\" width=\"50%\" />\n",
    "</div>\n",
    "\n",
    "*Image: Example of ICESat-2 tracks over a snow-free digital terrain model of Dry Creek Experimental Watershed (Zikan)*"
   ]
  },
  {
   "cell_type": "markdown",
   "id": "718c0609-d4b5-4481-974d-f6397e0be5a4",
   "metadata": {},
   "source": [
    "### What do we need to calculate snow depth from ICESat-2?\n",
    "* A region of interest\n",
    "* ICESat-2 data\n",
    "* A snow-free reference DEM\n"
   ]
  },
  {
   "cell_type": "markdown",
   "id": "563c4d69-d291-4e48-916b-b64cd02268c0",
   "metadata": {
    "user_expressions": []
   },
   "source": [
    "### What are some of the things we need to think about when we compare ICESat-2 and Raster data?\n",
    "**Geolocation:**\n",
    "In order to have useable results it is important that ICESat-2 and the raster data are lined up properly. Even small ofsets can create large errors, and this effect gets worse in rugged terrain.\n",
    "\n",
    "<div style=\"text-align: center;\">\n",
    "<img src=\"Images/NuthKaab_DEMoffset.png\" width=\"50%\" />\n",
    "</div>\n",
    "\n",
    "*Image: Top: 2-D scheme of elevation differences induced by a DEM shift. Bottom: The scatter of elevation differences between 2 DEMs showing the relationship between the vertical deviations normalized by the slope tangent (y-axis) and terrain aspect (x-axis). (Nuth and Kääb)*\n",
    "\n",
    "**Vegetation:** \n",
    "Uncorrectly categorized vegetation returns can positivly bias our ground or snow surface estimation. Additionally dence vegetation can reduce the number of photon returns.\n",
    "\n",
    "**Slope Affects:**\n",
    "Rugged terrain increases uncertanty in ICESat-2 returns and increases the impact of offesets between ICESat-2 and the raster data, as shown in the above Nuth and Kääb figure. Additionally steep slopes can negatively bias our ground or snow surface estimation."
   ]
  },
  {
   "cell_type": "markdown",
   "id": "649d863c-5ad1-4b9f-9fa0-416ff04396a4",
   "metadata": {},
   "source": [
    "## Computing environment\n",
    "\n",
    "We'll be using the following open source Python libraries in this notebook:"
   ]
  },
  {
   "cell_type": "code",
   "execution_count": 23,
   "id": "2a5720d5-d805-4c24-a92e-a2238805cdbf",
   "metadata": {
    "tags": []
   },
   "outputs": [
    {
     "data": {
      "application/javascript": [
       "(function(root) {\n",
       "  function now() {\n",
       "    return new Date();\n",
       "  }\n",
       "\n",
       "  var force = true;\n",
       "\n",
       "  if (typeof root._bokeh_onload_callbacks === \"undefined\" || force === true) {\n",
       "    root._bokeh_onload_callbacks = [];\n",
       "    root._bokeh_is_loading = undefined;\n",
       "  }\n",
       "\n",
       "  if (typeof (root._bokeh_timeout) === \"undefined\" || force === true) {\n",
       "    root._bokeh_timeout = Date.now() + 5000;\n",
       "    root._bokeh_failed_load = false;\n",
       "  }\n",
       "\n",
       "  function run_callbacks() {\n",
       "    try {\n",
       "      root._bokeh_onload_callbacks.forEach(function(callback) {\n",
       "        if (callback != null)\n",
       "          callback();\n",
       "      });\n",
       "    } finally {\n",
       "      delete root._bokeh_onload_callbacks\n",
       "    }\n",
       "    console.debug(\"Bokeh: all callbacks have finished\");\n",
       "  }\n",
       "\n",
       "  function load_libs(css_urls, js_urls, js_modules, callback) {\n",
       "    if (css_urls == null) css_urls = [];\n",
       "    if (js_urls == null) js_urls = [];\n",
       "    if (js_modules == null) js_modules = [];\n",
       "\n",
       "    root._bokeh_onload_callbacks.push(callback);\n",
       "    if (root._bokeh_is_loading > 0) {\n",
       "      console.debug(\"Bokeh: BokehJS is being loaded, scheduling callback at\", now());\n",
       "      return null;\n",
       "    }\n",
       "    if (js_urls.length === 0 && js_modules.length === 0) {\n",
       "      run_callbacks();\n",
       "      return null;\n",
       "    }\n",
       "    console.debug(\"Bokeh: BokehJS not loaded, scheduling load and callback at\", now());\n",
       "\n",
       "    function on_load() {\n",
       "      root._bokeh_is_loading--;\n",
       "      if (root._bokeh_is_loading === 0) {\n",
       "        console.debug(\"Bokeh: all BokehJS libraries/stylesheets loaded\");\n",
       "        run_callbacks()\n",
       "      }\n",
       "    }\n",
       "\n",
       "    function on_error() {\n",
       "      console.error(\"failed to load \" + url);\n",
       "    }\n",
       "\n",
       "    for (var i = 0; i < css_urls.length; i++) {\n",
       "      var url = css_urls[i];\n",
       "      const element = document.createElement(\"link\");\n",
       "      element.onload = on_load;\n",
       "      element.onerror = on_error;\n",
       "      element.rel = \"stylesheet\";\n",
       "      element.type = \"text/css\";\n",
       "      element.href = url;\n",
       "      console.debug(\"Bokeh: injecting link tag for BokehJS stylesheet: \", url);\n",
       "      document.body.appendChild(element);\n",
       "    }\n",
       "\n",
       "    var skip = [];\n",
       "    if (window.requirejs) {\n",
       "      window.requirejs.config({'packages': {}, 'paths': {'gridstack': 'https://cdn.jsdelivr.net/npm/gridstack@4.2.5/dist/gridstack-h5', 'notyf': 'https://cdn.jsdelivr.net/npm/notyf@3/notyf.min'}, 'shim': {'gridstack': {'exports': 'GridStack'}}});\n",
       "      require([\"gridstack\"], function(GridStack) {\n",
       "\twindow.GridStack = GridStack\n",
       "\ton_load()\n",
       "      })\n",
       "      require([\"notyf\"], function() {\n",
       "\ton_load()\n",
       "      })\n",
       "      root._bokeh_is_loading = css_urls.length + 2;\n",
       "    } else {\n",
       "      root._bokeh_is_loading = css_urls.length + js_urls.length + js_modules.length;\n",
       "    }    if (((window['GridStack'] !== undefined) && (!(window['GridStack'] instanceof HTMLElement))) || window.requirejs) {\n",
       "      var urls = ['https://cdn.holoviz.org/panel/0.14.4/dist/bundled/gridstack/gridstack@4.2.5/dist/gridstack-h5.js'];\n",
       "      for (var i = 0; i < urls.length; i++) {\n",
       "        skip.push(urls[i])\n",
       "      }\n",
       "    }    if (((window['Notyf'] !== undefined) && (!(window['Notyf'] instanceof HTMLElement))) || window.requirejs) {\n",
       "      var urls = ['https://cdn.holoviz.org/panel/0.14.4/dist/bundled/notificationarea/notyf@3/notyf.min.js'];\n",
       "      for (var i = 0; i < urls.length; i++) {\n",
       "        skip.push(urls[i])\n",
       "      }\n",
       "    }    for (var i = 0; i < js_urls.length; i++) {\n",
       "      var url = js_urls[i];\n",
       "      if (skip.indexOf(url) >= 0) {\n",
       "\tif (!window.requirejs) {\n",
       "\t  on_load();\n",
       "\t}\n",
       "\tcontinue;\n",
       "      }\n",
       "      var element = document.createElement('script');\n",
       "      element.onload = on_load;\n",
       "      element.onerror = on_error;\n",
       "      element.async = false;\n",
       "      element.src = url;\n",
       "      console.debug(\"Bokeh: injecting script tag for BokehJS library: \", url);\n",
       "      document.head.appendChild(element);\n",
       "    }\n",
       "    for (var i = 0; i < js_modules.length; i++) {\n",
       "      var url = js_modules[i];\n",
       "      if (skip.indexOf(url) >= 0) {\n",
       "\tif (!window.requirejs) {\n",
       "\t  on_load();\n",
       "\t}\n",
       "\tcontinue;\n",
       "      }\n",
       "      var element = document.createElement('script');\n",
       "      element.onload = on_load;\n",
       "      element.onerror = on_error;\n",
       "      element.async = false;\n",
       "      element.src = url;\n",
       "      element.type = \"module\";\n",
       "      console.debug(\"Bokeh: injecting script tag for BokehJS library: \", url);\n",
       "      document.head.appendChild(element);\n",
       "    }\n",
       "    if (!js_urls.length && !js_modules.length) {\n",
       "      on_load()\n",
       "    }\n",
       "  };\n",
       "\n",
       "  function inject_raw_css(css) {\n",
       "    const element = document.createElement(\"style\");\n",
       "    element.appendChild(document.createTextNode(css));\n",
       "    document.body.appendChild(element);\n",
       "  }\n",
       "\n",
       "  var js_urls = [\"https://cdn.bokeh.org/bokeh/release/bokeh-2.4.3.min.js\", \"https://cdn.bokeh.org/bokeh/release/bokeh-gl-2.4.3.min.js\", \"https://cdn.bokeh.org/bokeh/release/bokeh-widgets-2.4.3.min.js\", \"https://cdn.bokeh.org/bokeh/release/bokeh-tables-2.4.3.min.js\", \"https://cdn.bokeh.org/bokeh/release/bokeh-mathjax-2.4.3.min.js\", \"https://unpkg.com/@holoviz/panel@0.14.4/dist/panel.min.js\"];\n",
       "  var js_modules = [];\n",
       "  var css_urls = [\"https://cdn.holoviz.org/panel/0.14.4/dist/css/alerts.css\", \"https://cdn.holoviz.org/panel/0.14.4/dist/css/card.css\", \"https://cdn.holoviz.org/panel/0.14.4/dist/css/dataframe.css\", \"https://cdn.holoviz.org/panel/0.14.4/dist/css/debugger.css\", \"https://cdn.holoviz.org/panel/0.14.4/dist/css/json.css\", \"https://cdn.holoviz.org/panel/0.14.4/dist/css/loading.css\", \"https://cdn.holoviz.org/panel/0.14.4/dist/css/markdown.css\", \"https://cdn.holoviz.org/panel/0.14.4/dist/css/widgets.css\"];\n",
       "  var inline_js = [    function(Bokeh) {\n",
       "      inject_raw_css(\"\\n    .bk.pn-loading.arc:before {\\n      background-image: url(\\\"data:image/svg+xml;base64,PHN2ZyB4bWxucz0iaHR0cDovL3d3dy53My5vcmcvMjAwMC9zdmciIHN0eWxlPSJtYXJnaW46IGF1dG87IGJhY2tncm91bmQ6IG5vbmU7IGRpc3BsYXk6IGJsb2NrOyBzaGFwZS1yZW5kZXJpbmc6IGF1dG87IiB2aWV3Qm94PSIwIDAgMTAwIDEwMCIgcHJlc2VydmVBc3BlY3RSYXRpbz0ieE1pZFlNaWQiPiAgPGNpcmNsZSBjeD0iNTAiIGN5PSI1MCIgZmlsbD0ibm9uZSIgc3Ryb2tlPSIjYzNjM2MzIiBzdHJva2Utd2lkdGg9IjEwIiByPSIzNSIgc3Ryb2tlLWRhc2hhcnJheT0iMTY0LjkzMzYxNDMxMzQ2NDE1IDU2Ljk3Nzg3MTQzNzgyMTM4Ij4gICAgPGFuaW1hdGVUcmFuc2Zvcm0gYXR0cmlidXRlTmFtZT0idHJhbnNmb3JtIiB0eXBlPSJyb3RhdGUiIHJlcGVhdENvdW50PSJpbmRlZmluaXRlIiBkdXI9IjFzIiB2YWx1ZXM9IjAgNTAgNTA7MzYwIDUwIDUwIiBrZXlUaW1lcz0iMDsxIj48L2FuaW1hdGVUcmFuc2Zvcm0+ICA8L2NpcmNsZT48L3N2Zz4=\\\");\\n      background-size: auto calc(min(50%, 400px));\\n    }\\n    \");\n",
       "    },    function(Bokeh) {\n",
       "      Bokeh.set_log_level(\"info\");\n",
       "    },\n",
       "function(Bokeh) {} // ensure no trailing comma for IE\n",
       "  ];\n",
       "\n",
       "  function run_inline_js() {\n",
       "    if ((root.Bokeh !== undefined) || (force === true)) {\n",
       "      for (var i = 0; i < inline_js.length; i++) {\n",
       "        inline_js[i].call(root, root.Bokeh);\n",
       "      }} else if (Date.now() < root._bokeh_timeout) {\n",
       "      setTimeout(run_inline_js, 100);\n",
       "    } else if (!root._bokeh_failed_load) {\n",
       "      console.log(\"Bokeh: BokehJS failed to load within specified timeout.\");\n",
       "      root._bokeh_failed_load = true;\n",
       "    }\n",
       "  }\n",
       "\n",
       "  if (root._bokeh_is_loading === 0) {\n",
       "    console.debug(\"Bokeh: BokehJS loaded, going straight to plotting\");\n",
       "    run_inline_js();\n",
       "  } else {\n",
       "    load_libs(css_urls, js_urls, js_modules, function() {\n",
       "      console.debug(\"Bokeh: BokehJS plotting callback run at\", now());\n",
       "      run_inline_js();\n",
       "    });\n",
       "  }\n",
       "}(window));"
      ],
      "application/vnd.holoviews_load.v0+json": "(function(root) {\n  function now() {\n    return new Date();\n  }\n\n  var force = true;\n\n  if (typeof root._bokeh_onload_callbacks === \"undefined\" || force === true) {\n    root._bokeh_onload_callbacks = [];\n    root._bokeh_is_loading = undefined;\n  }\n\n  if (typeof (root._bokeh_timeout) === \"undefined\" || force === true) {\n    root._bokeh_timeout = Date.now() + 5000;\n    root._bokeh_failed_load = false;\n  }\n\n  function run_callbacks() {\n    try {\n      root._bokeh_onload_callbacks.forEach(function(callback) {\n        if (callback != null)\n          callback();\n      });\n    } finally {\n      delete root._bokeh_onload_callbacks\n    }\n    console.debug(\"Bokeh: all callbacks have finished\");\n  }\n\n  function load_libs(css_urls, js_urls, js_modules, callback) {\n    if (css_urls == null) css_urls = [];\n    if (js_urls == null) js_urls = [];\n    if (js_modules == null) js_modules = [];\n\n    root._bokeh_onload_callbacks.push(callback);\n    if (root._bokeh_is_loading > 0) {\n      console.debug(\"Bokeh: BokehJS is being loaded, scheduling callback at\", now());\n      return null;\n    }\n    if (js_urls.length === 0 && js_modules.length === 0) {\n      run_callbacks();\n      return null;\n    }\n    console.debug(\"Bokeh: BokehJS not loaded, scheduling load and callback at\", now());\n\n    function on_load() {\n      root._bokeh_is_loading--;\n      if (root._bokeh_is_loading === 0) {\n        console.debug(\"Bokeh: all BokehJS libraries/stylesheets loaded\");\n        run_callbacks()\n      }\n    }\n\n    function on_error() {\n      console.error(\"failed to load \" + url);\n    }\n\n    for (var i = 0; i < css_urls.length; i++) {\n      var url = css_urls[i];\n      const element = document.createElement(\"link\");\n      element.onload = on_load;\n      element.onerror = on_error;\n      element.rel = \"stylesheet\";\n      element.type = \"text/css\";\n      element.href = url;\n      console.debug(\"Bokeh: injecting link tag for BokehJS stylesheet: \", url);\n      document.body.appendChild(element);\n    }\n\n    var skip = [];\n    if (window.requirejs) {\n      window.requirejs.config({'packages': {}, 'paths': {'gridstack': 'https://cdn.jsdelivr.net/npm/gridstack@4.2.5/dist/gridstack-h5', 'notyf': 'https://cdn.jsdelivr.net/npm/notyf@3/notyf.min'}, 'shim': {'gridstack': {'exports': 'GridStack'}}});\n      require([\"gridstack\"], function(GridStack) {\n\twindow.GridStack = GridStack\n\ton_load()\n      })\n      require([\"notyf\"], function() {\n\ton_load()\n      })\n      root._bokeh_is_loading = css_urls.length + 2;\n    } else {\n      root._bokeh_is_loading = css_urls.length + js_urls.length + js_modules.length;\n    }    if (((window['GridStack'] !== undefined) && (!(window['GridStack'] instanceof HTMLElement))) || window.requirejs) {\n      var urls = ['https://cdn.holoviz.org/panel/0.14.4/dist/bundled/gridstack/gridstack@4.2.5/dist/gridstack-h5.js'];\n      for (var i = 0; i < urls.length; i++) {\n        skip.push(urls[i])\n      }\n    }    if (((window['Notyf'] !== undefined) && (!(window['Notyf'] instanceof HTMLElement))) || window.requirejs) {\n      var urls = ['https://cdn.holoviz.org/panel/0.14.4/dist/bundled/notificationarea/notyf@3/notyf.min.js'];\n      for (var i = 0; i < urls.length; i++) {\n        skip.push(urls[i])\n      }\n    }    for (var i = 0; i < js_urls.length; i++) {\n      var url = js_urls[i];\n      if (skip.indexOf(url) >= 0) {\n\tif (!window.requirejs) {\n\t  on_load();\n\t}\n\tcontinue;\n      }\n      var element = document.createElement('script');\n      element.onload = on_load;\n      element.onerror = on_error;\n      element.async = false;\n      element.src = url;\n      console.debug(\"Bokeh: injecting script tag for BokehJS library: \", url);\n      document.head.appendChild(element);\n    }\n    for (var i = 0; i < js_modules.length; i++) {\n      var url = js_modules[i];\n      if (skip.indexOf(url) >= 0) {\n\tif (!window.requirejs) {\n\t  on_load();\n\t}\n\tcontinue;\n      }\n      var element = document.createElement('script');\n      element.onload = on_load;\n      element.onerror = on_error;\n      element.async = false;\n      element.src = url;\n      element.type = \"module\";\n      console.debug(\"Bokeh: injecting script tag for BokehJS library: \", url);\n      document.head.appendChild(element);\n    }\n    if (!js_urls.length && !js_modules.length) {\n      on_load()\n    }\n  };\n\n  function inject_raw_css(css) {\n    const element = document.createElement(\"style\");\n    element.appendChild(document.createTextNode(css));\n    document.body.appendChild(element);\n  }\n\n  var js_urls = [\"https://cdn.bokeh.org/bokeh/release/bokeh-2.4.3.min.js\", \"https://cdn.bokeh.org/bokeh/release/bokeh-gl-2.4.3.min.js\", \"https://cdn.bokeh.org/bokeh/release/bokeh-widgets-2.4.3.min.js\", \"https://cdn.bokeh.org/bokeh/release/bokeh-tables-2.4.3.min.js\", \"https://cdn.bokeh.org/bokeh/release/bokeh-mathjax-2.4.3.min.js\", \"https://unpkg.com/@holoviz/panel@0.14.4/dist/panel.min.js\"];\n  var js_modules = [];\n  var css_urls = [\"https://cdn.holoviz.org/panel/0.14.4/dist/css/alerts.css\", \"https://cdn.holoviz.org/panel/0.14.4/dist/css/card.css\", \"https://cdn.holoviz.org/panel/0.14.4/dist/css/dataframe.css\", \"https://cdn.holoviz.org/panel/0.14.4/dist/css/debugger.css\", \"https://cdn.holoviz.org/panel/0.14.4/dist/css/json.css\", \"https://cdn.holoviz.org/panel/0.14.4/dist/css/loading.css\", \"https://cdn.holoviz.org/panel/0.14.4/dist/css/markdown.css\", \"https://cdn.holoviz.org/panel/0.14.4/dist/css/widgets.css\"];\n  var inline_js = [    function(Bokeh) {\n      inject_raw_css(\"\\n    .bk.pn-loading.arc:before {\\n      background-image: url(\\\"data:image/svg+xml;base64,PHN2ZyB4bWxucz0iaHR0cDovL3d3dy53My5vcmcvMjAwMC9zdmciIHN0eWxlPSJtYXJnaW46IGF1dG87IGJhY2tncm91bmQ6IG5vbmU7IGRpc3BsYXk6IGJsb2NrOyBzaGFwZS1yZW5kZXJpbmc6IGF1dG87IiB2aWV3Qm94PSIwIDAgMTAwIDEwMCIgcHJlc2VydmVBc3BlY3RSYXRpbz0ieE1pZFlNaWQiPiAgPGNpcmNsZSBjeD0iNTAiIGN5PSI1MCIgZmlsbD0ibm9uZSIgc3Ryb2tlPSIjYzNjM2MzIiBzdHJva2Utd2lkdGg9IjEwIiByPSIzNSIgc3Ryb2tlLWRhc2hhcnJheT0iMTY0LjkzMzYxNDMxMzQ2NDE1IDU2Ljk3Nzg3MTQzNzgyMTM4Ij4gICAgPGFuaW1hdGVUcmFuc2Zvcm0gYXR0cmlidXRlTmFtZT0idHJhbnNmb3JtIiB0eXBlPSJyb3RhdGUiIHJlcGVhdENvdW50PSJpbmRlZmluaXRlIiBkdXI9IjFzIiB2YWx1ZXM9IjAgNTAgNTA7MzYwIDUwIDUwIiBrZXlUaW1lcz0iMDsxIj48L2FuaW1hdGVUcmFuc2Zvcm0+ICA8L2NpcmNsZT48L3N2Zz4=\\\");\\n      background-size: auto calc(min(50%, 400px));\\n    }\\n    \");\n    },    function(Bokeh) {\n      Bokeh.set_log_level(\"info\");\n    },\nfunction(Bokeh) {} // ensure no trailing comma for IE\n  ];\n\n  function run_inline_js() {\n    if ((root.Bokeh !== undefined) || (force === true)) {\n      for (var i = 0; i < inline_js.length; i++) {\n        inline_js[i].call(root, root.Bokeh);\n      }} else if (Date.now() < root._bokeh_timeout) {\n      setTimeout(run_inline_js, 100);\n    } else if (!root._bokeh_failed_load) {\n      console.log(\"Bokeh: BokehJS failed to load within specified timeout.\");\n      root._bokeh_failed_load = true;\n    }\n  }\n\n  if (root._bokeh_is_loading === 0) {\n    console.debug(\"Bokeh: BokehJS loaded, going straight to plotting\");\n    run_inline_js();\n  } else {\n    load_libs(css_urls, js_urls, js_modules, function() {\n      console.debug(\"Bokeh: BokehJS plotting callback run at\", now());\n      run_inline_js();\n    });\n  }\n}(window));"
     },
     "metadata": {},
     "output_type": "display_data"
    },
    {
     "data": {
      "application/javascript": [
       "\n",
       "if ((window.PyViz === undefined) || (window.PyViz instanceof HTMLElement)) {\n",
       "  window.PyViz = {comms: {}, comm_status:{}, kernels:{}, receivers: {}, plot_index: []}\n",
       "}\n",
       "\n",
       "\n",
       "    function JupyterCommManager() {\n",
       "    }\n",
       "\n",
       "    JupyterCommManager.prototype.register_target = function(plot_id, comm_id, msg_handler) {\n",
       "      if (window.comm_manager || ((window.Jupyter !== undefined) && (Jupyter.notebook.kernel != null))) {\n",
       "        var comm_manager = window.comm_manager || Jupyter.notebook.kernel.comm_manager;\n",
       "        comm_manager.register_target(comm_id, function(comm) {\n",
       "          comm.on_msg(msg_handler);\n",
       "        });\n",
       "      } else if ((plot_id in window.PyViz.kernels) && (window.PyViz.kernels[plot_id])) {\n",
       "        window.PyViz.kernels[plot_id].registerCommTarget(comm_id, function(comm) {\n",
       "          comm.onMsg = msg_handler;\n",
       "        });\n",
       "      } else if (typeof google != 'undefined' && google.colab.kernel != null) {\n",
       "        google.colab.kernel.comms.registerTarget(comm_id, (comm) => {\n",
       "          var messages = comm.messages[Symbol.asyncIterator]();\n",
       "          function processIteratorResult(result) {\n",
       "            var message = result.value;\n",
       "            console.log(message)\n",
       "            var content = {data: message.data, comm_id};\n",
       "            var buffers = []\n",
       "            for (var buffer of message.buffers || []) {\n",
       "              buffers.push(new DataView(buffer))\n",
       "            }\n",
       "            var metadata = message.metadata || {};\n",
       "            var msg = {content, buffers, metadata}\n",
       "            msg_handler(msg);\n",
       "            return messages.next().then(processIteratorResult);\n",
       "          }\n",
       "          return messages.next().then(processIteratorResult);\n",
       "        })\n",
       "      }\n",
       "    }\n",
       "\n",
       "    JupyterCommManager.prototype.get_client_comm = function(plot_id, comm_id, msg_handler) {\n",
       "      if (comm_id in window.PyViz.comms) {\n",
       "        return window.PyViz.comms[comm_id];\n",
       "      } else if (window.comm_manager || ((window.Jupyter !== undefined) && (Jupyter.notebook.kernel != null))) {\n",
       "        var comm_manager = window.comm_manager || Jupyter.notebook.kernel.comm_manager;\n",
       "        var comm = comm_manager.new_comm(comm_id, {}, {}, {}, comm_id);\n",
       "        if (msg_handler) {\n",
       "          comm.on_msg(msg_handler);\n",
       "        }\n",
       "      } else if ((plot_id in window.PyViz.kernels) && (window.PyViz.kernels[plot_id])) {\n",
       "        var comm = window.PyViz.kernels[plot_id].connectToComm(comm_id);\n",
       "        comm.open();\n",
       "        if (msg_handler) {\n",
       "          comm.onMsg = msg_handler;\n",
       "        }\n",
       "      } else if (typeof google != 'undefined' && google.colab.kernel != null) {\n",
       "        var comm_promise = google.colab.kernel.comms.open(comm_id)\n",
       "        comm_promise.then((comm) => {\n",
       "          window.PyViz.comms[comm_id] = comm;\n",
       "          if (msg_handler) {\n",
       "            var messages = comm.messages[Symbol.asyncIterator]();\n",
       "            function processIteratorResult(result) {\n",
       "              var message = result.value;\n",
       "              var content = {data: message.data};\n",
       "              var metadata = message.metadata || {comm_id};\n",
       "              var msg = {content, metadata}\n",
       "              msg_handler(msg);\n",
       "              return messages.next().then(processIteratorResult);\n",
       "            }\n",
       "            return messages.next().then(processIteratorResult);\n",
       "          }\n",
       "        }) \n",
       "        var sendClosure = (data, metadata, buffers, disposeOnDone) => {\n",
       "          return comm_promise.then((comm) => {\n",
       "            comm.send(data, metadata, buffers, disposeOnDone);\n",
       "          });\n",
       "        };\n",
       "        var comm = {\n",
       "          send: sendClosure\n",
       "        };\n",
       "      }\n",
       "      window.PyViz.comms[comm_id] = comm;\n",
       "      return comm;\n",
       "    }\n",
       "    window.PyViz.comm_manager = new JupyterCommManager();\n",
       "    \n",
       "\n",
       "\n",
       "var JS_MIME_TYPE = 'application/javascript';\n",
       "var HTML_MIME_TYPE = 'text/html';\n",
       "var EXEC_MIME_TYPE = 'application/vnd.holoviews_exec.v0+json';\n",
       "var CLASS_NAME = 'output';\n",
       "\n",
       "/**\n",
       " * Render data to the DOM node\n",
       " */\n",
       "function render(props, node) {\n",
       "  var div = document.createElement(\"div\");\n",
       "  var script = document.createElement(\"script\");\n",
       "  node.appendChild(div);\n",
       "  node.appendChild(script);\n",
       "}\n",
       "\n",
       "/**\n",
       " * Handle when a new output is added\n",
       " */\n",
       "function handle_add_output(event, handle) {\n",
       "  var output_area = handle.output_area;\n",
       "  var output = handle.output;\n",
       "  if ((output.data == undefined) || (!output.data.hasOwnProperty(EXEC_MIME_TYPE))) {\n",
       "    return\n",
       "  }\n",
       "  var id = output.metadata[EXEC_MIME_TYPE][\"id\"];\n",
       "  var toinsert = output_area.element.find(\".\" + CLASS_NAME.split(' ')[0]);\n",
       "  if (id !== undefined) {\n",
       "    var nchildren = toinsert.length;\n",
       "    var html_node = toinsert[nchildren-1].children[0];\n",
       "    html_node.innerHTML = output.data[HTML_MIME_TYPE];\n",
       "    var scripts = [];\n",
       "    var nodelist = html_node.querySelectorAll(\"script\");\n",
       "    for (var i in nodelist) {\n",
       "      if (nodelist.hasOwnProperty(i)) {\n",
       "        scripts.push(nodelist[i])\n",
       "      }\n",
       "    }\n",
       "\n",
       "    scripts.forEach( function (oldScript) {\n",
       "      var newScript = document.createElement(\"script\");\n",
       "      var attrs = [];\n",
       "      var nodemap = oldScript.attributes;\n",
       "      for (var j in nodemap) {\n",
       "        if (nodemap.hasOwnProperty(j)) {\n",
       "          attrs.push(nodemap[j])\n",
       "        }\n",
       "      }\n",
       "      attrs.forEach(function(attr) { newScript.setAttribute(attr.name, attr.value) });\n",
       "      newScript.appendChild(document.createTextNode(oldScript.innerHTML));\n",
       "      oldScript.parentNode.replaceChild(newScript, oldScript);\n",
       "    });\n",
       "    if (JS_MIME_TYPE in output.data) {\n",
       "      toinsert[nchildren-1].children[1].textContent = output.data[JS_MIME_TYPE];\n",
       "    }\n",
       "    output_area._hv_plot_id = id;\n",
       "    if ((window.Bokeh !== undefined) && (id in Bokeh.index)) {\n",
       "      window.PyViz.plot_index[id] = Bokeh.index[id];\n",
       "    } else {\n",
       "      window.PyViz.plot_index[id] = null;\n",
       "    }\n",
       "  } else if (output.metadata[EXEC_MIME_TYPE][\"server_id\"] !== undefined) {\n",
       "    var bk_div = document.createElement(\"div\");\n",
       "    bk_div.innerHTML = output.data[HTML_MIME_TYPE];\n",
       "    var script_attrs = bk_div.children[0].attributes;\n",
       "    for (var i = 0; i < script_attrs.length; i++) {\n",
       "      toinsert[toinsert.length - 1].childNodes[1].setAttribute(script_attrs[i].name, script_attrs[i].value);\n",
       "    }\n",
       "    // store reference to server id on output_area\n",
       "    output_area._bokeh_server_id = output.metadata[EXEC_MIME_TYPE][\"server_id\"];\n",
       "  }\n",
       "}\n",
       "\n",
       "/**\n",
       " * Handle when an output is cleared or removed\n",
       " */\n",
       "function handle_clear_output(event, handle) {\n",
       "  var id = handle.cell.output_area._hv_plot_id;\n",
       "  var server_id = handle.cell.output_area._bokeh_server_id;\n",
       "  if (((id === undefined) || !(id in PyViz.plot_index)) && (server_id !== undefined)) { return; }\n",
       "  var comm = window.PyViz.comm_manager.get_client_comm(\"hv-extension-comm\", \"hv-extension-comm\", function () {});\n",
       "  if (server_id !== null) {\n",
       "    comm.send({event_type: 'server_delete', 'id': server_id});\n",
       "    return;\n",
       "  } else if (comm !== null) {\n",
       "    comm.send({event_type: 'delete', 'id': id});\n",
       "  }\n",
       "  delete PyViz.plot_index[id];\n",
       "  if ((window.Bokeh !== undefined) & (id in window.Bokeh.index)) {\n",
       "    var doc = window.Bokeh.index[id].model.document\n",
       "    doc.clear();\n",
       "    const i = window.Bokeh.documents.indexOf(doc);\n",
       "    if (i > -1) {\n",
       "      window.Bokeh.documents.splice(i, 1);\n",
       "    }\n",
       "  }\n",
       "}\n",
       "\n",
       "/**\n",
       " * Handle kernel restart event\n",
       " */\n",
       "function handle_kernel_cleanup(event, handle) {\n",
       "  delete PyViz.comms[\"hv-extension-comm\"];\n",
       "  window.PyViz.plot_index = {}\n",
       "}\n",
       "\n",
       "/**\n",
       " * Handle update_display_data messages\n",
       " */\n",
       "function handle_update_output(event, handle) {\n",
       "  handle_clear_output(event, {cell: {output_area: handle.output_area}})\n",
       "  handle_add_output(event, handle)\n",
       "}\n",
       "\n",
       "function register_renderer(events, OutputArea) {\n",
       "  function append_mime(data, metadata, element) {\n",
       "    // create a DOM node to render to\n",
       "    var toinsert = this.create_output_subarea(\n",
       "    metadata,\n",
       "    CLASS_NAME,\n",
       "    EXEC_MIME_TYPE\n",
       "    );\n",
       "    this.keyboard_manager.register_events(toinsert);\n",
       "    // Render to node\n",
       "    var props = {data: data, metadata: metadata[EXEC_MIME_TYPE]};\n",
       "    render(props, toinsert[0]);\n",
       "    element.append(toinsert);\n",
       "    return toinsert\n",
       "  }\n",
       "\n",
       "  events.on('output_added.OutputArea', handle_add_output);\n",
       "  events.on('output_updated.OutputArea', handle_update_output);\n",
       "  events.on('clear_output.CodeCell', handle_clear_output);\n",
       "  events.on('delete.Cell', handle_clear_output);\n",
       "  events.on('kernel_ready.Kernel', handle_kernel_cleanup);\n",
       "\n",
       "  OutputArea.prototype.register_mime_type(EXEC_MIME_TYPE, append_mime, {\n",
       "    safe: true,\n",
       "    index: 0\n",
       "  });\n",
       "}\n",
       "\n",
       "if (window.Jupyter !== undefined) {\n",
       "  try {\n",
       "    var events = require('base/js/events');\n",
       "    var OutputArea = require('notebook/js/outputarea').OutputArea;\n",
       "    if (OutputArea.prototype.mime_types().indexOf(EXEC_MIME_TYPE) == -1) {\n",
       "      register_renderer(events, OutputArea);\n",
       "    }\n",
       "  } catch(err) {\n",
       "  }\n",
       "}\n"
      ],
      "application/vnd.holoviews_load.v0+json": "\nif ((window.PyViz === undefined) || (window.PyViz instanceof HTMLElement)) {\n  window.PyViz = {comms: {}, comm_status:{}, kernels:{}, receivers: {}, plot_index: []}\n}\n\n\n    function JupyterCommManager() {\n    }\n\n    JupyterCommManager.prototype.register_target = function(plot_id, comm_id, msg_handler) {\n      if (window.comm_manager || ((window.Jupyter !== undefined) && (Jupyter.notebook.kernel != null))) {\n        var comm_manager = window.comm_manager || Jupyter.notebook.kernel.comm_manager;\n        comm_manager.register_target(comm_id, function(comm) {\n          comm.on_msg(msg_handler);\n        });\n      } else if ((plot_id in window.PyViz.kernels) && (window.PyViz.kernels[plot_id])) {\n        window.PyViz.kernels[plot_id].registerCommTarget(comm_id, function(comm) {\n          comm.onMsg = msg_handler;\n        });\n      } else if (typeof google != 'undefined' && google.colab.kernel != null) {\n        google.colab.kernel.comms.registerTarget(comm_id, (comm) => {\n          var messages = comm.messages[Symbol.asyncIterator]();\n          function processIteratorResult(result) {\n            var message = result.value;\n            console.log(message)\n            var content = {data: message.data, comm_id};\n            var buffers = []\n            for (var buffer of message.buffers || []) {\n              buffers.push(new DataView(buffer))\n            }\n            var metadata = message.metadata || {};\n            var msg = {content, buffers, metadata}\n            msg_handler(msg);\n            return messages.next().then(processIteratorResult);\n          }\n          return messages.next().then(processIteratorResult);\n        })\n      }\n    }\n\n    JupyterCommManager.prototype.get_client_comm = function(plot_id, comm_id, msg_handler) {\n      if (comm_id in window.PyViz.comms) {\n        return window.PyViz.comms[comm_id];\n      } else if (window.comm_manager || ((window.Jupyter !== undefined) && (Jupyter.notebook.kernel != null))) {\n        var comm_manager = window.comm_manager || Jupyter.notebook.kernel.comm_manager;\n        var comm = comm_manager.new_comm(comm_id, {}, {}, {}, comm_id);\n        if (msg_handler) {\n          comm.on_msg(msg_handler);\n        }\n      } else if ((plot_id in window.PyViz.kernels) && (window.PyViz.kernels[plot_id])) {\n        var comm = window.PyViz.kernels[plot_id].connectToComm(comm_id);\n        comm.open();\n        if (msg_handler) {\n          comm.onMsg = msg_handler;\n        }\n      } else if (typeof google != 'undefined' && google.colab.kernel != null) {\n        var comm_promise = google.colab.kernel.comms.open(comm_id)\n        comm_promise.then((comm) => {\n          window.PyViz.comms[comm_id] = comm;\n          if (msg_handler) {\n            var messages = comm.messages[Symbol.asyncIterator]();\n            function processIteratorResult(result) {\n              var message = result.value;\n              var content = {data: message.data};\n              var metadata = message.metadata || {comm_id};\n              var msg = {content, metadata}\n              msg_handler(msg);\n              return messages.next().then(processIteratorResult);\n            }\n            return messages.next().then(processIteratorResult);\n          }\n        }) \n        var sendClosure = (data, metadata, buffers, disposeOnDone) => {\n          return comm_promise.then((comm) => {\n            comm.send(data, metadata, buffers, disposeOnDone);\n          });\n        };\n        var comm = {\n          send: sendClosure\n        };\n      }\n      window.PyViz.comms[comm_id] = comm;\n      return comm;\n    }\n    window.PyViz.comm_manager = new JupyterCommManager();\n    \n\n\nvar JS_MIME_TYPE = 'application/javascript';\nvar HTML_MIME_TYPE = 'text/html';\nvar EXEC_MIME_TYPE = 'application/vnd.holoviews_exec.v0+json';\nvar CLASS_NAME = 'output';\n\n/**\n * Render data to the DOM node\n */\nfunction render(props, node) {\n  var div = document.createElement(\"div\");\n  var script = document.createElement(\"script\");\n  node.appendChild(div);\n  node.appendChild(script);\n}\n\n/**\n * Handle when a new output is added\n */\nfunction handle_add_output(event, handle) {\n  var output_area = handle.output_area;\n  var output = handle.output;\n  if ((output.data == undefined) || (!output.data.hasOwnProperty(EXEC_MIME_TYPE))) {\n    return\n  }\n  var id = output.metadata[EXEC_MIME_TYPE][\"id\"];\n  var toinsert = output_area.element.find(\".\" + CLASS_NAME.split(' ')[0]);\n  if (id !== undefined) {\n    var nchildren = toinsert.length;\n    var html_node = toinsert[nchildren-1].children[0];\n    html_node.innerHTML = output.data[HTML_MIME_TYPE];\n    var scripts = [];\n    var nodelist = html_node.querySelectorAll(\"script\");\n    for (var i in nodelist) {\n      if (nodelist.hasOwnProperty(i)) {\n        scripts.push(nodelist[i])\n      }\n    }\n\n    scripts.forEach( function (oldScript) {\n      var newScript = document.createElement(\"script\");\n      var attrs = [];\n      var nodemap = oldScript.attributes;\n      for (var j in nodemap) {\n        if (nodemap.hasOwnProperty(j)) {\n          attrs.push(nodemap[j])\n        }\n      }\n      attrs.forEach(function(attr) { newScript.setAttribute(attr.name, attr.value) });\n      newScript.appendChild(document.createTextNode(oldScript.innerHTML));\n      oldScript.parentNode.replaceChild(newScript, oldScript);\n    });\n    if (JS_MIME_TYPE in output.data) {\n      toinsert[nchildren-1].children[1].textContent = output.data[JS_MIME_TYPE];\n    }\n    output_area._hv_plot_id = id;\n    if ((window.Bokeh !== undefined) && (id in Bokeh.index)) {\n      window.PyViz.plot_index[id] = Bokeh.index[id];\n    } else {\n      window.PyViz.plot_index[id] = null;\n    }\n  } else if (output.metadata[EXEC_MIME_TYPE][\"server_id\"] !== undefined) {\n    var bk_div = document.createElement(\"div\");\n    bk_div.innerHTML = output.data[HTML_MIME_TYPE];\n    var script_attrs = bk_div.children[0].attributes;\n    for (var i = 0; i < script_attrs.length; i++) {\n      toinsert[toinsert.length - 1].childNodes[1].setAttribute(script_attrs[i].name, script_attrs[i].value);\n    }\n    // store reference to server id on output_area\n    output_area._bokeh_server_id = output.metadata[EXEC_MIME_TYPE][\"server_id\"];\n  }\n}\n\n/**\n * Handle when an output is cleared or removed\n */\nfunction handle_clear_output(event, handle) {\n  var id = handle.cell.output_area._hv_plot_id;\n  var server_id = handle.cell.output_area._bokeh_server_id;\n  if (((id === undefined) || !(id in PyViz.plot_index)) && (server_id !== undefined)) { return; }\n  var comm = window.PyViz.comm_manager.get_client_comm(\"hv-extension-comm\", \"hv-extension-comm\", function () {});\n  if (server_id !== null) {\n    comm.send({event_type: 'server_delete', 'id': server_id});\n    return;\n  } else if (comm !== null) {\n    comm.send({event_type: 'delete', 'id': id});\n  }\n  delete PyViz.plot_index[id];\n  if ((window.Bokeh !== undefined) & (id in window.Bokeh.index)) {\n    var doc = window.Bokeh.index[id].model.document\n    doc.clear();\n    const i = window.Bokeh.documents.indexOf(doc);\n    if (i > -1) {\n      window.Bokeh.documents.splice(i, 1);\n    }\n  }\n}\n\n/**\n * Handle kernel restart event\n */\nfunction handle_kernel_cleanup(event, handle) {\n  delete PyViz.comms[\"hv-extension-comm\"];\n  window.PyViz.plot_index = {}\n}\n\n/**\n * Handle update_display_data messages\n */\nfunction handle_update_output(event, handle) {\n  handle_clear_output(event, {cell: {output_area: handle.output_area}})\n  handle_add_output(event, handle)\n}\n\nfunction register_renderer(events, OutputArea) {\n  function append_mime(data, metadata, element) {\n    // create a DOM node to render to\n    var toinsert = this.create_output_subarea(\n    metadata,\n    CLASS_NAME,\n    EXEC_MIME_TYPE\n    );\n    this.keyboard_manager.register_events(toinsert);\n    // Render to node\n    var props = {data: data, metadata: metadata[EXEC_MIME_TYPE]};\n    render(props, toinsert[0]);\n    element.append(toinsert);\n    return toinsert\n  }\n\n  events.on('output_added.OutputArea', handle_add_output);\n  events.on('output_updated.OutputArea', handle_update_output);\n  events.on('clear_output.CodeCell', handle_clear_output);\n  events.on('delete.Cell', handle_clear_output);\n  events.on('kernel_ready.Kernel', handle_kernel_cleanup);\n\n  OutputArea.prototype.register_mime_type(EXEC_MIME_TYPE, append_mime, {\n    safe: true,\n    index: 0\n  });\n}\n\nif (window.Jupyter !== undefined) {\n  try {\n    var events = require('base/js/events');\n    var OutputArea = require('notebook/js/outputarea').OutputArea;\n    if (OutputArea.prototype.mime_types().indexOf(EXEC_MIME_TYPE) == -1) {\n      register_renderer(events, OutputArea);\n    }\n  } catch(err) {\n  }\n}\n"
     },
     "metadata": {},
     "output_type": "display_data"
    },
    {
     "data": {
      "text/html": [
       "<style>.bk-root, .bk-root .bk:before, .bk-root .bk:after {\n",
       "  font-family: var(--jp-ui-font-size1);\n",
       "  font-size: var(--jp-ui-font-size1);\n",
       "  color: var(--jp-ui-font-color1);\n",
       "}\n",
       "</style>"
      ]
     },
     "metadata": {},
     "output_type": "display_data"
    },
    {
     "data": {
      "text/html": [
       "\n",
       "<div class=\"logo-block\">\n",
       "<img src='data:image/png;base64,iVBORw0KGgoAAAANSUhEUgAAAEAAAABACAYAAACqaXHeAAAABHNCSVQICAgIfAhkiAAAAAlwSFlz\n",
       "AAAB+wAAAfsBxc2miwAAABl0RVh0U29mdHdhcmUAd3d3Lmlua3NjYXBlLm9yZ5vuPBoAAA6zSURB\n",
       "VHic7ZtpeFRVmsf/5966taWqUlUJ2UioBBJiIBAwCZtog9IOgjqACsogKtqirT2ttt069nQ/zDzt\n",
       "tI4+CrJIREFaFgWhBXpUNhHZQoKBkIUASchWla1S+3ar7r1nPkDaCAnZKoQP/D7mnPOe9/xy76n3\n",
       "nFSAW9ziFoPFNED2LLK5wcyBDObkb8ZkxuaoSYlI6ZcOKq1eWFdedqNzGHQBk9RMEwFAASkk0Xw3\n",
       "ETacDNi2vtvc7L0ROdw0AjoSotQVkKSvHQz/wRO1lScGModBFbDMaNRN1A4tUBCS3lk7BWhQkgpD\n",
       "lG4852/+7DWr1R3uHAZVQDsbh6ZPN7CyxUrCzJMRouusj0ipRwD2uKm0Zn5d2dFwzX1TCGhnmdGo\n",
       "G62Nna+isiUqhkzuKrkQaJlPEv5mFl2fvGg2t/VnzkEV8F5ioioOEWkLG86fvbpthynjdhXYZziQ\n",
       "x1hC9J2NFyi8vCTt91Fh04KGip0AaG9zuCk2wQCVyoNU3Hjezee9bq92duzzTmxsRJoy+jEZZZYo\n",
       "GTKJ6SJngdJqAfRzpze0+jHreUtPc7gpBLQnIYK6BYp/uGhw9YK688eu7v95ysgshcg9qSLMo3JC\n",
       "4jqLKQFBgdKDPoQ+Pltb8dUyQLpeDjeVgI6EgLIQFT5tEl3rn2losHVsexbZ3EyT9wE1uGdkIPcy\n",
       "BGxn8QUq1QrA5nqW5i2tLqvrrM9NK6AdkVIvL9E9bZL/oyfMVd/jqvc8LylzRBKDJSzIExwhQzuL\n",
       "QYGQj4rHfFTc8mUdu3E7yoLtbTe9gI4EqVgVkug2i5+uXGo919ixbRog+3fTbQ8qJe4ZOYNfMoTI\n",
       "OoshUNosgO60AisX15aeI2PSIp5KiFLI9ubb1vV3Qb2ltwLakUCDAkWX7/nHKRmmGIl9VgYsUhJm\n",
       "2NXjKYADtM1ygne9QQDIXlk49FBstMKx66D1v4+XuQr7vqTe0VcBHQlRWiOCbmmSYe2SqtL6q5rJ\n",
       "zsTb7lKx3FKOYC4DoqyS/B5bvLPxvD9Qtf6saxYLQGJErmDOdOMr/zo96km1nElr8bmPOBwI9COv\n",
       "HnFPRIwmkSOv9kcAS4heRsidOkpeWBgZM+UBrTFAXNYL5Vf2ii9c1trNzpYdaoVil3WIc+wdk+gQ\n",
       "noie3ecCcxt9ITcLAPWt/laGEO/9U6PmzZkenTtsSMQ8uYywJVW+grCstAvCIaAdArAsIWkRDDs/\n",
       "KzLm2YcjY1Lv0UdW73HabE9n6V66cxSzfEmuJssTpKGVp+0vHq73FwL46eOjpMpbRAnNmJFrGJNu\n",
       "Ukf9Yrz+3rghiumCKNXXWPhLYcjxGsIpoCMsIRoFITkW8AuyM8jC1+/QLx4bozCEJIq38+1rtpR6\n",
       "V/yzb8eBlRb3fo5l783N0CWolAzJHaVNzkrTzlEp2bQ2q3TC5gn6wpnoQAmwSiGh2GitnTmVMc5O\n",
       "UyfKWUKCIsU7+fZDKwqdT6DDpvkzAX4/+AMFjk0tDp5GRXLpQ2MUmhgDp5gxQT8+Y7hyPsMi8uxF\n",
       "71H0oebujHALECjFKaW9Lm68n18wXp2kVzIcABytD5iXFzg+WVXkegpAsOOYziqo0OkK76GyquC3\n",
       "ltZAzMhhqlSNmmWTE5T6e3IN05ITFLM4GdN0vtZ3ob8Jh1NAKXFbm5PtLU/eqTSlGjkNAJjdgn/N\n",
       "aedXa0tdi7+t9G0FIF49rtMSEgAs1kDLkTPO7ebm4IUWeyh1bKomXqlgMG6kJmHcSM0clYLJ8XtR\n",
       "1GTnbV3F6I5wCGikAb402npp1h1s7LQUZZSMIfALFOuL3UUrfnS8+rez7v9qcold5tilgHbO1fjK\n",
       "9ubb17u9oshxzMiUBKXWqJNxd+fqb0tLVs4lILFnK71H0Ind7uiPgACVcFJlrb0tV6DzxqqTIhUM\n",
       "CwDf1/rrVhTa33/3pGPxJYdQ2l2cbgVcQSosdx8uqnDtbGjh9SlDVSMNWhlnilfqZk42Th2ZpLpf\n",
       "xrHec5e815zrr0dfBZSwzkZfqsv+1FS1KUknUwPARVvItfKUY+cn57yP7qv07UE3p8B2uhUwLk09\n",
       "e0SCOrK+hbdYHYLjRIl71wWzv9jpEoeOHhGRrJAzyEyNiJuUqX0g2sBN5kGK6y2Blp5M3lsB9Qh4\n",
       "y2Ja6x6+i0ucmKgwMATwhSjdUu49tKrQ/pvN5d53ml2CGwCmJipmKjgmyuaXzNeL2a0AkQ01Th5j\n",
       "2DktO3Jyk8f9vcOBQHV94OK+fPumJmvQHxJoWkaKWq9Vs+yUsbq0zGT1I4RgeH2b5wef7+c7bl8F\n",
       "eKgoHVVZa8ZPEORzR6sT1BzDUAD/d9F78e2Tzv99v8D+fLVTqAKAsbGamKey1Mt9Ann4eH3gTXTz\n",
       "idWtAJ8PQWOk7NzSeQn/OTHDuEikVF1R4z8BQCy+6D1aWRfY0tTGG2OM8rRoPaeIj5ZHzJxszElN\n",
       "VM8K8JS5WOfv8mzRnQAKoEhmt8gyPM4lU9SmBK1MCQBnW4KONT86v1hZ1PbwSXPw4JWussVjtH9Y\n",
       "NCoiL9UoH/6PSu8jFrfY2t36erQHXLIEakMi1SydmzB31h3GGXFDFNPaK8Rme9B79Ixrd0WN+1ij\n",
       "NRQ/doRmuFLBkHSTOm5GruG+pFjFdAmorG4IXH1Qua6ASniclfFtDYt+oUjKipPrCQB7QBQ2lrgP\n",
       "fFzm+9XWUtcqJ3/5vDLDpJ79XHZk3u8nGZ42qlj1+ydtbxysCezrydp6ugmipNJ7WBPB5tydY0jP\n",
       "HaVNzs3QzeE4ZpTbI+ZbnSFPbVOw9vsfnVvqWnirPyCNGD08IlqtYkh2hjZ5dErEQzoNm+6ykyOt\n",
       "Lt5/PQEuSRRKo22VkydK+vvS1XEKlhCJAnsqvcVvH7f/ZU2R67eXbMEGAMiIV5oWZWiWvz5Fv2xG\n",
       "sjqNJQRvn3Rs2lji/lNP19VjAQDgD7FHhujZB9OGqYxRkZxixgRDVlqS6uEOFaJUVu0rPFzctrnF\n",
       "JqijImVp8dEKVWyUXDk92zAuMZ6bFwpBU1HrOw6AdhQgUooChb0+ItMbWJitSo5Ws3IAOGEOtL53\n",
       "0vHZih9sC4vtofZ7Qu6523V/fmGcds1TY3V36pUsBwAbSlxnVh2xLfAD/IAIMDf7XYIkNmXfpp2l\n",
       "18rkAJAy9HKFaIr/qULkeQQKy9zf1JgDB2uaeFNGijo5QsUyacNUUTOnGO42xSnv4oOwpDi1zYkc\n",
       "efUc3I5Gk6PhyTuVKaOGyLUAYPGIoY9Pu/atL/L92+4q9wbflRJ2Trpm/jPjdBtfnqB/dIThcl8A\n",
       "KG7hbRuKnb8qsQsVvVlTrwQAQMUlf3kwJI24Z4JhPMtcfng5GcH49GsrxJpGvvHIaeem2ma+KSjQ\n",
       "lIwUdYyCY8j4dE1KzijNnIP2llF2wcXNnsoapw9XxsgYAl6k+KzUXbi2yP3KR2ecf6z3BFsBICdW\n",
       "nvnIaG3eHybqX7vbpEqUMT+9OL4Qpe8VON7dXuFd39v19FoAABRVePbGGuXTszO0P7tu6lghUonE\n",
       "llRdrhArLvmKdh9u29jcFiRRkfLUxBiFNiqSU9icoZQHo5mYBI1MBgBH6wMNb+U7Pnw337H4gi1Y\n",
       "ciWs+uks3Z9fztUvfzxTm9Ne8XXkvQLHNytOOZeiD4e0PgkAIAYCYknKUNUDSXEKzdWNpnil7r4p\n",
       "xqkjTarZMtk/K8TQ6Qve78qqvXurGwIJqcOUKfUWHsm8KGvxSP68YudXq4pcj39X49uOK2X142O0\n",
       "Tz5/u/7TVybqH0rSya6ZBwD21/gubbrgWdDgEOx9WUhfBaC2ibcEBYm7a7x+ukrBMNcEZggyR0TE\n",
       "T8zUPjikQ4VosQZbTpS4vqizBKvqmvjsqnpfzaZyx9JPiz1/bfGKdgD45XB1zoIMzYbfTdS/NClB\n",
       "Gct0USiY3YL/g0LHy/uq/Ef6uo5+n0R/vyhp17Klpge763f8rMu6YU/zrn2nml+2WtH+Z+5IAAFc\n",
       "2bUTdTDOSNa9+cQY7YLsOIXhevEkCvzph7a8laecz/Un/z4/Ae04XeL3UQb57IwU9ZDr9UuKVajv\n",
       "nxp1+1UVIo/LjztZkKH59fO3G/JemqCfmaCRqbqbd90ZZ8FfjtkfAyD0J/9+C2h1hDwsSxvGjNDc\n",
       "b4zk5NfrSwiQblLHzZhg+Jf4aPlUwpDqkQqa9nimbt1/TDH8OitGMaQnj+RJS6B1fbF7SY1TqO5v\n",
       "/v0WAADl1f7zokgS7s7VT2DZ7pegUjBM7mjtiDZbcN4j0YrHH0rXpCtY0qPX0cVL0rv5jv/ZXend\n",
       "0u/EESYBAFBU4T4Qa5TflZOhTe7pmKpaP8kCVUVw1+yhXfJWvn1P3hnXi33JsTN6PnP3hHZ8Z3/h\n",
       "aLHzmkNPuPj7Bc/F/Q38CwjTpSwQXgE4Vmwry9tpfq/ZFgqFMy4AVDtCvi8rvMvOmv0N4YwbVgEA\n",
       "sPM72/KVnzfspmH7HQGCRLG2yL1+z8XwvPcdCbsAANh+xPzstgMtxeGKt+6MK3/tacfvwhWvIwMi\n",
       "oKEBtm0H7W+UVfkc/Y1V0BhoPlDr/w1w/eu1vjIgAgDg22OtX6/eYfnEz/focrZTHAFR+PSs56/7\n",
       "q32nwpjazxgwAQCwcU/T62t3WL7r6/jVRa6/byp1rei+Z98ZUAEAhEPHPc8fKnTU9nbgtnOe8h0l\n",
       "9hcGIqmODLQAHCy2Xti6v/XNRivf43f4fFvIteu854+VHnR7q9tfBlwAAGz+pnndB9vM26UebAe8\n",
       "SLHujPOTPVW+rwY+sxskAAC2HrA8t2Vvc7ffP1r9o+vwR2dcr92InIAbKKC1FZ5tB1tf+/G8p8sv\n",
       "N/9Q5zd/XR34LYCwV5JdccMEAMDBk45DH243r/X4xGvqxFa/GNpS7n6rwOwNWwHVE26oAADYurf1\n",
       "zx/utOzt+DMKYM0p17YtZZ5VNzqfsB2HewG1WXE8PoZ7gOclbTIvynZf9JV+fqZtfgs/8F/Nu5rB\n",
       "EIBmJ+8QRMmpU7EzGRsf2FzuePqYRbzh/zE26EwdrT10f6r6o8HOYzCJB9Dpff8tbnGLG8L/A/WE\n",
       "roTBs2RqAAAAAElFTkSuQmCC'\n",
       "     style='height:25px; border-radius:12px; display: inline-block; float: left; vertical-align: middle'></img>\n",
       "\n",
       "\n",
       "  <img src='data:image/png;base64,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'\n",
       "       style='height:15px; border-radius:12px; display: inline-block; float: left'></img>\n",
       "  \n",
       "\n",
       "\n",
       "\n",
       "\n",
       "</div>\n"
      ]
     },
     "metadata": {},
     "output_type": "display_data"
    }
   ],
   "source": [
    "import rioxarray\n",
    "import geopandas as gpd\n",
    "import matplotlib.pyplot as plt\n",
    "import numpy as np\n",
    "import pandas as pd\n",
    "from pyproj import CRS, Proj, transform, Transformer\n",
    "from sliderule import sliderule, icesat2, earthdata, h5\n",
    "from scipy.interpolate import RectBivariateSpline\n",
    "from shapely import wkt\n",
    "\n",
    "# Fancier plotting tools\n",
    "from cartopy import crs\n",
    "import geoviews as gv\n",
    "import geoviews.feature as gf\n",
    "from geoviews import dim, opts\n",
    "import geoviews.tile_sources as gts\n",
    "from bokeh.models import HoverTool\n",
    "gv.extension('bokeh')"
   ]
  },
  {
   "cell_type": "markdown",
   "id": "d73344a2-f797-4218-a99f-a9db0338f002",
   "metadata": {
    "tags": [],
    "user_expressions": []
   },
   "source": [
    "## Data\n",
    "\n",
    "We will use SlideRule to acquire ATL06 data as well as the gridded data, noting customization for averaging footprint, photon identification: this will be a modified ATL06 download that includes some vegetation filtering\n",
    "\n",
    "\n",
    "**Data considerations:**\n",
    "\n",
    "To obtain snow depth with ICESat-2, we are going to use SlideRule for its high level of customization. We are going to look at snow depth data over the Arctic Coastal Plain (ACP) of Alaska, which is a relatively flat region with little vegetation. Thus, we should expect good agreement between ICESat-2 and our lidar rasters of interest."
   ]
  },
  {
   "cell_type": "markdown",
   "id": "9b1dc0ce-bb80-4b83-9040-ef70f1dcf68e",
   "metadata": {},
   "source": [
    "## Initialize SlideRule"
   ]
  },
  {
   "cell_type": "code",
   "execution_count": null,
   "id": "2198d7df-b3d2-476e-b7f3-1169c2e9c539",
   "metadata": {
    "tags": []
   },
   "outputs": [],
   "source": [
    "# Initialize SlideRule\n",
    "icesat2.init(\"slideruleearth.io\")"
   ]
  },
  {
   "cell_type": "markdown",
   "id": "9cedccaa-7c3c-4f84-b3f0-04678954e95d",
   "metadata": {},
   "source": [
    "## Define Region of Interest\n",
    "\n",
    "After we initialize SlideRule, we define our region of interest. Notice that there are two options in the cell below. This is because SlideRule accepts either the coordinates of a box/polygon or a geoJSON for the `region` input. \n",
    "\n",
    "We are going to use the `sliderule.icesat2.toregion()` function in this tutorial using a pre-generated polygon, but we have the secondary method included for your personal reference."
   ]
  },
  {
   "cell_type": "markdown",
   "id": "f17bd848-01fc-4aae-bd38-60ee839c0bd2",
   "metadata": {},
   "source": [
    "### Bounding box method"
   ]
  },
  {
   "cell_type": "code",
   "execution_count": null,
   "id": "25d3065f-2a34-41e6-a845-604a3d1e0d01",
   "metadata": {
    "tags": []
   },
   "outputs": [],
   "source": [
    "# Define region of interest over ACP, Alaska\n",
    "region = [ {\"lon\":-148.85, \"lat\": 69.985},\n",
    "           {\"lon\":-148.527, \"lat\": 69.985},\n",
    "           {\"lon\":-148.527, \"lat\": 70.111},\n",
    "           {\"lon\":-148.85, \"lat\": 70.111},\n",
    "           {\"lon\":-148.85, \"lat\": 69.985} ]\n",
    "region"
   ]
  },
  {
   "cell_type": "markdown",
   "id": "24c1d072-5114-4d68-a80b-678080859907",
   "metadata": {},
   "source": [
    "### geoJSON method"
   ]
  },
  {
   "cell_type": "code",
   "execution_count": null,
   "id": "e0a9579d-49dd-46c4-9e21-751a86c7e65c",
   "metadata": {
    "tags": []
   },
   "outputs": [],
   "source": [
    "# Alternate method, with geoJSON\n",
    "path = 'supplemental-data/'\n",
    "region = sliderule.toregion(f'{path}acp_lidar_box.geojson')[\"poly\"]\n",
    "region"
   ]
  },
  {
   "cell_type": "markdown",
   "id": "2cdf708a-f54a-4cd4-aa12-af46cefbdc36",
   "metadata": {
    "user_expressions": []
   },
   "source": [
    "## Build SlideRule request\n",
    "\n",
    "Now we are going to build our SlideRule request by defining our ICESat-2 parameters. \n",
    "\n",
    "Since we want the ATL06 product we will use the `icesat2.atl06p()` function in this tutorial. You can find other SlideRule functions and more detail on the `icesat2.atl06p()` function on the [SlideRule API reference.](https://slideruleearth.io/web/rtd/api_reference/icesat2.html)\n",
    "\n",
    "We won't use every parameter in this tutorial, but here is a reference list for some of them. More information can be found in the [SlideRule users guide](https://slideruleearth.io/web/rtd/user_guide/ICESat-2.html#parameters).\n",
    "\n",
    "```{note} **Parameters**\n",
    "* `poly`: polygon defining region of interest\n",
    "* `track`: reference pair track number (1, 2, 3, or 0 to include for all three; defaults to 0)\n",
    "* `rgt`: reference ground track (defaults to all if not specified)\n",
    "* `cycle`: counter of 91-day repeat cycles completed by the mission (defaults to all if not specified)\n",
    "* `region`: geographic region for corresponding standard product (defaults to all if not specified)\n",
    "* `t0`: start time for filtering granules (format %Y-%m-%dT%H:%M:%SZ, e.g. 2018-10-13T00:00:00Z)\n",
    "* `t1`: stop time for filtering granuels (format %Y-%m-%dT%H:%M:%SZ, e.g. 2018-10-13T00:00:00Z)\n",
    "* `srt`: surface type: 0-land, 1-ocean, 2-sea ice, 3-land ice, 4-inland water\n",
    "* `cnf`: confidence level for photon selection, can be supplied as a single value (which means the confidence must be at least that), or a list (which means the confidence must be in the list)\n",
    "* `atl08_class`: list of ATL08 classifications used to select which photons are used in the processing (the available classifications are: “atl08_noise”, “atl08_ground”, “atl08_canopy”, “atl08_top_of_canopy”, “atl08_unclassified”)\n",
    "* `maxi`: maximum iterations, not including initial least-squares-fit selection\n",
    "* `H_min_win`: minimum height to which the refined photon-selection window is allowed to shrink, in meters\n",
    "* `sigma_r_max`: maximum robust dispersion in meters\n",
    "* `compact`: return compact version of results (leaves out most metadata)\n",
    "```"
   ]
  },
  {
   "cell_type": "markdown",
   "id": "27f7636a-ead5-44bf-919a-7a37fbca26eb",
   "metadata": {
    "user_expressions": []
   },
   "source": [
    "```{warning}\n",
    "**Warning: Interupt the kernel if the following cell takes to long to run!**\n",
    "\n",
    "If everyone runs this at once we might overwhelm SlideRule, an example dataframe is provided for this tutorial later\n",
    "```"
   ]
  },
  {
   "cell_type": "code",
   "execution_count": null,
   "id": "a36ae02f-1e4c-4eb3-b350-14cb881179f2",
   "metadata": {
    "tags": []
   },
   "outputs": [],
   "source": [
    "# Build SlideRule request\n",
    "# Define parameters\n",
    "parms = {\n",
    "    \"poly\": region,\n",
    "    \"srt\": icesat2.SRT_LAND,\n",
    "    \"cnf\": icesat2.CNF_SURFACE_HIGH,\n",
    "    \"atl08_class\": [\"atl08_ground\"],\n",
    "    \"ats\": 5.0,\n",
    "    \"len\": 20.0,\n",
    "    \"res\": 10.0,\n",
    "    \"maxi\": 5\n",
    "}\n",
    "\n",
    "# Calculated ATL06 dataframe\n",
    "is2_df = icesat2.atl06p(parms, \"nsidc-s3\")\n",
    "\n",
    "# Display top of the ICESat-2 dataframe\n",
    "is2_df.head()"
   ]
  },
  {
   "cell_type": "markdown",
   "id": "7b83b47e-d65c-45ff-806b-5578587e41b7",
   "metadata": {
    "user_expressions": []
   },
   "source": [
    "```{note} **Review:** In the above cell, what does each parameter we defined represent?\n",
    ":class: dropdown\n",
    "\n",
    "We defined our `region` above, so let's run through the remaining parameters:\n",
    "* `srt`: Only land photons will be considered.\n",
    "* `cnf`: Only high-confidence photons.\n",
    "* `atl08_class`: Only ground photons, as identified by the ATL08 algorithm.\n",
    "* `ats`: The maximum along-track spread (uncertainty) in aggregated photons will be 5 m.\n",
    "* `len`: The length of each segment of aggregated photons will be 20 m.\n",
    "* `res`: The along-track resolution will be 10 m. Because each segment will be 20 m long, there will be overlap between successive data points.\n",
    "* `maxi`: The SlideRule refinement algorithm will iterate 5 times per segment at maximum.\n",
    "```"
   ]
  },
  {
   "cell_type": "markdown",
   "id": "e4e1a042-89f5-4792-ba0c-b1df3c312678",
   "metadata": {
    "user_expressions": []
   },
   "source": [
    "### Subseting the data\n",
    "\n",
    "You probably noticed that the algorithm took a long time to generate the GeoDataFrame. That is because (i) our region of interest was rather large and (ii) we obtained all ICESat-2 tracks in the ROI since its launch (2018)."
   ]
  },
  {
   "cell_type": "markdown",
   "id": "b181e3d7-005c-4812-a6e3-77e6f92e4b7e",
   "metadata": {
    "user_expressions": []
   },
   "source": [
    "For the sake of interest, let's take a look at all of the ICESat-2 tracks over ACP, Alaska."
   ]
  },
  {
   "cell_type": "code",
   "execution_count": null,
   "id": "4e37a8fa-87b8-4dc2-8e04-a79f87f6e4d5",
   "metadata": {
    "tags": []
   },
   "outputs": [],
   "source": [
    "# Sample plot for all of the ICESat-2 tracks since its launch\n",
    "\n",
    "# Calculate Extent\n",
    "lons = [p[\"lon\"] for p in region]\n",
    "lats = [p[\"lat\"] for p in region]\n",
    "lon_margin = (max(lons) - min(lons)) * 0.1\n",
    "lat_margin = (max(lats) - min(lats)) * 0.1\n",
    "\n",
    "# Create Plot\n",
    "fig,(ax1,ax2) = plt.subplots(num=None, ncols=2, figsize=(12, 6))\n",
    "box_lon = [e[\"lon\"] for e in region]\n",
    "box_lat = [e[\"lat\"] for e in region]\n",
    "\n",
    "# Plot SlideRule Ground Tracks\n",
    "ax1.set_title(\"SlideRule Zoomed Ground Tracks\")\n",
    "ROI = is2_df.plot(ax=ax1, column=is2_df[\"h_mean\"], cmap='winter_r', s=1.0, zorder=3)\n",
    "ax1.plot(box_lon, box_lat, linewidth=1.5, color='r', zorder=2)\n",
    "ax1.set_xlim(min(lons) - lon_margin, max(lons) + lon_margin)\n",
    "ax1.set_ylim(min(lats) - lat_margin, max(lats) + lat_margin)\n",
    "ax1.set_aspect('equal', adjustable='box')\n",
    "\n",
    "\n",
    "# Plot SlideRule Global View\n",
    "ax2.set_title(\"SlideRule Global Reference\")\n",
    "world = gpd.read_file(gpd.datasets.get_path('naturalearth_lowres'))\n",
    "world.plot(ax=ax2, color='0.8', edgecolor='black')\n",
    "is2_df.plot(ax=ax2, column=is2_df[\"h_mean\"], cmap='winter_r', s=1.0, zorder=3)\n",
    "ax2.plot(box_lon, box_lat, linewidth=1.5, color='r', zorder=2)\n",
    "ax2.set_xlim(min(lons)-1, max(lons)+1)\n",
    "ax2.set_ylim(min(lats)-1, max(lats)+1)\n",
    "ax2.set_aspect('equal', adjustable='box')\n",
    "\n",
    "# Show Plot\n",
    "plt.tight_layout()"
   ]
  },
  {
   "cell_type": "markdown",
   "id": "ee6ef5f0-b0ad-41e6-b969-5bd6d357b614",
   "metadata": {
    "user_expressions": []
   },
   "source": [
    "It is cool to see all of the available data, but we only have lidar DEMs available from March 2022. So, we are going to subset the data to include one ICESat-2 track (**RGT 1097**) in **March 2022**."
   ]
  },
  {
   "cell_type": "code",
   "execution_count": null,
   "id": "6babc890-f9b6-4e44-a105-0383c554ff76",
   "metadata": {
    "tags": []
   },
   "outputs": [],
   "source": [
    "# Subset ICESat-2 data to single RGT, time of year\n",
    "is2_df_subset = is2_df[is2_df['rgt']==1097]\n",
    "is2_df_subset = is2_df_subset.loc['2022-03']\n",
    "\n",
    "# Display top of dataframe\n",
    "is2_df_subset.head()"
   ]
  },
  {
   "cell_type": "markdown",
   "id": "06e1a88d-2b33-454c-9bd9-db18b24e9b00",
   "metadata": {
    "user_expressions": []
   },
   "source": [
    "```{note} **Example Dataframe!**\n",
    "Because there are so many of us, we might have overloaded the SlideRule server with the above request. If you were unable to generate a request, run the cell below to load pre-saved SlideRule data over the region of interest. This pre-saved file contains the exact same output that we would get if we ran the above cells.\n",
    "```"
   ]
  },
  {
   "cell_type": "code",
   "execution_count": null,
   "id": "330597b7-e818-406e-b6b7-81008540bad0",
   "metadata": {
    "tags": []
   },
   "outputs": [],
   "source": [
    "# Read pre-saved SlideRule data into Pandas DataFrame\n",
    "is2_df_subset = pd.read_csv(f'{path}sliderule_acp_rgt1097_20220304.csv')\n",
    "\n",
    "# Convert geometry column into a format readable by GeoPandas\n",
    "is2_df_subset['geometry'] = is2_df_subset['geometry'].apply(wkt.loads)\n",
    "\n",
    "# Convert to a GeoDataFrame\n",
    "is2_df_subset = gpd.GeoDataFrame(is2_df_subset, geometry='geometry', crs=\"EPSG:4326\")\n",
    "\n",
    "is2_df_subset.head()"
   ]
  },
  {
   "cell_type": "markdown",
   "id": "fd227bb3-0063-4bf1-a999-53569d222a3b",
   "metadata": {
    "user_expressions": []
   },
   "source": [
    "## Sample the DTM to ICESat-2 ground track \n",
    "\n",
    "Our ICESat-2 data is ready to go! Now it's time to load the airborne lidar data, and co-register it with ICESat-2.\n",
    "\n",
    "The lidar data we will use is from the University of Alaska, Fairbanks (UAF). The UAF lidar obtains snow-on and snow-off DEMs/DTMs with a 1064 nm (near-infrared) laser, from which it can also derive snow depth. \n",
    "\n",
    "UAF lidar rasters normally have a spatial resolution of 0.5 m, which would take a long time to process for this tutorial. As a compromise between computation speed and resolution, we will use rasters that have been coarsened to 3 m resolution.\n",
    "\n",
    "The best way to load lidar DEMs/DTMs is to use `rioxarray`:\n",
    "\n",
    "### Load raster data"
   ]
  },
  {
   "cell_type": "code",
   "execution_count": null,
   "id": "22049dea-1657-4ca4-8daa-af7ca056ebdf",
   "metadata": {
    "tags": []
   },
   "outputs": [],
   "source": [
    "# File paths for UAF rasters\n",
    "f_snow_off = f'{path}coastalplain_2022aug31_dtm_3m.tif'\n",
    "f_snow_on = f'{path}coastalplain_2022mar12_snowdepth_3m.tif'\n",
    "\n",
    "# Load files as rioxarray datasets\n",
    "lidar_snow_off = rioxarray.open_rasterio(f_snow_off)\n",
    "lidar_snow_on = rioxarray.open_rasterio(f_snow_on)"
   ]
  },
  {
   "cell_type": "markdown",
   "id": "e751141c-8598-4adc-baf6-43e49cd830aa",
   "metadata": {
    "user_expressions": []
   },
   "source": [
    "### Reproject coordinates so datasets can be compared\n",
    "\n",
    "It is not immediately obvious, but the UAF rasters are in a different spatial projection than ICESat-2. UAF is in **EPSG:32606**, ICESat-2 is in **WGS84/EPSG:4326**.\n",
    "\n",
    "In order to directly compare these two datasets, we are going to add reprojected coordinates to the ICESat-2 DataFrame. In essence, we will go from **latitude/longitude** to **northing/easting**. Luckily, there is an easy way to do this with GeoPandas, specifically the `geopandas.to_crs()` function."
   ]
  },
  {
   "cell_type": "code",
   "execution_count": null,
   "id": "32511c5d-0e06-441c-acfa-3a88bd09094d",
   "metadata": {
    "tags": []
   },
   "outputs": [],
   "source": [
    "# Initialize ICESat-2 coordinate projection\n",
    "is2_df_subset = is2_df_subset.set_crs(\"EPSG:4326\")\n",
    "\n",
    "# Change to EPSG:32606\n",
    "is2_df_subset = is2_df_subset.to_crs(\"EPSG:32606\")\n",
    "\n",
    "# Display top of dataframe\n",
    "is2_df_subset.head()"
   ]
  },
  {
   "cell_type": "markdown",
   "id": "3be2f79c-d864-400b-a3bf-deb8d0d66dac",
   "metadata": {
    "user_expressions": []
   },
   "source": [
    "### Co-register rasters and ICESat-2\n",
    "\n",
    "Now, we are going to co-register both rasters to the queried ICESat-2 data. The function below is fairly long, but the gist is that we are using a spline interpolant to match both the snow-off UAF data (surface height) and UAF snow depths with ICESat-2 surface heights. The resulting DataFrame will have both ICESat-2 and UAF data in it."
   ]
  },
  {
   "cell_type": "code",
   "execution_count": null,
   "id": "afca8b56-0a0d-41f3-95ab-f8a64f78af29",
   "metadata": {
    "tags": []
   },
   "outputs": [],
   "source": [
    "# Make coregistration function\n",
    "def coregister_is2(lidar_snow_off, lidar_snow_depth, is2_df):\n",
    "    \"\"\"\n",
    "    Co-registers UAF data with ICESat-2 data with a rectangular bivariate\n",
    "    spline.\n",
    "\n",
    "    Parameters\n",
    "    ----------\n",
    "    lidar_height : rioxarray dataset\n",
    "        Lidar DEM/DTM in rioarray format.\n",
    "    lidar_snow_depth : rioxarray dataset\n",
    "        Lidar-derived snow depth in rioxarray format.\n",
    "    is2_df : GeoDataFrame\n",
    "        GeoDataFrame for the ICESat-2 data generated with SlideRule.\n",
    "\n",
    "    Returns\n",
    "    -------\n",
    "    is2_uaf_df : GeoDataFrame\n",
    "        Contains the coordinate and elevation data that matches best with\n",
    "        ICESat-2.\n",
    "\n",
    "    \"\"\"\n",
    "    \n",
    "    # Define x/y coordinates from snow-off data\n",
    "    x0 = np.array(lidar_snow_off.x)\n",
    "    y0 = np.array(lidar_snow_off.y)\n",
    "    \n",
    "    # Do the same, but for snow depth data\n",
    "    xs = np.array(lidar_snow_on.x)\n",
    "    ys = np.array(lidar_snow_on.y)\n",
    "    \n",
    "    # Filter NaNs that would otherwise mess up the interpolators\n",
    "    dem_heights = np.array(lidar_snow_off.sel(band=1))[::-1,:]\n",
    "    dem_heights[np.isnan(dem_heights)] = -9999\n",
    "    dem_depths = np.array(lidar_snow_depth.sel(band=1))[::-1,:]\n",
    "    dem_depths[np.isnan(dem_depths)] = -9999\n",
    "    \n",
    "    # Generate interpolators\n",
    "    interp_height = RectBivariateSpline(np.array(y0)[::-1], \n",
    "                                       np.array(x0),\n",
    "                                       dem_heights)\n",
    "    interp_depth = RectBivariateSpline(np.array(ys)[::-1],\n",
    "                                       np.array(x0),\n",
    "                                       dem_depths)\n",
    "    \n",
    "    # Use constructed interpolators to align UAF with ICESat-2. This aligns with all six\n",
    "    # ICESat-2 beams\n",
    "    is2_uaf_df = pd.DataFrame()\n",
    "    for beam in np.unique(is2_df['gt']):\n",
    "        is2_tmp = is2_df.loc[is2_df['gt']==beam]\n",
    "            \n",
    "        # ICESat-2 x/y coordinates\n",
    "        xn = is2_tmp.geometry.x\n",
    "        yn = is2_tmp.geometry.y\n",
    "            \n",
    "        # Define indices within x/y bounds of DEM\n",
    "        i1 = (xn>np.min(x0)) & (xn<np.max(x0))\n",
    "        i1 &= (yn>np.min(y0)) & (yn<np.max(y0))\n",
    "        \n",
    "        lidar_height = interp_height(yn[i1], xn[i1], grid=False)\n",
    "        lidar_snow_depth = interp_depth(yn[i1], xn[i1], grid=False)\n",
    "        # Set x/y coordinates, UAF height/snow depth, and ICESat-2 heights into same DataFrame\n",
    "        tmp = gpd.GeoDataFrame(data={'x': xn[i1],\n",
    "                                     'y': yn[i1],\n",
    "                                     'time': is2_tmp.index.values[i1],\n",
    "                                     'beam': is2_tmp['gt'][i1],\n",
    "                                     'lidar_height': lidar_height,\n",
    "                                     'lidar_snow_depth': lidar_snow_depth,\n",
    "                                     'is2_height': is2_tmp['h_mean'][i1],\n",
    "                                     'h_sigma': is2_tmp['h_sigma'][i1],\n",
    "                                     'dh_fit_dx': is2_tmp['dh_fit_dx'][i1]})\n",
    "        \n",
    "        # Concatenate coregistered data to DataFrame\n",
    "        is2_uaf_df = pd.concat([is2_uaf_df, tmp])\n",
    "        \n",
    "        # Add latitude/longitude coordinates to new DataFrame\n",
    "        transformer = Transformer.from_crs(\"EPSG:32606\", \"EPSG:4326\", always_xy=True)\n",
    "        is2_uaf_df['lon'], is2_uaf_df['lat'] = transformer.transform(is2_uaf_df['x'],\n",
    "                                                                     is2_uaf_df['y'])\n",
    "        \n",
    "    return is2_uaf_df\n",
    "                                     "
   ]
  },
  {
   "cell_type": "code",
   "execution_count": null,
   "id": "8dbc74fb-e3e3-40fd-ae42-816c622a91e8",
   "metadata": {
    "tags": []
   },
   "outputs": [],
   "source": [
    "# Co-register ICESat-2 and UAF using the above function\n",
    "is2_uaf_df = coregister_is2(lidar_snow_off, lidar_snow_on, is2_df_subset)\n",
    "\n",
    "# Convert to a GeoDataFrame\n",
    "geom = gpd.points_from_xy(is2_uaf_df.lon, is2_uaf_df.lat)\n",
    "is2_uaf_gpd = gpd.GeoDataFrame(is2_uaf_df,\n",
    "                               geometry=geom, \n",
    "                               crs=\"EPSG:4326\")\n",
    "\n",
    "# Display top of dataframe\n",
    "is2_uaf_gpd.head()"
   ]
  },
  {
   "cell_type": "markdown",
   "id": "522c47de-4159-4527-a1e2-72613faebf9b",
   "metadata": {
    "user_expressions": []
   },
   "source": [
    "As you can see, we now have a DataFrame that includes several useful variables:\n",
    "* `beam`: ICESat-2 beam (gt1l, gt2l, etc.)\n",
    "* `lidar_height`: Snow-off surface height from UAF lidar.\n",
    "* `lidar_snow_depth`: Snow depth derived from UAF.\n",
    "* `is2_height`: ICESat-2 surface height (snow-on, in this case).\n",
    "* `h_sigma`: ICESat-2 height uncertainty.\n",
    "* `dh_fit_dx`: Along-track slope of the terrain.\n",
    "\n",
    "With this DataFrame, it will now be very simple to derive snow depth!"
   ]
  },
  {
   "cell_type": "markdown",
   "id": "08ccebeb-99e9-455d-8ca6-b1d0de990ed2",
   "metadata": {
    "user_expressions": []
   },
   "source": [
    "## Differencing to get a snowdepth\n",
    "To derive snow depth with ICESat-2, we need a snow-off DEM and ICESat-2 observations over a snow-covered surface. The variable `lidar_height` in our DataFrame is the snow-off DEM co-registered with ICESat-2, and we subsetted our SlideRule data to specifically look at ACP during snow-on conditions.\n",
    "\n",
    "Thus, deriving snow depth is now as simple as taking the difference between `is2_height` and `lidar_height`:"
   ]
  },
  {
   "cell_type": "code",
   "execution_count": null,
   "id": "369351e2-216d-419e-b2fd-1455d469a513",
   "metadata": {
    "tags": []
   },
   "outputs": [],
   "source": [
    "# Derive snow depth using snow-on/snow-off differencing\n",
    "is2_uaf_gpd['is2_snow_depth'] = is2_uaf_gpd['is2_height'] - is2_uaf_gpd['lidar_height']\n",
    "\n",
    "# Estimate the difference (bias) between IS-2 depths and UAF depths\n",
    "is2_uaf_gpd['snow_depth_residual'] = is2_uaf_gpd['is2_snow_depth'] - is2_uaf_gpd['lidar_snow_depth']"
   ]
  },
  {
   "cell_type": "markdown",
   "id": "70d6c3a3-ba07-420a-96d1-9e44e8a0411c",
   "metadata": {
    "user_expressions": []
   },
   "source": [
    "## Visualize the result\n",
    "Horray! we finally have snow ICESat-2 snow depths! Let's make a couple of plots with the data we have."
   ]
  },
  {
   "cell_type": "code",
   "execution_count": null,
   "id": "40d82e65-8fe8-4199-a750-5f1b26adfe18",
   "metadata": {
    "tags": []
   },
   "outputs": [],
   "source": [
    "## Map Plot\n",
    "\n",
    "# Create Plot\n",
    "fig,ax = plt.subplots(num=None, figsize=(12, 6))\n",
    "box_lon = [e[\"lon\"] for e in region]\n",
    "box_lat = [e[\"lat\"] for e in region]\n",
    "lons = [p[\"lon\"] for p in region]\n",
    "lats = [p[\"lat\"] for p in region]\n",
    "lon_margin = (max(lons) - min(lons)) * 0.1\n",
    "lat_margin = (max(lats) - min(lats)) * 0.1\n",
    "\n",
    "# Plot SlideRule Ground Tracks\n",
    "ax.set_title(\"ICESat-2 Snow Depth, RGT 1097, March 2022\")\n",
    "is2_uaf_gpd.plot.scatter(ax=ax, x='lon', y='lat', c='is2_snow_depth',\n",
    "                             s=1.0, zorder=3, vmin=0, vmax=1.5)\n",
    "world = gpd.read_file(gpd.datasets.get_path('naturalearth_lowres'))\n",
    "world.plot(ax=ax, color='0.8', edgecolor='black')\n",
    "ax.plot(box_lon, box_lat, linewidth=1.5, color='r', zorder=2)\n",
    "ax.set_xlim(min(lons) - lon_margin, max(lons) + lon_margin)\n",
    "ax.set_ylim(min(lats) - lat_margin, max(lats) + lat_margin)\n",
    "ax.set_aspect('equal', adjustable='box')\n",
    "ax.set_xlabel('Longitude', fontsize=18)\n",
    "ax.set_ylabel('Latitude', fontsize=18)"
   ]
  },
  {
   "cell_type": "code",
   "execution_count": null,
   "id": "3fd89001-2d77-4f86-a55f-a6cb6ffee07d",
   "metadata": {
    "tags": []
   },
   "outputs": [],
   "source": [
    "## Along-track snow depth comparison\n",
    "# Plot snow depths for the three strong beams\n",
    "fig, (ax1,ax2,ax3) = plt.subplots(3)\n",
    "\n",
    "# Left strong beam\n",
    "tmp_df = is2_uaf_gpd[is2_uaf_gpd['beam']==10]\n",
    "ax1.plot(tmp_df['lat'], tmp_df['is2_snow_depth'], '.', label='ICESat-2')\n",
    "ax1.plot(tmp_df['lat'], tmp_df['lidar_snow_depth'], '.', label='UAF')\n",
    "ax1.set_title('gt1l')\n",
    "ax1.legend()\n",
    "\n",
    "# Central strong beam\n",
    "tmp_df = is2_uaf_gpd[is2_uaf_gpd['beam']==30]\n",
    "ax2.plot(tmp_df['lat'], tmp_df['is2_snow_depth'], '.')\n",
    "ax2.plot(tmp_df['lat'], tmp_df['lidar_snow_depth'], '.')\n",
    "ax2.set_ylabel('Snow depth [m]', fontsize=18)\n",
    "ax2.set_title('gt2l')\n",
    "\n",
    "# Right strong beam\n",
    "tmp_df = is2_uaf_gpd[is2_uaf_gpd['beam']==50]\n",
    "ax3.plot(tmp_df['lat'], tmp_df['is2_snow_depth'], '.')\n",
    "ax3.plot(tmp_df['lat'], tmp_df['lidar_snow_depth'], '.')\n",
    "ax3.set_xlabel('Latitude [m]', fontsize=18)\n",
    "ax3.set_title('gt3l')\n",
    "plt.tight_layout()\n",
    "\n",
    "# Only include outer axis labels\n",
    "for axs in [ax1, ax2, ax3]:\n",
    "    axs.label_outer()\n",
    "    axs.set_ylim([-0.5, 1.5])"
   ]
  },
  {
   "cell_type": "markdown",
   "id": "15d8195a-8413-42d2-bf2a-8b0969438c59",
   "metadata": {
    "user_expressions": []
   },
   "source": [
    "**Question for everyone**: There's nothing plotted for the left strong beam! Why is that? (hint: look at the map figure)"
   ]
  },
  {
   "cell_type": "code",
   "execution_count": null,
   "id": "e88e3d7f-6996-45ae-bbc4-2fb9ea195a53",
   "metadata": {
    "tags": []
   },
   "outputs": [],
   "source": [
    "## Scatter plot of ICESat-2 depths vs. UAF depths\n",
    "fig, ax = plt.subplots(figsize=(12,6))\n",
    "s = ax.scatter(is2_uaf_gpd['lidar_snow_depth'], is2_uaf_gpd['is2_snow_depth'],\n",
    "               c=is2_uaf_gpd['snow_depth_residual'], vmin=-0.5, vmax=0.5)\n",
    "ax.set_xlabel('UAF snow depth [m]', fontsize=18)\n",
    "ax.set_ylabel('ICESat-2 snow depth [m]', fontsize=18)\n",
    "ax.set_xlim([-0.5, 1.5])\n",
    "ax.set_ylim([-0.5, 1.5])\n",
    "cbar = fig.colorbar(s, ax=ax)\n",
    "cbar.set_label('Snow depth residual [m]')\n",
    "plt.tight_layout()"
   ]
  },
  {
   "cell_type": "markdown",
   "id": "cc5806fe-ece4-4c4e-b2e6-f0a4da95d7b2",
   "metadata": {
    "user_expressions": []
   },
   "source": [
    "It's not perfect thanks to a few oddities in gt3l, but otherwise the scatter plot looks great!"
   ]
  },
  {
   "cell_type": "markdown",
   "id": "1ff95e4e-cc36-49bf-b53e-ea4c10671dfb",
   "metadata": {
    "user_expressions": []
   },
   "source": [
    "As a last step, let's add make an interactive plot using Holoviews/Geoviews. This isn't strictly necessary and can be somewhat complex. But the Holoviews and Geoviews packages are nice tools for visualizing data."
   ]
  },
  {
   "cell_type": "code",
   "execution_count": null,
   "id": "02138e51-016a-4164-ab2f-938861517b47",
   "metadata": {},
   "outputs": [],
   "source": [
    "### Read in the SnowEx lidar boxes\n",
    "lidar_box = gpd.read_file(f'{path}snowex_lidar_swaths.shp')\n",
    "\n",
    "# Geoviews map of snow depth over site\n",
    "hover = HoverTool(tooltips=[('ICESat-2 depth', '@is2_snow_depth'),\n",
    "                            ('UAF depth', '@lidar_snow_depth')])\n",
    "\n",
    "# Create polygon of lidar box over map\n",
    "lidar_box_poly = gv.Polygons(lidar_box).opts(color='white',\n",
    "                                             alpha=0.5)\n",
    "\n",
    "# Convert GeoDataFrame to a format plottable by Geoviews\n",
    "points_on_map = gv.Points(is2_uaf_gpd, \n",
    "                          kdmins=['Longitude', 'Latitude'],\n",
    "                          vdmins=['snow_depth_residual']).opts(tools=[hover],\n",
    "                                                               color_index='snow_depth_residual',\n",
    "                                                               colorbar=True,\n",
    "                                                               clabel='IS2-UAF depth residual [m]',\n",
    "                                                               size=4.0,\n",
    "                                                               fontscale=1.5,\n",
    "                                                               clim=(-0.5,0.5))\n",
    "\n",
    "\n",
    "# Project data onto Mercator projection\n",
    "projected = gv.operation.project(points_on_map, projection=crs.GOOGLE_MERCATOR)\n",
    "\n",
    "# Use ESRI imagery for a tile set\n",
    "world_map = gts.EsriImagery.opts(width=600, height=570)\n",
    "\n",
    "# Generate the map figure\n",
    "map_fig = (world_map * lidar_box_poly * projected).opts(xlim=(projected.data.Longitude.min()-10000, projected.data.Longitude.max()+10000),\n",
    "                                                          ylim=(projected.data.Latitude.min()-10000, projected.data.Latitude.max()+10000))\n",
    "\n",
    "map_fig"
   ]
  },
  {
   "cell_type": "markdown",
   "id": "surrounded-amateur",
   "metadata": {
    "user_expressions": []
   },
   "source": [
    "## Summary\n",
    "\n",
    " 🎉 Congratulations! You've completely this tutorial and have seen how to compare ICESat-2 to raster data, how to calculate ICESat-2 ATL06 products using SlideRule, and how to calculate snow depths from ICESat-2 data."
   ]
  },
  {
   "cell_type": "markdown",
   "id": "749f5c79-19d7-48ac-9421-852c3c83cc5f",
   "metadata": {},
   "source": [
    "## References\n",
    "\n",
    "To further explore the topics of this tutorial see the following detailed documentation:\n",
    "\n",
    "* [SlideRule Website](https://slideruleearth.io/web/)\n",
    "* [SlideRule online demo](https://demo.slideruleearth.io)\n",
    "\n",
    "**Papers**\n",
    "\n",
    "Deems, Jeffrey S., et al. “Lidar Measurement of Snow Depth: A Review.” Journal of Glaciology, vol. 59, no. 215, 2013, pp. 467–79. DOI.org (Crossref), https://doi.org/10.3189/2013JoG12J154.\n",
    "\n",
    "Nuth, C., and A. Kääb. “Co-Registration and Bias Corrections of Satellite Elevation Data Sets for Quantifying Glacier Thickness Change.” The Cryosphere, vol. 5, no. 1, Mar. 2011, pp. 271–90. DOI.org (Crossref), https://doi.org/10.5194/tc-5-271-2011.\n"
   ]
  },
  {
   "cell_type": "code",
   "execution_count": null,
   "id": "60fcdd3d-5538-47ad-b26b-ccbd18c7b804",
   "metadata": {},
   "outputs": [],
   "source": []
  }
 ],
 "metadata": {
  "kernelspec": {
   "display_name": "Python 3 (ipykernel)",
   "language": "python",
   "name": "python3"
  },
  "language_info": {
   "codemirror_mode": {
    "name": "ipython",
    "version": 3
   },
   "file_extension": ".py",
   "mimetype": "text/x-python",
   "name": "python",
   "nbconvert_exporter": "python",
   "pygments_lexer": "ipython3",
   "version": "3.10.12"
  }
 },
 "nbformat": 4,
 "nbformat_minor": 5
}
