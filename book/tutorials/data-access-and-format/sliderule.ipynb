{
 "cells": [
  {
   "cell_type": "markdown",
   "id": "3e83a915-2131-4c31-ba4f-25ccbcbd947f",
   "metadata": {},
   "source": [
    "# Overview of **SlideRule** Functionality"
   ]
  },
  {
   "cell_type": "markdown",
   "id": "e0e0e989-71c6-4288-bd38-65386c9ec9d7",
   "metadata": {
    "tags": []
   },
   "source": [
    "[SlideRule](https://slideruleearth.io/web/) is a web service that provides on-demand customized data products.  The primary way of accessing SlideRule is through its Python client.\n",
    "\n",
    "This notebook gives an overview of the different functionality SlideRule provides. \n",
    "\n",
    "```{admonition} Learning Objectives\n",
    "- How to import and configure the SlideRule Python client\n",
    "- Survey SlideRule's core and advanced functionality\n",
    "- Where to find documentation on SlideRule's APIs\n",
    "```"
   ]
  },
  {
   "cell_type": "markdown",
   "id": "692bdcf6-29a7-4899-84fb-f22eb093c9dd",
   "metadata": {
    "tags": []
   },
   "source": [
    "## Import and Configure SlideRule"
   ]
  },
  {
   "cell_type": "markdown",
   "id": "7d481101-0de5-465a-9188-47f0fe42a91b",
   "metadata": {
    "tags": []
   },
   "source": [
    "The SlideRule Python client currently consists of seven primary modules.\n",
    "\n",
    "* __sliderule__ - the core module\n",
    "* __earthdata__ - functions that access CMR (NASA's Common Metadata Repository), CMR-STAC, and TNM (The National Map, for the 3DEP data hosted by USGS)\n",
    "* __h5__ - APIs for directly reading HDF5 and NetCD4 data\n",
    "* __raster__ - APIs for sampling supported raster datasets\n",
    "* __icesat2__ - APIs for processing ICESat-2 data\n",
    "* __gedi__ - APIs for processing GEDI data\n",
    "* __io__ - functions for reading and writing local files with SlideRule results\n",
    "* __ipysliderule__ - functions for building interactive Jupyter notebooks that interface to SlideRule\n",
    "\n",
    "These modules can be imported into your environment like so:"
   ]
  },
  {
   "cell_type": "code",
   "execution_count": 1,
   "id": "2275b86a-6cb3-4b60-b42a-9b11c63b9fab",
   "metadata": {
    "tags": []
   },
   "outputs": [
    {
     "name": "stderr",
     "output_type": "stream",
     "text": [
      "/srv/conda/envs/notebook/lib/python3.10/site-packages/sliderule/sliderule.py:41: UserWarning: Shapely 2.0 is installed, but because PyGEOS is also installed, GeoPandas will still use PyGEOS by default for now. To force to use and test Shapely 2.0, you have to set the environment variable USE_PYGEOS=0. You can do this before starting the Python process, or in your code before importing geopandas:\n",
      "\n",
      "import os\n",
      "os.environ['USE_PYGEOS'] = '0'\n",
      "import geopandas\n",
      "\n",
      "In a future release, GeoPandas will switch to using Shapely by default. If you are using PyGEOS directly (calling PyGEOS functions on geometries from GeoPandas), this will then stop working and you are encouraged to migrate from PyGEOS to Shapely 2.0 (https://shapely.readthedocs.io/en/latest/migration_pygeos.html).\n",
      "  import geopandas\n"
     ]
    }
   ],
   "source": [
    "from sliderule import sliderule, earthdata, h5, raster, icesat2, gedi"
   ]
  },
  {
   "cell_type": "markdown",
   "id": "3d687bf8-7af3-4a43-bdc4-948b0090ff5b",
   "metadata": {},
   "source": [
    "Once those modules are imported, the next thing you'll likely want to do is configure the client with the settings you want to use.  That is done with a call to `sliderule.init()`.  For detailed documentation on what arguments are supported by the initialization function, check out the [api reference page](https://slideruleearth.io/web/rtd/api_reference/sliderule.html#init).\n",
    "\n",
    "It is not necessary to call `sliderule.init()` in order to start using the client, since the default settings provide a working system.  Nevertheless, it is a good practice to include a call to this function early in your notebook as a placeholder for when different settings are desired.  For instance, if you want to change the verbosity of the client and enable logging to the console, you can do so as shown below."
   ]
  },
  {
   "cell_type": "code",
   "execution_count": 2,
   "id": "a7c65325-3487-4ef8-9b01-eab9095214d5",
   "metadata": {
    "tags": []
   },
   "outputs": [],
   "source": [
    "sliderule.init(verbose=True)"
   ]
  },
  {
   "cell_type": "markdown",
   "id": "53b98040-6579-4490-a39e-9a535cbb379d",
   "metadata": {
    "tags": []
   },
   "source": [
    "## Core Functionality\n",
    "- [Directly read HDF5 and NetCDF4 files](#h5p)\n",
    "- [Subset ATL03 photon cloud data](#atl03p)\n",
    "- Generate customized ATL06 elevations\n",
    "- Generate customized ATL06 elevations using ATL08 classifications\n",
    "- Generate customized ATL08 vegetation metrics\n",
    "- Sample rasters (HLS, ArcticDEM, REMA, 3DEP, GEDI L3/L4A) at points of interest\n",
    "- Subset GEDI L1B, L2A, L4A"
   ]
  },
  {
   "cell_type": "markdown",
   "id": "4ff6fa43-b021-45ae-8c71-fa25dc727cbd",
   "metadata": {
    "tags": []
   },
   "source": [
    "<a id='h5p'></a>\n",
    "### Directly read HDF5 and NetCDF files"
   ]
  },
  {
   "cell_type": "markdown",
   "id": "0eb44b79-dca6-4962-ad19-53c7be31a89e",
   "metadata": {},
   "source": [
    "The **h5** module provides APIs for directly reading HDF5 and NetCDF4 files hosted by NASA in the cloud. [`h5.h5p`](https://slideruleearth.io/web/rtd/api_reference/h5.html#h5p) is the primary method used to directly read data in the cloud.  The [reference page](https://slideruleearth.io/web/rtd/api_reference/h5.html#h5p) for `h5.h5p` provides a description of each of the arguments needed to make the call and the different options available.  \n",
    "\n",
    "\n",
    "```{tip}\n",
    "Under-the-hood, the functions in the **h5** module make HTTP requests to SlideRule servers running in us-west-2, and those servers read the requested data from S3 and return the results in an HTTP response back to the client.\n",
    "```\n",
    "\n",
    "In the example below, the first 100 latitudes and longitudes are read from an ATL06 granule.  The results are returned in a dictionary of numpy arrays, where each key is the name of the dataset.  If instead of reading just the first 100 values, all the values need to be read, then \"numrows\" can be set to `h5.ALL_ROWS`. "
   ]
  },
  {
   "cell_type": "code",
   "execution_count": null,
   "id": "9a3cbd1f-c886-4405-9e65-644d0a881563",
   "metadata": {
    "tags": []
   },
   "outputs": [],
   "source": [
    "asset = \"icesat2\"\n",
    "resource=\"ATL06_20181017222812_02950102_006_02.h5\"\n",
    "datasets = [\n",
    "    # latitudes\n",
    "    {\"dataset\": \"/gt1l/land_ice_segments/latitude\", \"startrow\": 0, \"numrows\": 100},\n",
    "    {\"dataset\": \"/gt1r/land_ice_segments/latitude\", \"startrow\": 0, \"numrows\": 100},\n",
    "    {\"dataset\": \"/gt2l/land_ice_segments/latitude\", \"startrow\": 0, \"numrows\": 100},\n",
    "    {\"dataset\": \"/gt2r/land_ice_segments/latitude\", \"startrow\": 0, \"numrows\": 100},\n",
    "    {\"dataset\": \"/gt3l/land_ice_segments/latitude\", \"startrow\": 0, \"numrows\": 100},\n",
    "    {\"dataset\": \"/gt3r/land_ice_segments/latitude\", \"startrow\": 0, \"numrows\": 100},\n",
    "    # longitudes\n",
    "    {\"dataset\": \"/gt1l/land_ice_segments/longitude\", \"startrow\": 0, \"numrows\": 100},\n",
    "    {\"dataset\": \"/gt1r/land_ice_segments/longitude\", \"startrow\": 0, \"numrows\": 100},\n",
    "    {\"dataset\": \"/gt2l/land_ice_segments/longitude\", \"startrow\": 0, \"numrows\": 100},\n",
    "    {\"dataset\": \"/gt2r/land_ice_segments/longitude\", \"startrow\": 0, \"numrows\": 100},\n",
    "    {\"dataset\": \"/gt3l/land_ice_segments/longitude\", \"startrow\": 0, \"numrows\": 100},\n",
    "    {\"dataset\": \"/gt3r/land_ice_segments/longitude\", \"startrow\": 0, \"numrows\": 100}\n",
    "]\n",
    "\n",
    "atl06 = h5.h5p(datasets, resource, asset)"
   ]
  },
  {
   "cell_type": "code",
   "execution_count": null,
   "id": "61d6c873-6e22-4b63-afee-0bc0c8db8b5c",
   "metadata": {
    "tags": []
   },
   "outputs": [],
   "source": [
    "atl06"
   ]
  },
  {
   "cell_type": "markdown",
   "id": "ab671993-0fd7-4dc2-9aa4-b870b7be3abd",
   "metadata": {
    "tags": []
   },
   "source": [
    "<a id='atl03p'></a>\n",
    "### Subset ATL03 photon cloud data"
   ]
  },
  {
   "cell_type": "markdown",
   "id": "d905d27c-c806-4d9a-bff4-9ffffeb3f21c",
   "metadata": {},
   "source": [
    "The [`icesat2.atl03sp`](https://slideruleearth.io/web/rtd/api_reference/icesat2.html#atl03sp) function makes an ATL03 subsetting request to SlideRule servers and returns a GeoDataFrame of photons.  Documentation for this function can be found in the [API reference](https://slideruleearth.io/web/rtd/api_reference/icesat2.html#atl03sp).\n",
    "\n",
    "In the example below, a set of resources is specified via the `poly`, `rgt`, and `cycle` parameters.  Because each granule contains so many photons, it is necessary when making this call to limit the area over which the subsetting request is made, along with the number of granules inside that area. By supplying a GeoJSON file (which is read and processed by the `sliderule.toregion` function into a format usable by SlideRule), the extent of data read in each granule is trimmed.  By supplying a reference ground track (`rgt`), and the cycle number, the number of granules is reduced - in this case to a single granule.\n",
    "\n",
    "The other parameters in the request are used to specify different aspects of the ATL03 subsetting request.  The `srt` parameters specifies the surface type, which in this case is land. The surface type is used in conjunction with the next parameter - `cnf` which is the confidence level.  A confindence level of high tells SlideRule to only include photons that are highly likely to be surface reflections off of land.  (As a different example, if the `srt` parameter specified land ice and the confidence level was low, then SlideRule would include all photons that had *at least* a low likelihood of being a reflection off of land ice). Lastly, the `len` and `res` parameters specify the length and resolution of the photon segments being returned.  In this case we are asking for 20m segments of photons every 20m.  The length and step size of the segment does not matter so much if it is only photons being returned, but when other processing parameters are supplied (like minimal along track spread of a segment), then it matters more.\n",
    "\n",
    "Lastly, the call to `icesat2.atl03sp` is made which sends the HTTP request to SlideRule's servers and then waits and accumulates the response from the servers into a GeoDataFrame, which each row representing a single photon."
   ]
  },
  {
   "cell_type": "code",
   "execution_count": null,
   "id": "aa459cb0-0baf-41d9-87eb-59b27b8d809e",
   "metadata": {
    "tags": []
   },
   "outputs": [],
   "source": [
    "# Build Region of Interest\n",
    "region = sliderule.toregion('grandmesa.geojson')\n",
    "\n",
    "# Build ATL03 Subsetting Request Parameters\n",
    "parms = {\n",
    "    \"poly\": region[\"poly\"],\n",
    "    \"rgt\": 737,\n",
    "    \"cycle\": 16,\n",
    "    \"srt\": icesat2.SRT_LAND,\n",
    "    \"cnf\": icesat2.CNF_SURFACE_HIGH,\n",
    "    \"len\": 20.0,\n",
    "    \"res\": 20.0\n",
    "}\n",
    "\n",
    "# Make ATL03 Subsetting Request\n",
    "atl03 = icesat2.atl03sp(parms, resources=resources)"
   ]
  },
  {
   "cell_type": "code",
   "execution_count": null,
   "id": "eb78d155-3dfb-4e14-8c70-ba769ea5dcde",
   "metadata": {
    "tags": []
   },
   "outputs": [],
   "source": [
    "atl03"
   ]
  },
  {
   "cell_type": "code",
   "execution_count": null,
   "id": "72086864-e879-4db2-b78e-01c466a8ccf6",
   "metadata": {},
   "outputs": [],
   "source": []
  },
  {
   "cell_type": "code",
   "execution_count": null,
   "id": "14a8ede8-6465-4210-8415-fa83f4d50ca0",
   "metadata": {},
   "outputs": [],
   "source": []
  },
  {
   "cell_type": "code",
   "execution_count": null,
   "id": "ce2fad60-2a58-4e18-93c9-d21962d206f6",
   "metadata": {},
   "outputs": [],
   "source": []
  },
  {
   "cell_type": "markdown",
   "id": "53ec0feb-2a51-4fe3-a719-59b7d254eb27",
   "metadata": {},
   "source": [
    "## Advanced Functionality\n",
    "- Private clusters\n",
    "- GeoParquet output to S3\n",
    "- Customized YAPC classification\n",
    "- Include ancillary data\n",
    "- Query CMR, CMR-STAC, and TNM\n",
    "- Directly sample supported raster datasets\n",
    "- Subset via rasterized area of interest\n",
    "- Kmeans clustering"
   ]
  },
  {
   "cell_type": "code",
   "execution_count": null,
   "id": "c3758c5f-0904-461a-ac80-f4a38f3bccd7",
   "metadata": {},
   "outputs": [],
   "source": []
  }
 ],
 "metadata": {
  "kernelspec": {
   "display_name": "Python 3 (ipykernel)",
   "language": "python",
   "name": "python3"
  },
  "language_info": {
   "codemirror_mode": {
    "name": "ipython",
    "version": 3
   },
   "file_extension": ".py",
   "mimetype": "text/x-python",
   "name": "python",
   "nbconvert_exporter": "python",
   "pygments_lexer": "ipython3",
   "version": "3.10.12"
  }
 },
 "nbformat": 4,
 "nbformat_minor": 5
}
