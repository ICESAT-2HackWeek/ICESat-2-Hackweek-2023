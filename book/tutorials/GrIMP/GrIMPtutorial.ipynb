{
 "cells": [
  {
   "cell_type": "markdown",
   "id": "35234863-139a-4a7f-85b2-eb90cb72da16",
   "metadata": {
    "tags": [],
    "user_expressions": []
   },
   "source": [
    "# Using Greenland Ice Mapping Project Data Tools + ICESat-2 Data\n",
    "---"
   ]
  },
  {
   "cell_type": "markdown",
   "id": "945147bb-3b1b-4dbf-9be5-2b03ebd5829a",
   "metadata": {
    "user_expressions": []
   },
   "source": [
    "This notebook illustrates some of the various tools and capabilities available to access and explore imagery and velocity data products from the Greenland Ice Mapping Project [GrIMP](https://nsidc.org/grimp) for further details.. Specifically, we will use the functionality of `nisarVel` and `nisarVelSeries` classes for working with GrIMP velocity products.\n",
    "\n",
    "This notebook will also include examples of how to quickly explore imagery and velocity mosaics, formmatted as cloud optimized geotiffs (more on that below) to interactively select and download subsets of GrIMP image (NSIDC-0723) and velocity (NSIDC-481, 0725, 0727, 0731, 0766) data. For the Sentinel-based velocity mosaics (0725, 0727, 0731), a user can select a box on a map and choose which components are downloaded (vv, vx, vy, ex, ey, dT) and saved to a netCDF file. \n",
    "\n",
    "We will explore some of this functionality, read in and plot velocities over an area of interest, quickly run some statistical calculations to visualoize how ice flow has changed, and also evaluate these changes alongside ICESat-2 land ice elevation change. "
   ]
  },
  {
   "cell_type": "markdown",
   "id": "349ad0a7-4e5c-4f7b-bbe6-d65a484fce3b",
   "metadata": {
    "tags": [],
    "user_expressions": []
   },
   "source": [
    "![GrIMP header](/home/jovyan/shared-public/ICESat-2-Hackweek/GrIMP/GrIMP_tutorial_res/GrIMP_header.png)"
   ]
  },
  {
   "cell_type": "markdown",
   "id": "a40060cf-eafd-446a-a83f-bc584e2c975e",
   "metadata": {
    "user_expressions": []
   },
   "source": [
    "## Environment setup"
   ]
  },
  {
   "cell_type": "markdown",
   "id": "498d6333-24ec-4c66-bce2-275b89a77ed5",
   "metadata": {
    "user_expressions": []
   },
   "source": [
    "The following packages are needed to execute this notebook. The notebook has been tested with the `environment.yml` in the *binder* folder of this repository. Thus, for best results, create a new conda environment to run this and other other GrIMP notebooks from this repository. \n",
    "\n",
    "`conda env create -f binder/environment.yml`\n",
    "\n",
    "`conda activate greenlandMapping`\n",
    "\n",
    "`python -m ipykernel install --user --name=greenlandMapping`\n",
    "\n",
    "`jupyter lab`\n",
    "\n",
    "See [NSIDCLoginNotebook](https://github.com/fastice/GrIMPNotebooks/blob/master/NSIDCLoginNotebook.ipynb) for additional information.\n",
    "\n",
    "The notebooks can be run on a temporary virtial instance (to start click [**binder**](https://mybinder.org/v2/gh/fastice/GrIMPNotebooks/HEAD?urlpath=lab)). See the github [README](https://github.com/fastice/GrIMPNotebooks#readme) for further details."
   ]
  },
  {
   "cell_type": "markdown",
   "id": "203fabdc-ea48-4ff1-9dd1-b13fca90b9e6",
   "metadata": {
    "user_expressions": []
   },
   "source": [
    "```{note}\n",
    "In order to use the full functionality of GrIMP notebooks for this tutorial, we will pip install two\n",
    "two packages with funcitons for reading, subsetting, plotting, and downloading various datasets.\n",
    "```"
   ]
  },
  {
   "cell_type": "code",
   "execution_count": null,
   "id": "f69419bf-55b9-477a-ab8a-2f438d063329",
   "metadata": {
    "tags": []
   },
   "outputs": [],
   "source": [
    "%pip install git+https://github.com/fastice/grimpfunc.git@master\n",
    "%pip install git+https://github.com/fastice/nisardev.git@main"
   ]
  },
  {
   "cell_type": "markdown",
   "id": "9ea76324-2229-4013-b0a3-6dd4087bd535",
   "metadata": {
    "user_expressions": []
   },
   "source": [
    "Now for the normal imports"
   ]
  },
  {
   "cell_type": "code",
   "execution_count": null,
   "id": "61b4b00d-c5bd-4d7a-b310-335b2a4a3812",
   "metadata": {
    "tags": []
   },
   "outputs": [],
   "source": [
    "import ipywidgets\n",
    "\n",
    "import pandas as pd\n",
    "#import geopandas as gpd\n",
    "import json\n",
    "\n",
    "import IS2view\n",
    "import icepyx as ipx\n",
    "import h5py\n",
    "import warnings\n",
    "import pyproj\n",
    "import numpy as np\n",
    "import earthaccess\n",
    "import glob\n",
    "import os\n",
    "import sys\n",
    "import re\n",
    "import matplotlib.pyplot as plt\n",
    "from IPython.display import Image\n",
    "import rasterio\n",
    "from rasterio import plot\n",
    "\n",
    "\n",
    "import dask\n",
    "from dask.diagnostics import ProgressBar\n",
    "ProgressBar().register()\n",
    "dask.config.set(num_workers=2)\n",
    "import nisardev as nisar\n",
    "import matplotlib.colors as mcolors\n",
    "import grimpfunc as grimp\n",
    "import panel\n",
    "panel.extension()\n",
    "from datetime import datetime\n",
    "import glob\n",
    "import xarray as xr\n",
    "from shapely.geometry import box, Polygon\n",
    "\n",
    "import rioxarray #as rio # Used to read raster data from hdf5 files\n",
    "\n",
    "from IPython.lib.deepreload import reload\n",
    "\n",
    "# Ignore warning\n",
    "import warnings\n",
    "warnings.filterwarnings(\"ignore\")\n",
    "\n",
    "%load_ext autoreload\n",
    "%autoreload 2"
   ]
  },
  {
   "cell_type": "code",
   "execution_count": null,
   "id": "cbc18429-45e5-44ac-b589-a0f4fc82e453",
   "metadata": {
    "tags": []
   },
   "outputs": [],
   "source": [
    "# For searching NASA data\n",
    "auth = earthaccess.login()"
   ]
  },
  {
   "cell_type": "markdown",
   "id": "f93c467b-0616-4012-a183-5a1ad1dc37d3",
   "metadata": {
    "tags": [],
    "user_expressions": []
   },
   "source": [
    "## More tutorial guidance:\n",
    "See our [YouTube](https://www.youtube.com/@GreenlandIceMappingProject) page for more:"
   ]
  },
  {
   "cell_type": "code",
   "execution_count": null,
   "id": "05a86da3-a84e-4c07-8660-dc926cb91481",
   "metadata": {
    "user_expressions": []
   },
   "outputs": [],
   "source": [
    "from IPython.display import HTML\n",
    "HTML('<iframe width=\"560\" height=\"315\" src=\"https://www.youtube.com/embed/0kIcSXkxaxI\" \\\n",
    "     frameborder=\"0\" allow=\"accelerometer\" allowfullscreen></iframe>')"
   ]
  },
  {
   "cell_type": "markdown",
   "id": "d86ad711-9772-41e4-ad13-066246313999",
   "metadata": {
    "tags": [],
    "user_expressions": []
   },
   "source": [
    "```{note}\n",
    "**To get help and see options for any of the GrIMP or other functions while the cursor is \\\n",
    "positioned inside a method's parentheses, click shift+Tab.**\n",
    "```"
   ]
  },
  {
   "cell_type": "markdown",
   "id": "3d850445-7312-48a2-9a96-d9a4c4cb9cce",
   "metadata": {
    "user_expressions": []
   },
   "source": [
    "GrIMP velocity products are as stored at NSIDC in cloud-optimized geotif (COG) format with each compenent stored as separate band (e.g., vx, vy). In this notebook, we focus on on the velocity data, but the error and compenents can be similarly processed.\n",
    "\n",
    "For reading the data, the products are specified with a single root file name (e.g., for *filename.vx(vy).othertext.tif*). For example, the version 3 annual mosaic December 2017 to November 2018 is specified as `GL_vel_mosaic_Annual_01Dec17_30Nov18_*_v03.0`. For locally stored files, the corresponding path to the data must be provided. For remote data, the https link is required. "
   ]
  },
  {
   "cell_type": "code",
   "execution_count": null,
   "id": "40cd0995-fa8f-4240-adb7-c3b08ee0f957",
   "metadata": {
    "tags": []
   },
   "outputs": [],
   "source": [
    "myUrls = grimp.cmrUrls(mode='subsetter')  # Subsetter mode is required for subsetting.\n",
    "display(myUrls.initialSearch())"
   ]
  },
  {
   "cell_type": "markdown",
   "id": "e7858b98-9265-430c-ae8a-5031470e9b9d",
   "metadata": {
    "user_expressions": []
   },
   "source": [
    "This cell will pop up a search tool for the GrIMP products, which will run a predefined search for the annual products. While in principle, other products (e.g., six-day to quarterly can be retrieved, the rest of the notebook will need some modifications to accomodate)."
   ]
  },
  {
   "cell_type": "code",
   "execution_count": null,
   "id": "9860fef9-1849-4c6a-9934-3f14d2a95ccc",
   "metadata": {
    "tags": []
   },
   "outputs": [],
   "source": [
    "myVelSeries = nisar.nisarVelSeries() \n",
    "myVelSeries.readSeriesFromTiff(myUrls.getCogs(replace='vv', removeTiff=True), url=True, readSpeed=False, useErrors=True, useDT=True)  \n",
    "myVelSeries.xr"
   ]
  },
  {
   "cell_type": "markdown",
   "id": "65fba57f-e9d3-4dd0-80e3-48ef910694e9",
   "metadata": {
    "user_expressions": []
   },
   "source": [
    "## Preload Data and Select Bands\n",
    "The cells in this section read the cloud-optimized geotiffs (COG) headers and create nisarVelSeries or nisarImageSeries objects for velocity or image data, respectively. The actual data are not downloaded at this stage, but the xarray internal to each object will read the header data of each product so it can efficiently access the data during later downloads. The bands (e.g., vx, vy) can be selected at this stage.\n",
    "\n",
    "More detail can found on working with these tools in the workingWithGrIMPVelocityData and workingWithGrIMPImageData notebooks. "
   ]
  },
  {
   "cell_type": "markdown",
   "id": "32dea83f-efcc-4fca-a1dc-19e4e7144996",
   "metadata": {
    "user_expressions": []
   },
   "source": [
    "```{note}\n",
    "The  nisar class is used to read, display, velocity maps with a single time stamp. In this example, the `readSpeed=False` (default) forces the speed to be calculated from the individual components rather than read from a file, which is much quicker.\n",
    "\n",
    ": Here is an example of how to access header information remotely and see the structure and total size of your potential download\n",
    "\n",
    ":     myVelSeries = nisar.nisarVelSeries() \n",
    "      myVelSeries.readSeriesFromTiff(myUrls.getCogs(replace='vv', removeTiff=True), url=True,      readSpeed=False, useErrors=True, useDT=True)  \n",
    "      myVelSeries.xr\n",
    "```"
   ]
  },
  {
   "cell_type": "markdown",
   "id": "415c39b4-c581-4755-94a7-875b9e76475a",
   "metadata": {
    "user_expressions": []
   },
   "source": [
    "## For now, let's use a local files to see examples of these returns"
   ]
  },
  {
   "cell_type": "code",
   "execution_count": null,
   "id": "b17dec4e-c303-449a-8238-bddd9514e176",
   "metadata": {
    "tags": []
   },
   "outputs": [],
   "source": [
    "myVelSeries = nisar.nisarVelSeries() # Initialize a nisarVelSeries instance:\n",
    "localUrl = \"/home/jovyan/shared-public/ICESat-2-Hackweek/GrIMP/GrIMP_tutorial_res/Geotiffs/GL_vel_mosaic_Annual_01Dec20_30Nov21_*_v04.0\"\n",
    "myVelSeries.readSeriesFromTiff([localUrl], useDT=False,useErrors=False,readSpeed=True,url=False,useStack=False,overviewLevel=0)  \n",
    "myVelSeries.xr"
   ]
  },
  {
   "cell_type": "markdown",
   "id": "c67242d9-d496-4296-954b-b56773c298b1",
   "metadata": {
    "user_expressions": []
   },
   "source": [
    "## Examining interesting velocity map features\n",
    "\n",
    "The image below is an example of an annual GrIMP velocity mosaic, withfilename `GL_vel_mosaic_Annual_01Dec17_30Nov18_*_v03.0` (accessed at [**here**](https://n5eil01u.ecs.nsidc.org/MEASURES/NSIDC-0727.005/2022.09.01/))"
   ]
  },
  {
   "cell_type": "markdown",
   "id": "ae6bf3e3-1e03-44cf-9fcc-88aac8d4baeb",
   "metadata": {
    "user_expressions": []
   },
   "source": [
    "![GrIMP mosaic](/home/jovyan/shared-public/ICESat-2-Hackweek/GrIMP/GrIMP_tutorial_res/Geotiffs/GL_vel_mosaic_Quarterly_01Sep22_30Nov22_browse_v05.0.jpg)"
   ]
  },
  {
   "cell_type": "markdown",
   "id": "37c6ac6e-f7ba-4f09-bfc5-31e4e88f1f02",
   "metadata": {
    "user_expressions": []
   },
   "source": [
    "## **These files can be large!**\n",
    "\n",
    "Below are functions that allow you to quickly subset the data by spatial bounds, including the functions you can use to interactively select an ROI when exploring datasets remotely"
   ]
  },
  {
   "cell_type": "markdown",
   "id": "84bf2085-b47e-475c-88aa-c3c98a9645d4",
   "metadata": {
    "user_expressions": []
   },
   "source": [
    "## Method 1: Interactive ROI Selection\n",
    "Run the next the tool below to select the bounding box (or modify a manually selected box), which will display a SAR image map. Depending on network speed, it could take a few seconds to a minute to load the basemap. Use the box tool in the plot menu to select a region of interest. "
   ]
  },
  {
   "cell_type": "markdown",
   "id": "2ed0319d-89bf-4828-a87b-c4aaa3d54811",
   "metadata": {
    "user_expressions": []
   },
   "source": [
    "```{admonition} Interactive ROI selection\n",
    ":\n",
    ":     if 'boxPicker' not in locals(): # Only create if not defined above\n",
    "          boxPicker = grimp.boxPicker()\n",
    "      boxPicker.plotMap(show=(not myUrls.checkIDs(['NSIDC-0481']) and not myUrls.checkIDs(['NSIDC-0646'])))  # Skips map if a 481 product\n",
    "```"
   ]
  },
  {
   "cell_type": "markdown",
   "id": "1715bcd2-e52f-43df-ad59-b3b8eb91114d",
   "metadata": {
    "user_expressions": []
   },
   "source": [
    "## Method 2: Manual Selection\n",
    "The coordinates for bounding box, bbox, can be manually entered by modifying the cell below with the desired values. Even if not using interactive selection, running that step displays the manually selected box coordinates on radar map of Greenland. Note by default, coordinates are rounded to the nearest kilometer. We will a use predefined bbox for the tutorial today."
   ]
  },
  {
   "cell_type": "code",
   "execution_count": null,
   "id": "d7fbd8d5-725c-44be-acfc-267812dde028",
   "metadata": {
    "tags": []
   },
   "outputs": [],
   "source": [
    "values = np.around([-472889, -2540695, -453487, -2523127])\n",
    "xyBounds = dict(zip(['minx', 'miny', 'maxx', 'maxy'], values))\n",
    "xyBounds\n",
    "\n",
    "myVelSeries.subSetVel(xyBounds)\n",
    "myVelSeries.subset"
   ]
  },
  {
   "cell_type": "markdown",
   "id": "ae2a1274-9098-4a2b-b459-38df8f147761",
   "metadata": {
    "user_expressions": []
   },
   "source": [
    "The data in the above example map are stored as an Xarray, velMap.subset. In this case, the subset is the full map of Greenland over several timesteps, which is > 8GB and could take a while to download! Because of the lazy open mentioned above, the data have not been downloaded or read from disk yet. Before applying the final subset, its useful to examine the size of the full data (virtual) array. If the loadDataArray step was sucessful, this next cell will provide details on the size and organization of the full xarray (prior to any download)."
   ]
  },
  {
   "cell_type": "markdown",
   "id": "ae5ccdfa-d493-4e13-a290-c90b865b086a",
   "metadata": {
    "user_expressions": []
   },
   "source": [
    "```{admonition} Optionally download subset as netcdf file\n",
    "The downloaded subset can be saved in a netcdf and reloaded for to velSeries instance for later   analysis.   Note if the data have been subsetted, ONLY the subset will be saved - so it is not a bad idea to check out the dimensions, variable names, and total size of the subset data one last time prior to downloading.\n",
    "\n",
    ": Add comment on xy bounds           \n",
    ":     myVelSeries.subSetVel(xyBounds)\n",
    "      myVelSeries.subset\n",
    "\n",
    ": Add comment on export to cdf\n",
    ":     subsetFile = 'steenstrupGlacier_annVel.nc'\n",
    "      myVelSeries.loadRemote()\n",
    "      myVelSeries.toNetCDF(subsetFile)\n",
    "      \n",
    "```\n"
   ]
  },
  {
   "cell_type": "markdown",
   "id": "c5a88253-870f-485b-ba23-75377121d3ae",
   "metadata": {
    "user_expressions": []
   },
   "source": [
    "## For today, however, we are going to assume we have already subset and downloaded our area and variable of interest, and read in velocities over Steenstrup Glacier, Greenland."
   ]
  },
  {
   "cell_type": "code",
   "execution_count": null,
   "id": "30ddd458-8617-495f-b0c0-e56ba21d96f0",
   "metadata": {
    "tags": []
   },
   "outputs": [],
   "source": [
    "# Now reload the downloaded data\n",
    "myVelReload = nisar.nisarVelSeries() #shared-public/ICESat-2-Hackweek/\n",
    "myVelReload.readSeriesFromNetCDF('/home/jovyan/shared-public/ICESat-2-Hackweek/GrIMP/GrIMP_tutorial_res/steenstrupGlacier_annVel.nc')\n",
    "myVelReload.loadRemote()"
   ]
  },
  {
   "cell_type": "code",
   "execution_count": null,
   "id": "e6128aa5-e247-4a6d-9e25-297aca49f1b7",
   "metadata": {
    "tags": []
   },
   "outputs": [],
   "source": [
    "myVelReload.xr #confirm dimensions of read-in subsetted velocities"
   ]
  },
  {
   "cell_type": "markdown",
   "id": "1d4f7122-037b-44ae-82a5-a68e4d315388",
   "metadata": {
    "user_expressions": []
   },
   "source": [
    "## We can plot the annual velocity maps for Steenstrup Glacier and explore multiyear trends using an inspection tools in the cell blocks below"
   ]
  },
  {
   "cell_type": "code",
   "execution_count": null,
   "id": "256aa298-203b-4f2e-b237-f5d670bcb7f0",
   "metadata": {
    "tags": []
   },
   "outputs": [],
   "source": [
    "fig, axes = plt.subplots(4, 2, figsize=(18,18))\n",
    "\n",
    "for ax, date in zip(axes.flatten(), myVelReload.time): \n",
    "    myVelReload.displayVelForDate(date=date, ax=ax,units='km')\n",
    "axes[-1, -1].axis('off'); #remove any empty axes if odd number of years\n",
    "fig.suptitle('Time Series of Speed', fontsize=18)\n",
    "fig.tight_layout()"
   ]
  },
  {
   "cell_type": "code",
   "execution_count": null,
   "id": "85465084-9dd0-473e-9c7d-fc876c28a945",
   "metadata": {
    "tags": []
   },
   "outputs": [],
   "source": [
    "myVelReload.inspect()"
   ]
  },
  {
   "cell_type": "markdown",
   "id": "183e026c-669a-4628-ba3d-eb90be35a1aa",
   "metadata": {
    "user_expressions": []
   },
   "source": [
    "## Quickly plot velocity anomalies\n",
    "computes [velocity at t_i - mean] of all timesteps in data series"
   ]
  },
  {
   "cell_type": "code",
   "execution_count": null,
   "id": "d2e0e9c1-f496-47b8-9040-c48505fbcfc1",
   "metadata": {
    "tags": []
   },
   "outputs": [],
   "source": [
    "velAnomaly = myVelReload.anomaly()\n",
    "\n",
    "# Plot the anomaly for each year\n",
    "fig, axes = plt.subplots(2, 4, figsize=(20,10))\n",
    "for date, ax in zip(velAnomaly.time, axes.flatten()):\n",
    "    velAnomaly.displayVelForDate(date, ax=ax, units='m', vmin=-600, vmax=600, autoScale=False, \n",
    "                                 cmap='RdBu_r', colorBarLabel='Speed Anomaly (m/yr)', extend='both')\n",
    "axes[-1, -1].axis('off'); # kill axis with no plot\n",
    "fig.suptitle('Speed Anomalies by Year', fontsize=16)\n",
    "fig.tight_layout()"
   ]
  },
  {
   "cell_type": "markdown",
   "id": "dc507dcd-1894-4213-8fa9-54d7b1f32ecb",
   "metadata": {
    "tags": [],
    "user_expressions": []
   },
   "source": [
    "## Dynamic Thinning at ice sheet margins\n",
    "Typically, we expect a rapid acceleration in ice flow speeds to also correspond to ice thinning. Let's use ICESat-2 data to see if that is true for Steenstrup Glacier.\n",
    "\n",
    "![glacier thinning](/home/jovyan/shared-public/ICESat-2-Hackweek//GrIMP/GrIMP_tutorial_res/dynamic_thinning_schematic.png)"
   ]
  },
  {
   "cell_type": "markdown",
   "id": "5e8521f1-d8f7-4777-9e80-f036e3e573a4",
   "metadata": {
    "tags": [],
    "user_expressions": []
   },
   "source": [
    "```{admonition} Accessing from the cloud (outside of tutorial)\n",
    "Follow the example block of code below to access non-local data outside of tutorial  \n",
    "\n",
    ": Give ROI, product, and temporal range to query using icepyx\n",
    ":     spatial_extent = [-34.8799,66.4665,-34.3847,66.6506]\n",
    "      region_a = ipx.Query('ATL06',spatial_extent,['2019-01-01','2021-12-31'])\n",
    "      region_a.earthdata_login()\n",
    "      \n",
    ": Explore variables, select those of interest and download submitted granule order.\n",
    ":     region_a.show_custom_options(dictview=True)\n",
    "      region_a.order_vars.avail(options=True)\n",
    "      region_a.visualize_spatial_extent()\n",
    "      region_a.download_granules('/home/jovyan/icesat2data') #download path (replace with preferred directory)\n",
    "```"
   ]
  },
  {
   "cell_type": "markdown",
   "id": "b94df729-7257-4c3d-9faa-60a1070bc3be",
   "metadata": {
    "user_expressions": []
   },
   "source": [
    "## Read in local ATL06 data \n"
   ]
  },
  {
   "cell_type": "markdown",
   "id": "e6288170-d2f4-4155-89de-fca285409481",
   "metadata": {
    "tags": [],
    "user_expressions": []
   },
   "source": [
    "## Use Ben Smith's function to read in ATL06 (ICESat-2 land ice product) data from local files"
   ]
  },
  {
   "cell_type": "code",
   "execution_count": null,
   "id": "3e4f09e6-01d4-4a4c-afd2-45ea317c44c0",
   "metadata": {
    "tags": []
   },
   "outputs": [],
   "source": [
    "def atl06_to_dict(filename, beam, field_dict=None, index=None, epsg=None):\n",
    "    \"\"\"\n",
    "        Read selected datasets from an ATL06 file\n",
    "\n",
    "        Input arguments:\n",
    "            filename: ATl06 file to read\n",
    "            beam: a string specifying which beam is to be read (ex: gt1l, gt1r, gt2l, etc)\n",
    "            field_dict: A dictinary describing the fields to be read\n",
    "                    keys give the group names to be read, \n",
    "                    entries are lists of datasets within the groups\n",
    "            index: which entries in each field to read\n",
    "            epsg: an EPSG code specifying a projection (see www.epsg.org).  Good choices are:\n",
    "                for Greenland, 3413 (polar stereographic projection, with Greenland along the Y axis)\n",
    "                for Antarctica, 3031 (polar stereographic projection, centered on the Pouth Pole)\n",
    "        Output argument:\n",
    "            D6: dictionary containing ATL06 data.  Each dataset in \n",
    "                dataset_dict has its own entry in D6.  Each dataset \n",
    "                in D6 contains a numpy array containing the \n",
    "                data\n",
    "    \"\"\"\n",
    "    if field_dict is None:\n",
    "        field_dict={None:['latitude','longitude','h_li', 'atl06_quality_summary'],\\\n",
    "                    'ground_track':['x_atc','y_atc'],\\\n",
    "                    'fit_statistics':['dh_fit_dx', 'dh_fit_dy']}\n",
    "    D={}\n",
    "    file_re=re.compile('ATL06_(?P<date>\\d+)_(?P<rgt>\\d\\d\\d\\d)(?P<cycle>\\d\\d)(?P<region>\\d\\d)_(?P<release>\\d\\d\\d)_(?P<version>\\d\\d).h5')\n",
    "    with h5py.File(filename,'r') as h5f:\n",
    "        for key in field_dict:\n",
    "            for ds in field_dict[key]:\n",
    "                if key is not None:\n",
    "                    ds_name=beam+'/land_ice_segments/'+key+'/'+ds\n",
    "                else:\n",
    "                    ds_name=beam+'/land_ice_segments/'+ds\n",
    "                if index is not None:\n",
    "                    D[ds]=np.array(h5f[ds_name][index])\n",
    "                else:\n",
    "                    D[ds]=np.array(h5f[ds_name])\n",
    "                if '_FillValue' in h5f[ds_name].attrs:\n",
    "                    bad_vals=D[ds]==h5f[ds_name].attrs['_FillValue']\n",
    "                    D[ds]=D[ds].astype(float)\n",
    "                    D[ds][bad_vals]=np.NaN\n",
    "    if epsg is not None:\n",
    "        xy=np.array(pyproj.proj.Proj(epsg)(D['longitude'], D['latitude']))\n",
    "        D['x']=xy[0,:].reshape(D['latitude'].shape)\n",
    "        D['y']=xy[1,:].reshape(D['latitude'].shape)\n",
    "    temp=file_re.search(filename)\n",
    "    D['rgt']=int(temp['rgt'])\n",
    "    D['cycle']=int(temp['cycle'])\n",
    "    D['beam']=beam\n",
    "    return D"
   ]
  },
  {
   "cell_type": "code",
   "execution_count": null,
   "id": "a6371dbf-d401-4978-85d7-310a500f6043",
   "metadata": {
    "tags": []
   },
   "outputs": [],
   "source": [
    "# Read in local SAR mosaic of our glacier of interest\n",
    "\n",
    "img_name = '/home/jovyan/GrIMP_tutorial_res/Geotiffs/GL_S1bks_mosaic_uncalibrated._2021-08-05.tif'\n",
    "img = rasterio.open(img_name)\n",
    "\n",
    "# read in first band of imagery\n",
    "array = img.read(1)\n",
    "array[array < 0] = 0\n",
    "\n",
    "# Read ATL06 land ice elevation from GT2l track\n",
    "ATL06_file0=('/home/jovyan/shared-public/ICESat-2-Hackweek/GrIMP/GrIMP_tutorial_res/icesat2data/processed_ATL06_20191106230008_06270503_006_01.h5')\n",
    "D0=atl06_to_dict(ATL06_file0,'/gt2l', index=None, epsg=3413)\n",
    "ATL06_file1=('/home/jovyan/shared-public/ICESat-2-Hackweek/GrIMP/GrIMP_tutorial_res/icesat2data/processed_ATL06_20211102121853_06271303_006_01.h5')\n",
    "D1=atl06_to_dict(ATL06_file1,'/gt2l', index=None, epsg=3413)"
   ]
  },
  {
   "cell_type": "markdown",
   "id": "81ccbedc-2db5-431c-a7f4-bcdd120835fd",
   "metadata": {
    "user_expressions": []
   },
   "source": [
    "## Now plot ICESat-2 and velocity change together to evaluate if dynamic thinning occurred"
   ]
  },
  {
   "cell_type": "code",
   "execution_count": null,
   "id": "8ac6073a-0d2d-45fe-b44c-091d1e74a7c0",
   "metadata": {
    "tags": []
   },
   "outputs": [],
   "source": [
    "fig = plt.figure(figsize=(28,10))\n",
    "ax1 = plt.subplot(1,2,1)   \n",
    "ax2 = plt.subplot(1,2,2)\n",
    "\n",
    "rasterio.plot.show(array,ax=ax1,cmap='gist_gray',transform=img.transform,vmin = 10, vmax = 180)\n",
    "\n",
    "#tmp vars for plotting\n",
    "xCopy = D1['x']\n",
    "yCopy = D1['y']\n",
    "\n",
    "\n",
    "ax1.plot(D1['x'], D1['y'],'c.',label='ATL06 GTL02 track')\n",
    "ax1.plot(xCopy[700:1000], yCopy[700:1000],'w.',label='track seg. over glacier')\n",
    "ax1.set_xlim(450000,470000)\n",
    "ax1.set_ylim(-2543000,-2523000)\n",
    "ax1.legend();\n",
    "ax1.tick_params(axis='both', labelsize=12)\n",
    "\n",
    "ax2.plot(D0['x_atc'], D0['h_li'],'r.', label='ATL06_June_2019')\n",
    "ax2.plot(D1['x_atc'], D1['h_li'],'b.', label='ATL06_June_2021')\n",
    "ax2.set_xlim(holder[700], holder[1000])\n",
    "ax2.set_ylim(500,750)\n",
    "ax2.tick_params(axis='both', labelsize='large')\n",
    "ax2.set_ylabel('Ice Elevation (m)',fontsize=20)\n",
    "ax2.legend(fontsize=20); "
   ]
  }
 ],
 "metadata": {
  "kernelspec": {
   "display_name": "Python 3 (ipykernel)",
   "language": "python",
   "name": "python3"
  },
  "language_info": {
   "codemirror_mode": {
    "name": "ipython",
    "version": 3
   },
   "file_extension": ".py",
   "mimetype": "text/x-python",
   "name": "python",
   "nbconvert_exporter": "python",
   "pygments_lexer": "ipython3",
   "version": "3.10.12"
  }
 },
 "nbformat": 4,
 "nbformat_minor": 5
}
