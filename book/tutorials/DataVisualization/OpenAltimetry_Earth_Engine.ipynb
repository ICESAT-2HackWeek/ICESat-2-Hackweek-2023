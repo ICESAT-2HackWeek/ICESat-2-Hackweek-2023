{
 "cells": [
  {
   "cell_type": "markdown",
   "id": "suffering-union",
   "metadata": {
    "tags": [],
    "user_expressions": []
   },
   "source": [
    "# Interactive Visualizion with Open Altimetry & Google Earth Engine\n",
    "\n",
    "## Learning Objectives\n",
    "\n",
    "* Discover some interesting ICESat-2 data by browsing [OpenAltimetry](https://openaltimetry.org/data/icesat2/)\n",
    "* Get the data into a Jupyter Notebook, plot it and overlay the ground track on a map\n",
    "* Use [Google Earth Engine](https://earthengine.google.com/) to find the closest-in-time Sentinel-2 image that is cloud-free along ICESat-2's gound track\n",
    "* Make a plot from ICESat-2 data and contemporaneous imagery in Jupyter/matplotlib\n",
    "* Bonus Code: Use Google Earth Engine to extract Sentinel-2 data along the ICESat-2 ground track \n"
   ]
  },
  {
   "cell_type": "markdown",
   "id": "649d863c-5ad1-4b9f-9fa0-416ff04396a4",
   "metadata": {
    "user_expressions": []
   },
   "source": [
    "## Computing environment\n",
    "\n",
    "We'll be using the following Python libraries in this notebook:"
   ]
  },
  {
   "cell_type": "code",
   "execution_count": null,
   "id": "2a5720d5-d805-4c24-a92e-a2238805cdbf",
   "metadata": {
    "tags": []
   },
   "outputs": [],
   "source": [
    "%matplotlib widget \n",
    "import os\n",
    "import ee\n",
    "import geemap\n",
    "import requests\n",
    "import numpy as np\n",
    "import pandas as pd\n",
    "import matplotlib.pylab as plt\n",
    "from datetime import datetime\n",
    "from datetime import timedelta\n",
    "from ipywidgets import Layout\n",
    "import rasterio as rio\n",
    "from rasterio import plot as rioplot\n",
    "from rasterio import warp"
   ]
  },
  {
   "cell_type": "markdown",
   "id": "854c2d0e-b10c-4b18-a81a-dca7e14e9ac4",
   "metadata": {
    "user_expressions": []
   },
   "source": [
    "    \n",
    "The import below is a class that I wrote myself. It helps us read and store data from the OpenAltimetry API.  \n",
    "If you are interested in how this works, you can find the code in `utils/oa.py`."
   ]
  },
  {
   "cell_type": "code",
   "execution_count": null,
   "id": "15a93f7d-eb10-43a0-bff1-4185f483b152",
   "metadata": {
    "tags": []
   },
   "outputs": [],
   "source": [
    "from utils.oa import dataCollector"
   ]
  },
  {
   "cell_type": "markdown",
   "id": "ebd24061-0682-492d-81de-f212c82b73ae",
   "metadata": {
    "user_expressions": []
   },
   "source": [
    "## Google Earth Engine Authentication and Initialization\n",
    "GEE requires you to authenticate your access, so if `ee.Initialize()` does not work you first need to run `ee.Authenticate()`. This gives you a link at which you can use your google account that is associated with GEE to get an authorization code. Copy the authorization code into the input field and hit *enter* to complete authentication. "
   ]
  },
  {
   "cell_type": "code",
   "execution_count": null,
   "id": "43ab62f4-b763-41df-a62a-0e41910a4db6",
   "metadata": {
    "tags": []
   },
   "outputs": [],
   "source": [
    "try:\n",
    "    ee.Initialize()\n",
    "except: \n",
    "    ee.Authenticate()\n",
    "    ee.Initialize()"
   ]
  },
  {
   "cell_type": "markdown",
   "id": "775cdba2-3411-4f86-a254-cf9842d6a200",
   "metadata": {
    "user_expressions": []
   },
   "source": [
    "## Downloading data from the OpenAltimetry API\n",
    "\n",
    "Let's say we have found some data that looks weird to us, and we don't know what's going on.\n",
    "\n",
    "![image showing OpenAltimetry screenshot](https://raw.githubusercontent.com/fliphilipp/images/main/oa-data.jpg)\n",
    "\n",
    "### A short explanation of how I got the data:\n",
    "I went to [openaltimetry.org](https://openaltimetry.org/) and selected **BROWSE ICESAT-2 DATA**. Then I selected **ATL 06** (Land Ice Height) on the top right, and switched the projection🌎 to **Arctic**. Then I selected **August 22, 2021** in the calendar📅 on the bottom left, and toggled the **cloud**☁️ button to show MODIS imagery of that date. I then zoomed in on my region of interest. \n",
    "\n",
    "To find out what ICESat-2 has to offer here, I clicked on **SELECT A REGION** on the top left, and drew a rectangle around that mysterious cloud. When right-clicking on that rectangle, I could select **View Elevation profile**. This opened a new tab, and showed me ATL06 and ATL08 elevations. \n",
    "\n",
    "It looks like ATL06 can't decide where the surface is, and ATL08 tells me that there's a forest canopy on the Greenland Ice Sheet? To get to the bottom of this, I scrolled all the way down and selected 🛈**Get API URL**. The website confirms that the *\"API endpoint was copied to clipboard.\"* Now I can use this to access the data myself. \n",
    "\n",
    "*Note: Instead of trying to find this region yourself, you can access the OpenAltimetry page shown above by going to [this annotation🏷️](http://openaltimetry.org/data/icesat2/?annoId=580&shareKey=d8bebfb8251a69b5b7e2e05df6fd5ca5). Just left-click on the red box and select \"View Elevation Profile\".*"
   ]
  },
  {
   "cell_type": "markdown",
   "id": "9f8fc7cb-ad5a-429c-ba60-8a2fcd5e6d04",
   "metadata": {
    "user_expressions": []
   },
   "source": [
    "### Getting the OpenAltimetry info into python\n",
    "All we need to do is to paste the API URL that we copied from the webpage into a string. \n",
    "We also need to specify which beam we would like to look at. The **GT1R** ground track looks funky, so let's look at that one!"
   ]
  },
  {
   "cell_type": "code",
   "execution_count": null,
   "id": "f89a250d-cd9a-4577-8810-10cecc081634",
   "metadata": {
    "tags": []
   },
   "outputs": [],
   "source": [
    "# paste the API URL from OpenAltimetry below, and specify the beam you are interested in\n",
    "oa_api_url = 'http://openaltimetry.org/data/api/icesat2/atl03?date=2021-08-22&minx=-24.038224840962798&miny=77.53415860797186&maxx=-23.87242664092394&maxy=77.5733919287777&trackId=909&beamName=gt1r&beamName=gt1l&outputFormat=json'\n",
    "gtx = 'gt1r'"
   ]
  },
  {
   "cell_type": "markdown",
   "id": "45d5b63c-c41d-448a-949d-09680e5b45e4",
   "metadata": {
    "user_expressions": []
   },
   "source": [
    "We can now initialize a `dataCollector` object, using the copy-pasted OpenAltimetry API URL, and the beam we would like to look at. \\\n",
    "*(Again, I defined this class in `utils/oa.py` to do some work for us in the background.)*"
   ]
  },
  {
   "cell_type": "code",
   "execution_count": null,
   "id": "99d0fe7a-bd9e-4e61-92c4-51940e033a49",
   "metadata": {
    "tags": []
   },
   "outputs": [],
   "source": [
    "is2data = dataCollector(oaurl=oa_api_url,beam=gtx, verbose=True)"
   ]
  },
  {
   "cell_type": "markdown",
   "id": "4fe1b4b5-273b-4083-8e06-24d383bb0775",
   "metadata": {
    "user_expressions": []
   },
   "source": [
    "Alternatively, we could use a date, track number, beam, and lat/lon bounding box as input to the `dataCollector`."
   ]
  },
  {
   "cell_type": "code",
   "execution_count": null,
   "id": "d934716a-7c38-428c-85d5-d81833e960c5",
   "metadata": {
    "tags": []
   },
   "outputs": [],
   "source": [
    "date = '2021-08-22'\n",
    "rgt = 909\n",
    "beam = 'gt1r'\n",
    "latlims = [77.5326, 77.5722]\n",
    "lonlims = [-23.9891, -23.9503]\n",
    "is2data = dataCollector(date=date, latlims=latlims, lonlims=lonlims, track=rgt, beam=gtx, verbose=True)"
   ]
  },
  {
   "cell_type": "markdown",
   "id": "f66b36e9-1d1f-4daf-9290-bfc11bf26f0f",
   "metadata": {
    "user_expressions": []
   },
   "source": [
    "Note that this also constructs the API url for us."
   ]
  },
  {
   "cell_type": "markdown",
   "id": "5a6116aa-1019-474f-a099-3248517f2fbb",
   "metadata": {
    "user_expressions": []
   },
   "source": [
    "### Requesting the data from the OpenAltimetry API\n",
    "Here we use the `requestData()` function of the `dataCollector` class, which is defined in `utils/oa.py`. It downloads all data products that are available on OpenAltimetry based on the inputs with which we initialized our `dataCollector`, and writes them to pandas dataframes."
   ]
  },
  {
   "cell_type": "code",
   "execution_count": null,
   "id": "ac7dbc12-4634-424f-a532-b7eaa12df3b9",
   "metadata": {
    "tags": []
   },
   "outputs": [],
   "source": [
    "is2data.requestData(verbose=True)"
   ]
  },
  {
   "cell_type": "markdown",
   "id": "a99aba7d-e923-486c-92bc-f7b918949d7d",
   "metadata": {
    "user_expressions": []
   },
   "source": [
    "The data are now stored as data frames in our `dataCollector` object. To verify this, we can run the cell below."
   ]
  },
  {
   "cell_type": "code",
   "execution_count": null,
   "id": "09a444e4-8a69-4c76-9272-7320e6fe4a94",
   "metadata": {
    "tags": []
   },
   "outputs": [],
   "source": [
    "vars(is2data)"
   ]
  },
  {
   "cell_type": "markdown",
   "id": "13cee4e0-1dd4-47a9-ad8a-8383af5d4590",
   "metadata": {
    "user_expressions": []
   },
   "source": [
    "## Plotting the ICESat-2 data\n",
    "Now let's plot this data. Here, we are just creating an empty figure `fig` with axes `ax`."
   ]
  },
  {
   "cell_type": "code",
   "execution_count": null,
   "id": "69ff212e-5222-4f0e-91a0-1591be1c2714",
   "metadata": {
    "tags": []
   },
   "outputs": [],
   "source": [
    "# create the figure and axis\n",
    "fig, ax = plt.subplots(figsize=[9,5])\n",
    "\n",
    "# plot the data products\n",
    "atl06, = ax.plot(is2data.atl06.lat, is2data.atl06.h, c='C0', linestyle='-', label='ATL06')\n",
    "atl08, = ax.plot(is2data.atl08.lat, is2data.atl08.h, c='C2', linestyle=':', label='ATL08')\n",
    "if np.sum(~np.isnan(is2data.atl08.canopy))>0:\n",
    "    atl08canopy = ax.scatter(is2data.atl08.lat, is2data.atl08.h+is2data.atl08.canopy, s=2, c='C2', label='ATL08 canopy')\n",
    "\n",
    "# add labels, title and legend\n",
    "ax.set_xlabel('latitude')\n",
    "ax.set_ylabel('elevation in meters')\n",
    "ax.set_title('Some ICESat-2 data I found on OpenAltimetry!')\n",
    "ax.legend(loc='upper left')\n",
    "\n",
    "# add some text to provide info on what is plotted\n",
    "info = 'ICESat-2 track {track:d}-{beam:s} on {date:s}\\n({lon:.4f}E, {lat:.4f}N)'.format(track=is2data.track, \n",
    "                                                                                        beam=is2data.beam.upper(), \n",
    "                                                                                        date=is2data.date, \n",
    "                                                                                        lon=np.mean(is2data.lonlims), \n",
    "                                                                                        lat=np.mean(is2data.latlims))\n",
    "infotext = ax.text(0.01, -0.08, info,\n",
    "                   horizontalalignment='left', \n",
    "                   verticalalignment='top', \n",
    "                   transform=ax.transAxes,\n",
    "                   fontsize=7,\n",
    "                   bbox=dict(edgecolor=None, facecolor='white', alpha=0.9, linewidth=0))\n",
    "\n",
    "# set the axis limits\n",
    "ax.set_xlim((is2data.atl03.lat.min(), is2data.atl03.lat.max()))\n",
    "ax.set_ylim((741, 818));"
   ]
  },
  {
   "cell_type": "markdown",
   "id": "c34b2c53-a708-46ab-a389-1422a0ec03f1",
   "metadata": {
    "user_expressions": []
   },
   "source": [
    "Let's add the ATL03 photons to better understand what might be going on here."
   ]
  },
  {
   "cell_type": "code",
   "execution_count": null,
   "id": "0322fbbe-7f73-4581-9fc7-de515d2316c8",
   "metadata": {
    "tags": []
   },
   "outputs": [],
   "source": [
    "atl03 = ax.scatter(is2data.atl03.lat, is2data.atl03.h, s=1, color='black', label='ATL03', zorder=-1)\n",
    "ax.legend(loc='upper left')\n",
    "fig.tight_layout()"
   ]
  },
  {
   "cell_type": "markdown",
   "id": "cfe32439-99f3-4bd8-a482-fc740700ea67",
   "metadata": {
    "user_expressions": []
   },
   "source": [
    "### Saving the plot to a file"
   ]
  },
  {
   "cell_type": "code",
   "execution_count": null,
   "id": "a96d52b7-49be-4573-8ffd-76a0f0a5dffd",
   "metadata": {
    "tags": []
   },
   "outputs": [],
   "source": [
    "fig.savefig('my-plot.jpg', dpi=300)"
   ]
  },
  {
   "cell_type": "markdown",
   "id": "8b591354-c887-477c-86c7-4bdc708c8944",
   "metadata": {
    "user_expressions": []
   },
   "source": [
    "To make plots easier to produce, the `dataCollector` class also has a method to plot the data that we downloaded. "
   ]
  },
  {
   "cell_type": "code",
   "execution_count": null,
   "id": "7f665878-80ee-4884-91da-ea975636cc66",
   "metadata": {
    "tags": []
   },
   "outputs": [],
   "source": [
    "fig = is2data.plotData();\n",
    "fig"
   ]
  },
  {
   "cell_type": "markdown",
   "id": "1bb301f1-3f21-4c83-bb89-8b383afde5fd",
   "metadata": {
    "tags": [],
    "user_expressions": []
   },
   "source": [
    "## Ground Track Stats\n",
    "So far we have only seen the data in elevation vs. latitude space. It's probably good to know what the scale on the x-axis is here in units that we're familiar with. "
   ]
  },
  {
   "cell_type": "code",
   "execution_count": null,
   "id": "17832d30-25f9-454c-98ea-1b908f20b37a",
   "metadata": {
    "tags": []
   },
   "outputs": [],
   "source": [
    "def dist_latlon2meters(lat1, lon1, lat2, lon2):\n",
    "    # returns the distance between two coordinate points - (lon1, lat1) and (lon2, lat2) along the earth's surface in meters.\n",
    "    R = 6371000\n",
    "    def deg2rad(deg):\n",
    "        return deg * (np.pi/180)\n",
    "    dlat = deg2rad(lat2-lat1)\n",
    "    dlon = deg2rad(lon2-lon1)\n",
    "    a = np.sin(dlat/2) * np.sin(dlat/2) + np.cos(deg2rad(lat1)) * np.cos(deg2rad(lat2)) * np.sin(dlon/2) * np.sin(dlon/2)\n",
    "    c = 2 * np.arctan2(np.sqrt(a), np.sqrt(1-a))\n",
    "    return R * c\n",
    "\n",
    "lat1, lat2 = is2data.atl08.lat[0], is2data.atl08.lat.iloc[-1]\n",
    "lon1, lon2 = is2data.atl08.lon[0], is2data.atl08.lon.iloc[-1]\n",
    "\n",
    "ground_track_length = dist_latlon2meters(lat1, lon1, lat2, lon2)\n",
    "print('The ground track is about %.1f kilometers long.' % (ground_track_length/1e3))"
   ]
  },
  {
   "cell_type": "markdown",
   "id": "b372f394-e926-4727-be33-e4abfe2b7da1",
   "metadata": {
    "user_expressions": []
   },
   "source": [
    "## Google Earth Engine\n",
    "\n",
    "Google Earth Engine (GEE) has a large [catalog](https://developers.google.com/earth-engine/datasets) of geospatial raster data, which is ready for analysis in the cloud. It also comes with an online JavaScript code editor.  \n",
    "<img src=\"https://raw.githubusercontent.com/fliphilipp/images/main/gee_codeeditor.png\" alt=\"gif showing how to get to the data in OpenAltimetry\" width=\"400px\"> \n",
    "But since we all seem to be using python, it would be nice to have these capabilities available in our Jupyter comfort zone...\n",
    "\n",
    "Thankfully, there is a [python API for GEE](https://developers.google.com/earth-engine/tutorials/community/intro-to-python-api), which we have imported using `import ee` earlier. It doesn't come with an interactive map, but the python package [geemap](https://geemap.org/) has us covered!"
   ]
  },
  {
   "cell_type": "markdown",
   "id": "bc00f341-5c4e-444c-944b-d0028537ed3f",
   "metadata": {
    "user_expressions": []
   },
   "source": [
    "### Show a ground track on a map\n",
    "We can start working on our map by calling `geemap.Map()`. This just gives us a world map with a standard basemap. "
   ]
  },
  {
   "cell_type": "code",
   "execution_count": null,
   "id": "103e7f08-8b1b-4270-9463-a2f7355d12ee",
   "metadata": {
    "tags": []
   },
   "outputs": [],
   "source": [
    "from ipywidgets import Layout\n",
    "Map = geemap.Map(layout=Layout(width='70%', max_height='450px'))\n",
    "Map"
   ]
  },
  {
   "cell_type": "markdown",
   "id": "63bc84b6-6493-48b8-859e-978ac5b3458b",
   "metadata": {
    "user_expressions": []
   },
   "source": [
    "Now we need to add our ICESat-2 gound track to that map. Let's use the lon/lat coordinates of the ATL08 data product for this.  \n",
    "We also need to specify which **Coordinate Reference System (CRS)** our data is in. The longitude/latitude system that we are all quite familiar with is referenced by [`EPSG:4326`](https://epsg.io/4326). To add the ground track to the map we need to turn it into an [Earth Engine \"Feature Collection\"](https://developers.google.com/earth-engine/guides/feature_collections)."
   ]
  },
  {
   "cell_type": "code",
   "execution_count": null,
   "id": "d7ac4275-4765-457b-8cc3-022ce06276cb",
   "metadata": {
    "tags": []
   },
   "outputs": [],
   "source": [
    "ground_track_coordinates = list(zip(is2data.atl08.lon, is2data.atl08.lat))\n",
    "ground_track_projection = 'EPSG:4326' # <-- this specifies that our data longitude/latitude in degrees [https://epsg.io/4326]\n",
    "gtx_feature = ee.FeatureCollection(ee.Geometry.LineString(coords=ground_track_coordinates, \n",
    "                                      proj=ground_track_projection, \n",
    "                                      geodesic=True))\n",
    "gtx_feature"
   ]
  },
  {
   "cell_type": "markdown",
   "id": "53bb4fd5-8a09-4eed-a11b-9a4f0d00fa8e",
   "metadata": {
    "user_expressions": []
   },
   "source": [
    "Now that we have it in the right format, we can add it as a **layer** to the map."
   ]
  },
  {
   "cell_type": "code",
   "execution_count": null,
   "id": "4369e40f-1351-4682-8cbf-e44fef6f5075",
   "metadata": {
    "tags": []
   },
   "outputs": [],
   "source": [
    "Map.addLayer(gtx_feature, {'color': 'red'}, 'ground track')"
   ]
  },
  {
   "cell_type": "markdown",
   "id": "72a3b592-d573-47a7-bc6a-c21f7c0b51be",
   "metadata": {
    "user_expressions": []
   },
   "source": [
    "According to the cell above this should be a red line. But we still can't see it, because we first need to tell the map where to look for it.  \n",
    "Let's calculate the center longitude and latitude, and center the map on it. "
   ]
  },
  {
   "cell_type": "code",
   "execution_count": null,
   "id": "b07915ed-6a23-4bef-8ba2-c5e538272773",
   "metadata": {
    "tags": []
   },
   "outputs": [],
   "source": [
    "center_lon = (lon1 + lon2) / 2\n",
    "center_lat = (lat1 + lat2) / 2\n",
    "Map.setCenter(center_lon, center_lat, zoom=4);"
   ]
  },
  {
   "cell_type": "markdown",
   "id": "b7544cb7-05b1-4837-b188-6713d26a28a8",
   "metadata": {
    "user_expressions": []
   },
   "source": [
    "So we actually couldn't see it because it was in Greenland.  \n",
    "Unfortunately the basemap here doesn't give us much more information. Let's add a satellite imagery basemap.\n",
    "This is a good time to look at the layer control on the top right."
   ]
  },
  {
   "cell_type": "code",
   "execution_count": null,
   "id": "a6593ecd-3190-4b6c-ae5b-d2de95073ffb",
   "metadata": {
    "tags": []
   },
   "outputs": [],
   "source": [
    "Map.add_basemap('SATELLITE') # <-- this adds a layer called 'Google Satellite'\n",
    "Map.layer_opacity(name='Google Satellite', opacity=0.5)\n",
    "Map.setCenter(center_lon, center_lat, zoom=7);\n",
    "Map.addLayer(gtx_feature,{'color': 'red'},'ground track')"
   ]
  },
  {
   "cell_type": "markdown",
   "id": "0720d654-510a-44ad-9db4-08cdc471af74",
   "metadata": {
    "user_expressions": []
   },
   "source": [
    "...looks like this basemap still doesn't give us any more clues about the nature of this weird ICESat-2 data. Let's dig deeper."
   ]
  },
  {
   "cell_type": "markdown",
   "id": "70662307-98f3-45fd-9361-705e67f23df4",
   "metadata": {
    "user_expressions": []
   },
   "source": [
    "### Query for Sentinel-2 images\n",
    "Both of these Sentinel-2 satellites take images of most places on our planet at least every week or so. Maybe these images can tell us what was happening here around the same time that ICESat-2 acquired our data?\n",
    "\n",
    "The imagery scenes live in image collections on Google Earth Engine.  \n",
    "You can find all collections here: [https://developers.google.com/earth-engine/datasets/catalog/](https://developers.google.com/earth-engine/datasets/catalog/)"
   ]
  },
  {
   "cell_type": "markdown",
   "id": "e18ac9c0-435e-4cdc-817f-eaf42dce0ec8",
   "metadata": {
    "user_expressions": []
   },
   "source": [
    "The above link tells us we can find some images under `'COPERNICUS/S2_SR_HARMONIZED'`."
   ]
  },
  {
   "cell_type": "code",
   "execution_count": null,
   "id": "f62c7039-e5c5-4508-b201-705e443fd060",
   "metadata": {
    "tags": []
   },
   "outputs": [],
   "source": [
    "collection_name1 = 'COPERNICUS/S2_SR_HARMONIZED'  # Landsat 8 earth engine collection \n",
    "# https://developers.google.com/earth-engine/datasets/catalog/LANDSAT_LC08_C01_T2"
   ]
  },
  {
   "cell_type": "markdown",
   "id": "7bbc89c7-32ee-4987-959b-967f7864406f",
   "metadata": {
    "user_expressions": []
   },
   "source": [
    "#### Access an image collection\n",
    "To access the collection, we call `ee.ImageCollection`:"
   ]
  },
  {
   "cell_type": "code",
   "execution_count": null,
   "id": "ad160256-a37f-4cbe-9883-a31b6cff9a1c",
   "metadata": {
    "tags": []
   },
   "outputs": [],
   "source": [
    "collection = ee.ImageCollection(collection_name1)\n",
    "collection"
   ]
  },
  {
   "cell_type": "markdown",
   "id": "6a209202-d6f4-49e8-8ed8-897eea2c31b2",
   "metadata": {
    "user_expressions": []
   },
   "source": [
    "Can we find out how many images there are in total?"
   ]
  },
  {
   "cell_type": "code",
   "execution_count": null,
   "id": "8012f759-6db6-4167-92b0-09b75023f9e1",
   "metadata": {
    "tags": []
   },
   "outputs": [],
   "source": [
    "number_of_scenes = collection.size()\n",
    "print(number_of_scenes)"
   ]
  },
  {
   "cell_type": "markdown",
   "id": "86e1b9fc-10ee-40d9-b174-198b895722fb",
   "metadata": {
    "user_expressions": []
   },
   "source": [
    "**Actually, asking for the size of the collection does not do anything!** 🤔\n",
    "\n",
    "It just tells Earth Engine on the server-side that this variable refers to the size of the collection, which we may need later to do some analysis on the server. As long as this number is not needed, Earth Engine will not go through the trouble actually computing it. \n",
    "\n",
    "To force Earth Engine to compute and get any information on the client side (our local machine / Cryocloud), we need to call `.getInfo()`. In this case that would be ```number_of_scenes = collection.size().getInfo()```.\n",
    "\n",
    "*Because this command would ask Earth Engine to count every single Sentinel-2 file that exists, this command would take a really long time to execute. I will avoid this here and just give you the answer from when I wrote this tutorial.*"
   ]
  },
  {
   "cell_type": "code",
   "execution_count": null,
   "id": "e23f6824-649f-49c2-8a48-a7d72addd1e1",
   "metadata": {
    "tags": []
   },
   "outputs": [],
   "source": [
    "# number_of_scenes = collection.size().getInfo()\n",
    "number_of_scenes = 19323842\n",
    "print('There are %i number of scenes in the image collection' % number_of_scenes)"
   ]
  },
  {
   "cell_type": "markdown",
   "id": "5fb82a89-1c28-4677-a4d5-e5a5192f758f",
   "metadata": {
    "user_expressions": []
   },
   "source": [
    "#### Filter an image collection by location and time\n",
    "Who wants to look at almost 20 million pictures? I don't. So let's try to narrow it down.  \n",
    "Let's start with only images that overlap with the center of our ground track. "
   ]
  },
  {
   "cell_type": "code",
   "execution_count": null,
   "id": "064ade06-e299-4cd5-9bf9-288249378965",
   "metadata": {
    "tags": []
   },
   "outputs": [],
   "source": [
    "# the point of interest (center of the track) as an Earth Engine Geometry\n",
    "point_of_interest = ee.Geometry.Point(center_lon, center_lat)"
   ]
  },
  {
   "cell_type": "code",
   "execution_count": null,
   "id": "9b0af602-44a5-42e7-9ed3-639aac62385c",
   "metadata": {
    "tags": []
   },
   "outputs": [],
   "source": [
    "collection = collection.filterBounds(point_of_interest)"
   ]
  },
  {
   "cell_type": "code",
   "execution_count": null,
   "id": "9904414e-a8d7-4253-921b-7623d6eebad4",
   "metadata": {
    "tags": []
   },
   "outputs": [],
   "source": [
    "print('There are {number:d} images in the spatially filtered collection.'.format(number=collection.size().getInfo()))"
   ]
  },
  {
   "cell_type": "markdown",
   "id": "9c9ba0bd-0461-4d90-956a-4df61ee061a9",
   "metadata": {
    "user_expressions": []
   },
   "source": [
    "Much better! Now let's only look at images that were taken soon before or after ICESat-2 passed over this spot."
   ]
  },
  {
   "cell_type": "code",
   "execution_count": null,
   "id": "5956ab1e-acc3-4350-9ee0-920b3ee90c27",
   "metadata": {
    "tags": []
   },
   "outputs": [],
   "source": [
    "days_buffer_imagery = 6"
   ]
  },
  {
   "cell_type": "code",
   "execution_count": null,
   "id": "9115991a-f70b-4d5a-95a7-3040edc280dc",
   "metadata": {
    "tags": []
   },
   "outputs": [],
   "source": [
    "dateformat = '%Y-%m-%d'\n",
    "datetime_requested = datetime.strptime(is2data.date, dateformat)\n",
    "search_start = (datetime_requested - timedelta(days=days_buffer_imagery)).strftime(dateformat)\n",
    "search_end = (datetime_requested + timedelta(days=days_buffer_imagery)).strftime(dateformat)\n",
    "print('Search for imagery from {start:s} to {end:s}.'.format(start=search_start, end=search_end))"
   ]
  },
  {
   "cell_type": "code",
   "execution_count": null,
   "id": "9c939bf2-ddef-4b90-9eb2-448b40a26979",
   "metadata": {
    "tags": []
   },
   "outputs": [],
   "source": [
    "collection = collection.filterDate(search_start, search_end)\n",
    "print('There are {number:d} images in the spatially filtered collection.'.format(number=collection.size().getInfo()))"
   ]
  },
  {
   "cell_type": "markdown",
   "id": "1b2d4ece-c487-4b5b-b343-c90ae6e7e00b",
   "metadata": {
    "user_expressions": []
   },
   "source": [
    "We can also sort the collection by date (`'system:time_start'`), to order the images by acquisition time."
   ]
  },
  {
   "cell_type": "code",
   "execution_count": null,
   "id": "0a777356-f1b4-437d-8513-7f2fe3697c78",
   "metadata": {
    "tags": []
   },
   "outputs": [],
   "source": [
    "collection = collection.sort('system:time_start') "
   ]
  },
  {
   "cell_type": "markdown",
   "id": "b8da5c10-d4ee-4848-8348-7b0de28680ce",
   "metadata": {
    "user_expressions": []
   },
   "source": [
    "#### Get image collection info\n",
    "Again, we need to use `.getInfo()` to actually see any information on our end. This is a python dictionary. "
   ]
  },
  {
   "cell_type": "code",
   "execution_count": null,
   "id": "5e527cb2-09d1-4a4e-a2ef-0a6ce0ecb1a0",
   "metadata": {
    "tags": []
   },
   "outputs": [],
   "source": [
    "info = collection.getInfo()\n",
    "type(info)"
   ]
  },
  {
   "cell_type": "markdown",
   "id": "72c08c16-ab5e-4690-bf5e-0b713129311d",
   "metadata": {
    "user_expressions": []
   },
   "source": [
    "Let's see what's inside!"
   ]
  },
  {
   "cell_type": "code",
   "execution_count": null,
   "id": "98790908-57ee-4d0e-8af0-d21a4c669a47",
   "metadata": {
    "tags": []
   },
   "outputs": [],
   "source": [
    "info.keys()"
   ]
  },
  {
   "cell_type": "markdown",
   "id": "56abe1ff-73f7-4563-a882-9e3cda5a1651",
   "metadata": {
    "user_expressions": []
   },
   "source": [
    "`'features'` sounds like it could hold information about the images we are trying to find..."
   ]
  },
  {
   "cell_type": "code",
   "execution_count": null,
   "id": "230ab1e9-adfc-4185-9d10-4b0107604191",
   "metadata": {
    "tags": []
   },
   "outputs": [],
   "source": [
    "len(info['features'])"
   ]
  },
  {
   "cell_type": "markdown",
   "id": "7769fc7d-c2cf-4b4b-b0df-d68e8fc4e6d1",
   "metadata": {
    "user_expressions": []
   },
   "source": [
    "A list of 34 things! Those are probably the 34 images in the collection. Let's pick the first one and dig deeper!"
   ]
  },
  {
   "cell_type": "code",
   "execution_count": null,
   "id": "1b964b1f-8b43-4cc9-9b06-308a6bdfbc50",
   "metadata": {
    "tags": []
   },
   "outputs": [],
   "source": [
    "feature_number = 0\n",
    "info['features'][0].keys()"
   ]
  },
  {
   "cell_type": "code",
   "execution_count": null,
   "id": "965aefd7-925c-4d03-b429-5866177a48b3",
   "metadata": {
    "tags": []
   },
   "outputs": [],
   "source": [
    "info['features'][feature_number]['id']"
   ]
  },
  {
   "cell_type": "markdown",
   "id": "09ef5770-049e-4a1c-953d-96867ef9827b",
   "metadata": {
    "user_expressions": []
   },
   "source": [
    "Looks like we found a reference to a Sentinel-2 image! Let's look at the `'bands'`."
   ]
  },
  {
   "cell_type": "code",
   "execution_count": null,
   "id": "416fead2-54e8-4000-af39-401507ffb2bb",
   "metadata": {
    "tags": []
   },
   "outputs": [],
   "source": [
    "for band in info['features'][feature_number]['bands']:\n",
    "    print(band['id'], end=', ')"
   ]
  },
  {
   "cell_type": "markdown",
   "id": "fcd49faa-73d4-4e2b-a8d6-7b24e0eb0ed8",
   "metadata": {
    "user_expressions": []
   },
   "source": [
    "`'properties'` could be useful too! "
   ]
  },
  {
   "cell_type": "code",
   "execution_count": null,
   "id": "936a0f73-4d44-49ec-b7c6-74cd6347ef8a",
   "metadata": {
    "tags": []
   },
   "outputs": [],
   "source": [
    "info['features'][0]['properties'].keys()"
   ]
  },
  {
   "cell_type": "markdown",
   "id": "dc1579b5-d655-4a66-b677-b3e6fc0c3348",
   "metadata": {
    "user_expressions": []
   },
   "source": [
    "That's a lot going on right there! But `'GRANULE_ID'` is probably useful. Let's go through all our features and print the product id."
   ]
  },
  {
   "cell_type": "code",
   "execution_count": null,
   "id": "573d7608-a4f4-4f42-b68a-e92396bd8274",
   "metadata": {
    "tags": []
   },
   "outputs": [],
   "source": [
    "for feature in info['features']:\n",
    "    print(feature['properties']['GRANULE_ID'])"
   ]
  },
  {
   "cell_type": "markdown",
   "id": "f7984f68-db42-45b8-95b2-c38d0ba13119",
   "metadata": {
    "user_expressions": []
   },
   "source": [
    "### Add a Sentinel-2 image to the map\n",
    "The visible bands in Sentinel-2 are `'B2'`:blue, `'B3'`:green, `'B4'`:red.  \n",
    "So to show a \"true color\" RGB composite image on the map, we need to select these bands in the R-G-B order: "
   ]
  },
  {
   "cell_type": "code",
   "execution_count": null,
   "id": "ac7d9c1a-19df-4c19-9e76-e3a170e89fcc",
   "metadata": {
    "tags": []
   },
   "outputs": [],
   "source": [
    "myImage = collection.first()\n",
    "myImage_RGB = myImage.select('B4', 'B3', 'B2')\n",
    "vis_params = {'min': 0.0, 'max': 10000, 'opacity': 1.0, 'gamma': 1.5}\n",
    "Map.addLayer(myImage_RGB, vis_params, name='my image')\n",
    "Map.addLayer(gtx_feature,{'color': 'red'},'ground track')\n",
    "Map"
   ]
  },
  {
   "cell_type": "markdown",
   "id": "0bab4471-149c-4a9b-9874-a20ad061def2",
   "metadata": {
    "user_expressions": []
   },
   "source": [
    "This seems to have worked. But there's clouds everywhere."
   ]
  },
  {
   "cell_type": "markdown",
   "id": "91154e9a-5d14-416d-a386-0aa94194131d",
   "metadata": {
    "user_expressions": []
   },
   "source": [
    "### Calculate the along-track cloud probability\n",
    "We need a better approach to get anywhere here. To do this, we use not only the [Sentinel-2 Surface Reflectance image collection](https://developers.google.com/earth-engine/datasets/catalog/COPERNICUS_S2_SR_HARMONIZED), but also merge it with the [Sentinel-2 cloud probability collection](https://developers.google.com/earth-engine/datasets/catalog/COPERNICUS_S2_CLOUD_PROBABILITY), which can be accessed under `COPERNICUS/S2_CLOUD_PROBABILITY`.  \n",
    "\n",
    "Let's specify a function that adds the cloud probability band to each Sentinel-2 image and calcultes the mean cloud probability in the neighborhood of the ICESat-2 ground track, then map this function over our location/date filtered collection."
   ]
  },
  {
   "cell_type": "code",
   "execution_count": null,
   "id": "62a38fc8-2eba-4886-85c4-26b100b4e1ce",
   "metadata": {
    "tags": []
   },
   "outputs": [],
   "source": [
    "def get_sentinel2_cloud_collection(is2data, days_buffer=6, gt_buffer=100):\n",
    "    \n",
    "    # create the area of interest for cloud likelihood assessment\n",
    "    ground_track_coordinates = list(zip(is2data.atl08.lon, is2data.atl08.lat))\n",
    "    ground_track_projection = 'EPSG:4326' # our data is lon/lat in degrees [https://epsg.io/4326]\n",
    "    gtx_feature = ee.Geometry.LineString(coords=ground_track_coordinates,\n",
    "                                     proj=ground_track_projection,\n",
    "                                     geodesic=True)\n",
    "    area_of_interest = gtx_feature.buffer(gt_buffer)\n",
    "    \n",
    "    datetime_requested = datetime.strptime(is2data.date, '%Y-%m-%d')\n",
    "    start_date = (datetime_requested - timedelta(days=days_buffer)).strftime('%Y-%m-%dT%H:%M:%S')\n",
    "    end_date = (datetime_requested + timedelta(days=days_buffer)).strftime('%Y-%m-%dT%H:%M:%S')\n",
    "    print('Search for imagery from {start:s} to {end:s}.'.format(start=start_date, end=end_date))\n",
    "    \n",
    "    # Import and filter S2 SR HARMONIZED\n",
    "    s2_sr_collection = (ee.ImageCollection('COPERNICUS/S2_SR_HARMONIZED')\n",
    "        .filterBounds(area_of_interest)\n",
    "        .filterDate(start_date, end_date))\n",
    "\n",
    "    # Import and filter s2cloudless.\n",
    "    s2_cloudless_collection = (ee.ImageCollection('COPERNICUS/S2_CLOUD_PROBABILITY')\n",
    "        .filterBounds(area_of_interest)\n",
    "        .filterDate(start_date, end_date))\n",
    "\n",
    "    # Join the filtered s2cloudless collection to the SR collection by the 'system:index' property.\n",
    "    cloud_collection = ee.ImageCollection(ee.Join.saveFirst('s2cloudless').apply(**{\n",
    "        'primary': s2_sr_collection, 'secondary': s2_cloudless_collection,\n",
    "        'condition': ee.Filter.equals(**{'leftField': 'system:index','rightField': 'system:index'})}))\n",
    "\n",
    "    cloud_collection = cloud_collection.map(lambda img: img.addBands(ee.Image(img.get('s2cloudless')).select('probability')))\n",
    "    \n",
    "    def set_is2_cloudiness(img, aoi=area_of_interest):\n",
    "        cloudprob = img.select(['probability']).reduceRegion(reducer=ee.Reducer.mean(), \n",
    "                                                             geometry=aoi, \n",
    "                                                             bestEffort=True, \n",
    "                                                             maxPixels=1e6)\n",
    "        return img.set('ground_track_cloud_prob', cloudprob.get('probability'))\n",
    "    \n",
    "    return cloud_collection.map(set_is2_cloudiness)"
   ]
  },
  {
   "cell_type": "markdown",
   "id": "9091d525-e190-4181-9fa0-fc2ffb651bba",
   "metadata": {
    "tags": [],
    "user_expressions": []
   },
   "source": [
    "Get this collection for our ICESat-2 data, and print all the granule IDs and associated cloudiness over the ground track. "
   ]
  },
  {
   "cell_type": "code",
   "execution_count": null,
   "id": "05f3c9ca-ee00-4a23-8c31-3a89fb7cdebd",
   "metadata": {
    "tags": []
   },
   "outputs": [],
   "source": [
    "collection = get_sentinel2_cloud_collection(is2data)\n",
    "info = collection.getInfo()\n",
    "for feature in info['features']:\n",
    "    print('%s --> along-track cloud probability: %5.1f %%' % (feature['properties']['GRANULE_ID'],\n",
    "                                                              feature['properties']['ground_track_cloud_prob']))"
   ]
  },
  {
   "cell_type": "markdown",
   "id": "23d07a0a-fb39-412f-ae7f-81d4155d8e27",
   "metadata": {
    "tags": [],
    "user_expressions": []
   },
   "source": [
    "### Filter cloudy images\n",
    "We specify a certain cloud probability threshold, and then only keep the images that fall below it. Here we are choosing a quite aggressive value of maximum 5% cloud probability..."
   ]
  },
  {
   "cell_type": "code",
   "execution_count": null,
   "id": "2ea399e2-95a9-4ced-bc57-aba6fad4ba3a",
   "metadata": {
    "tags": []
   },
   "outputs": [],
   "source": [
    "# filter by maximum allowable cloud probability (in percent)\n",
    "MAX_CLOUD_PROB_ALONG_TRACK = 5\n",
    "cloudfree_collection = collection.filter(ee.Filter.lt('ground_track_cloud_prob', MAX_CLOUD_PROB_ALONG_TRACK))\n",
    "print('There are %i cloud-free scenes.' % cloudfree_collection.size().getInfo())"
   ]
  },
  {
   "cell_type": "markdown",
   "id": "a8989e14-9929-432c-8615-75d6c1dc8adb",
   "metadata": {
    "user_expressions": []
   },
   "source": [
    "### Sort the collection by time difference from the ICESat-2 overpass\n",
    "Using the image property `'system:time_start'` we can calculate the time difference from the ICESat-2 overpass and set it as a property. This allows us to sort the collection by it and to make sure that the first image in the collection is the closest-in-time to ICESat-2 image that is also cloud-free. "
   ]
  },
  {
   "cell_type": "code",
   "execution_count": null,
   "id": "87c22516-e289-43cd-a54e-8297f503636c",
   "metadata": {
    "tags": []
   },
   "outputs": [],
   "source": [
    "# get the time difference between ICESat-2 overpass and Sentinel-2 acquisitions, set as image property\n",
    "is2time = is2data.date + 'T12:00:00'\n",
    "def set_time_difference(img, is2time=is2time):\n",
    "    timediff = ee.Date(is2time).difference(img.get('system:time_start'), 'second').abs()\n",
    "    return img.set('timediff', timediff)\n",
    "cloudfree_collection = cloudfree_collection.map(set_time_difference).sort('timediff')"
   ]
  },
  {
   "cell_type": "markdown",
   "id": "59b789ce-de62-4b4d-9d9f-d95dc64d2a5d",
   "metadata": {
    "user_expressions": []
   },
   "source": [
    "Print some stats for the final collection to make sure everything looks alright."
   ]
  },
  {
   "cell_type": "code",
   "execution_count": null,
   "id": "0b95102b-a5e2-4156-9d18-4384a12bbfe9",
   "metadata": {
    "tags": []
   },
   "outputs": [],
   "source": [
    "info = cloudfree_collection.getInfo()\n",
    "for feature in info['features']:\n",
    "    s2datetime = datetime.fromtimestamp(feature['properties']['system:time_start']/1e3)\n",
    "    is2datetime = datetime.strptime(is2time, '%Y-%m-%dT%H:%M:%S')\n",
    "    timediff = s2datetime - is2datetime\n",
    "    timediff -= timedelta(microseconds=timediff.microseconds)\n",
    "    diffsign = 'before' if timediff < timedelta(0) else 'after'\n",
    "    print('%s --> along-track cloud probability: %5.1f %%, %s %7s ICESat-2' % (feature['properties']['GRANULE_ID'],\n",
    "              feature['properties']['ground_track_cloud_prob'],np.abs(timediff), diffsign))"
   ]
  },
  {
   "cell_type": "markdown",
   "id": "66b85c68-3805-4dad-ba87-994ed9a96706",
   "metadata": {
    "user_expressions": []
   },
   "source": [
    "### Show the final image and ground track on the map"
   ]
  },
  {
   "cell_type": "code",
   "execution_count": null,
   "id": "dde3587e-61ea-488f-8adc-2711a2d10823",
   "metadata": {
    "tags": []
   },
   "outputs": [],
   "source": [
    "first_image_rgb = cloudfree_collection.first().select('B4', 'B3', 'B2')\n",
    "Map = geemap.Map(layout=Layout(width='70%', max_height='450px'))\n",
    "Map.add_basemap('SATELLITE')\n",
    "Map.addLayer(first_image_rgb, vis_params, name='my image')\n",
    "Map.addLayer(gtx_feature,{'color': 'red'},'ground track')\n",
    "Map.centerObject(gtx_feature, zoom=12)\n",
    "Map"
   ]
  },
  {
   "cell_type": "markdown",
   "id": "7bae6e97-808e-4167-9667-6d2a4cb817ed",
   "metadata": {
    "user_expressions": []
   },
   "source": [
    "### Download images from Earth Engine\n",
    "\n",
    "We can use [`.getDownloadUrl()`](https://developers.google.com/earth-engine/apidocs/ee-image-getdownloadurl) on an Earth Engine image.  \n",
    "\n",
    "It asks for a scale, which is just the pixel size in meters (10 m for Sentinel-2 visible bands). It also asks for the region we would like to export; here we use a [`.buffer`](https://developers.google.com/earth-engine/apidocs/ee-geometry-buffer) around the center.\n",
    "\n",
    "*(Note: This function can only be effectively used for small download jobs because there is a request size limit. Here, we only download a small region around the ground track, and convert the image to an 8-bit RGB composite to keep file size low. For larger jobs you should use [`Export.image.toDrive`](https://developers.google.com/earth-engine/apidocs/export-image-todrive))*"
   ]
  },
  {
   "cell_type": "code",
   "execution_count": null,
   "id": "8236177b-5b8d-4057-a297-096a725734db",
   "metadata": {
    "tags": []
   },
   "outputs": [],
   "source": [
    "# create a region around the ground track over which to download data\n",
    "point_of_interest = ee.Geometry.Point(center_lon, center_lat)\n",
    "buffer_around_center_meters = ground_track_length*0.52\n",
    "region_of_interest = point_of_interest.buffer(buffer_around_center_meters)\n",
    "\n",
    "# make the image 8-bit RGB\n",
    "s2rgb = first_image_rgb.unitScale(ee.Number(0), ee.Number(10000)).clamp(0.0, 1.0).multiply(255.0).uint8()\n",
    "\n",
    "# get the download URL\n",
    "downloadURL = s2rgb.getDownloadUrl({'name': 'mySatelliteImage',\n",
    "                                          'crs': s2rgb.projection().crs(),\n",
    "                                          'scale': 10,\n",
    "                                          'region': region_of_interest,\n",
    "                                          'filePerBand': False,\n",
    "                                          'format': 'GEO_TIFF'})\n",
    "downloadURL"
   ]
  },
  {
   "cell_type": "markdown",
   "id": "d7b13ec5-8485-4ba4-b133-b6591191ff48",
   "metadata": {
    "user_expressions": []
   },
   "source": [
    "We can save the content of the download URL with the [`requests`](https://docs.python-requests.org/en/latest/) library. "
   ]
  },
  {
   "cell_type": "code",
   "execution_count": null,
   "id": "d1b5aa88-42b2-47da-b8e1-2ad3cf1610c7",
   "metadata": {
    "tags": []
   },
   "outputs": [],
   "source": [
    "response = requests.get(downloadURL)\n",
    "filename = 'my-satellite-image.tif'\n",
    "with open(filename, 'wb') as f:\n",
    "    f.write(response.content)\n",
    "print('Downloaded %s' % filename)"
   ]
  },
  {
   "cell_type": "markdown",
   "id": "4c68cc8f-2443-40ff-84a4-abffd388afd8",
   "metadata": {
    "user_expressions": []
   },
   "source": [
    "### Open a GeoTIFF in rasterio\n",
    "Now that we have saved the file, we can open it locally with the [`rasterio`](https://rasterio.readthedocs.io/en/latest/intro.html) library."
   ]
  },
  {
   "cell_type": "code",
   "execution_count": null,
   "id": "c8e9ad72-1d4b-4b65-9d81-5cf9d5ea988f",
   "metadata": {
    "tags": []
   },
   "outputs": [],
   "source": [
    "myImage = rio.open(filename)\n",
    "myImage"
   ]
  },
  {
   "cell_type": "markdown",
   "id": "76a6fea7-889a-4929-ad9b-952c52132405",
   "metadata": {
    "user_expressions": []
   },
   "source": [
    "### Plot a GeoTIFF in Matplotlib\n",
    "Now we can easily plot the image in a matplotlib figure, just using the [`rasterio.plot()`](https://rasterio.readthedocs.io/en/latest/api/rasterio.plot.html) module. "
   ]
  },
  {
   "cell_type": "code",
   "execution_count": null,
   "id": "97060ec9-4ad9-41cd-a82f-7b27db2c6683",
   "metadata": {
    "tags": []
   },
   "outputs": [],
   "source": [
    "fig, ax = plt.subplots(figsize=[4,4])\n",
    "rioplot.show(myImage, ax=ax);"
   ]
  },
  {
   "cell_type": "markdown",
   "id": "93053a50-33d5-4913-8861-ba3ae8c77041",
   "metadata": {
    "user_expressions": []
   },
   "source": [
    "### transform the ground track into the image CRS\n",
    "Because our plot is now in the Antarctic Polar Stereographic Coordrinate Reference System, we need to project the coordinates of the ground track from lon/lat values. The [`rasterio.warp.transform`](https://rasterio.readthedocs.io/en/latest/api/rasterio.warp.html) function has us covered. From then on, it's just plotting in Matplotlib. "
   ]
  },
  {
   "cell_type": "code",
   "execution_count": null,
   "id": "dc97e817-9d8d-49c1-a28f-25fba224a357",
   "metadata": {
    "tags": []
   },
   "outputs": [],
   "source": [
    "gtx_x, gtx_y = warp.transform(src_crs='epsg:4326', dst_crs=myImage.crs, xs=is2data.atl08.lon, ys=is2data.atl08.lat)\n",
    "ax.plot(gtx_x, gtx_y, color='red', linestyle='-')\n",
    "ax.axis('off')"
   ]
  },
  {
   "cell_type": "markdown",
   "id": "525a1d29-e0de-4ae4-b9e6-03047f399101",
   "metadata": {
    "user_expressions": []
   },
   "source": [
    "## Putting it all together\n",
    "The code above is found more concisely in one more method: \n",
    "- `dataCollector.visualize_sentinel2()`\n",
    "\n",
    "This one has some default parameters, which you can change when running it: \n",
    "```\n",
    "- max_cloud_prob = 20\n",
    "- days_buffer = 10\n",
    "- gamma_value = 1.8\n",
    "- title = 'ICESat-2 data'\n",
    "- imagery_filename = 'my-satellite-image.tif'\n",
    "- plot_filename = 'my-plot.jpg'\n",
    "```\n",
    "\n",
    "We can now do everything we did in this tutorial in just three lines!"
   ]
  },
  {
   "cell_type": "code",
   "execution_count": null,
   "id": "0e0d327e-3f8d-4b47-8777-be4941f12a09",
   "metadata": {
    "tags": []
   },
   "outputs": [],
   "source": [
    "url = 'http://openaltimetry.org/data/api/icesat2/atl03?date=2021-08-22&minx=-23.989069717620517&miny=77.53261687779506&maxx=-23.950348700496775&maxy=77.57222464044443&trackId=909&beamName=gt1r&beamName=gt1l&outputFormat=json'\n",
    "is2data = dataCollector(oaurl=url,beam='gt1r')\n",
    "fig = is2data.visualize_sentinel2(max_cloud_prob=5, title='some ICESat-2 data with a Sentinel-2 image')"
   ]
  },
  {
   "cell_type": "markdown",
   "id": "6357db4a-bb64-4b08-85f0-2ca78c14befa",
   "metadata": {
    "tags": [],
    "user_expressions": []
   },
   "source": [
    "**And now we can also easily run this on some totally different data!**"
   ]
  },
  {
   "cell_type": "code",
   "execution_count": null,
   "id": "faed918a-6f52-46e4-b89b-4df044c05974",
   "metadata": {
    "tags": []
   },
   "outputs": [],
   "source": [
    "url = 'http://openaltimetry.org/data/api/icesat2/atl12?date=2020-12-15&minx=-77.858681&miny=25.728091&maxx=-77.831461&maxy=25.832559&trackId=1254&beamName=gt1r&beamName=gt1l&outputFormat=json'\n",
    "mydata = dataCollector(oaurl=url, beam='gt1r')\n",
    "fig = mydata.visualize_sentinel2(max_cloud_prob=20,\n",
    "                                 title='Nearshore Bathymetry ICESat-2 Data', \n",
    "                                 imagery_filename='my-other-satellite-image.tif',\n",
    "                                 plot_filename='nearshore-bathymetry.jpg')"
   ]
  },
  {
   "cell_type": "markdown",
   "id": "07d0ba00-9f6a-4e43-9503-68c7e39f2717",
   "metadata": {
    "user_expressions": []
   },
   "source": [
    "## Exercise\n",
    "**Find some data from [OpenAltimetry](https://openaltimetry.org/data/icesat2/), and plot it with a cloud-free satellite image.**\n",
    "\n",
    "- Look for **small-scale features** - say a few hundred meters to 20 kilometers along-track. (*Hint: OpenAltimetry has a scale bar.*) \n",
    "- Bonus points for features where concurrent imagery and the ATL03 photon cloud may give us some information that we would not get from higher-level products alone! \n",
    "- *Note:* There is no Sentinel-2 coverage at higher latitudes than ~84°, and there will be no concurrent imagery during polar night.\n",
    "\n",
    "If you don't know where to start with OpenAltimetry, you can look [here](http://openaltimetry.org/data/icesat2/?annoId=579&shareKey=2f894202007966614f6a751fe892c436)."
   ]
  },
  {
   "cell_type": "code",
   "execution_count": null,
   "id": "d9a69575-d44f-4768-a426-12343aa013de",
   "metadata": {},
   "outputs": [],
   "source": [
    "##### YOUR CODE GOES HERE - uncomment and edit it! \n",
    "# url = 'http://???.org/??'\n",
    "# gtx = 'gt??'\n",
    "# is2data = dataCollector(oaurl=url, beam=gtx)\n",
    "# fig = is2data.visualize_sentinel2(title='<your figure title goes here>', \n",
    "#                                   imagery_filename='your-satellite-image.tif',\n",
    "#                                   plot_filename='your-plot.jpg')"
   ]
  },
  {
   "cell_type": "markdown",
   "id": "surrounded-amateur",
   "metadata": {
    "user_expressions": []
   },
   "source": [
    "## Summary\n",
    "\n",
    " 🎉 Congratulations! You've completed this tutorial and have seen how we can put ICESat-2 photon-level data into context using Google Earth Engine and the OpenAltimetry API. \n",
    " \n",
    "You can explore a few more use cases for this code (and possible solutions for Exercise 2) in [this notebook](./use_examples.ipynb)."
   ]
  },
  {
   "cell_type": "markdown",
   "id": "749f5c79-19d7-48ac-9421-852c3c83cc5f",
   "metadata": {
    "user_expressions": []
   },
   "source": [
    "## References\n",
    "\n",
    "To further explore the topics of this tutorial see the following detailed documentation:\n",
    "\n",
    "* [The OpenAltimetry API](https://openaltimetry.org/data/swagger-ui/)\n",
    "* [Google Earth Engine JavaScript and Python Guides](https://developers.google.com/earth-engine/guides)\n",
    "* [Tutorial on Sentinel-2 cloud masking with s2cloudless](https://developers.google.com/earth-engine/tutorials/community/sentinel-2-s2cloudless)\n",
    "* [The geemap package](https://geemap.org/) and [tutorials](https://geemap.org/tutorials/)"
   ]
  },
  {
   "cell_type": "markdown",
   "id": "f1e5808e-5b4e-484c-ab80-07c96c522b47",
   "metadata": {
    "user_expressions": []
   },
   "source": [
    "## Bonus Material: Code for Extracting Along-Track Surface Reflectance Values\n",
    "\n",
    "Based on javascript code in [this example](https://developers.google.com/earth-engine/tutorials/community/extract-raster-values-for-points)."
   ]
  },
  {
   "cell_type": "code",
   "execution_count": null,
   "id": "cbe14667-a7ae-4f63-82f8-47189a815f09",
   "metadata": {},
   "outputs": [],
   "source": [
    "# a function for buffering ICESat-2 along-track depth measurement locations by a footprint radius\n",
    "def bufferPoints(radius, bounds=False):\n",
    "    def buffer(pt):\n",
    "        pt = ee.Feature(pt)\n",
    "        return pt.buffer(radius).bounds() if bounds else pt.buffer(radius)\n",
    "    return buffer\n",
    "\n",
    "# a function for extracting Sentinel-2 band data for ICESat-2 along-track depth measurement locations\n",
    "def zonalStats(ic, fc, reducer=ee.Reducer.mean(), scale=None, crs=None, bands=None, bandsRename=None,\n",
    "               imgProps=None, imgPropsRename=None, datetimeName='datetime', datetimeFormat='YYYY-MM-dd HH:mm:ss'):\n",
    "\n",
    "    # Set default parameters based on an image representative.\n",
    "    imgRep = ic.first()\n",
    "    nonSystemImgProps = ee.Feature(None).copyProperties(imgRep).propertyNames()\n",
    "    if not bands:\n",
    "        bands = imgRep.bandNames()\n",
    "    if not bandsRename:\n",
    "        bandsRename = bands\n",
    "    if not imgProps:\n",
    "        imgProps = nonSystemImgProps\n",
    "    if not imgPropsRename:\n",
    "        imgPropsRename = imgProps\n",
    "\n",
    "    # Map the reduceRegions function over the image collection.\n",
    "    results = ic.map(lambda img: \n",
    "        img.select(bands, bandsRename)\n",
    "        .set(datetimeName, img.date().format(datetimeFormat))\n",
    "        .set('timestamp', img.get('system:time_start'))\n",
    "        .reduceRegions(collection=fc.filterBounds(img.geometry()),reducer=reducer,scale=scale,crs=crs)\n",
    "        .map(lambda f: f.set(img.toDictionary(imgProps).rename(imgProps,imgPropsRename)))\n",
    "    ).flatten().filter(ee.Filter.notNull(bandsRename))\n",
    "\n",
    "    return results"
   ]
  },
  {
   "cell_type": "code",
   "execution_count": null,
   "id": "8db86ee5-5908-499e-b900-fa6085452240",
   "metadata": {},
   "outputs": [],
   "source": [
    "ground_track_buffer = 7.5 # radius in meters, for a 15-m diameter footprint\n",
    "ground_track_coordinates = list(zip(is2data.gt.lon, is2data.gt.lat))\n",
    "gtx_feature = ee.Geometry.LineString(coords=ground_track_coordinates, proj='EPSG:4326', geodesic=True)\n",
    "aoi = gtx_feature.buffer(ground_track_buffer)\n",
    "\n",
    "# clip to the ground track for along-track querying\n",
    "img_gt = cloudfree_collection.first().clip(aoi)\n",
    "\n",
    "# get the footprint-buffered query points from the lake object's depth_data dataframe\n",
    "pts =  ee.FeatureCollection([\n",
    "    ee.Feature(ee.Geometry.Point([r.lon, r.lat]), {'plot_id': i}) for i,r in is2data.gt.iterrows()\n",
    "])\n",
    "ptsS2 = pts.map(bufferPoints(ground_track_buffer))\n",
    "\n",
    "# query the Sentinel-2 bands at the ground track locations where lake depths are posted\n",
    "thiscoll = ee.ImageCollection([img_gt])\n",
    "bandNames = ['B1', 'B2', 'B3', 'B4', 'B5', 'B6', 'B7', 'B8', 'B8A', 'B9', 'B11', 'B12', 'probability']\n",
    "bandIdxs = list(range(len(bandNames)-1)) + [23]\n",
    "ptsData = zonalStats(thiscoll, ptsS2, bands=bandIdxs, bandsRename=bandNames, imgProps=['PRODUCT_ID'], scale=5)\n",
    "\n",
    "# get the data to the client side and merge into the lake depth data frame\n",
    "features_select = ['plot_id'] + bandNames\n",
    "results = ptsData.select(features_select, retainGeometry=False).getInfo()['features']\n",
    "data = [x[\"properties\"] for x in results]\n",
    "dfS2 = pd.DataFrame(data).set_index('plot_id')\n",
    "df_bands = is2data.gt.join(dfS2, how='left')\n",
    "\n",
    "# calculate the Normalized Difference Water Index (NDWI)\n",
    "df_bands['ndwi'] = (df_bands.B2-df_bands.B4) / (df_bands.B2+df_bands.B4)\n",
    "\n",
    "df_bands"
   ]
  },
  {
   "cell_type": "code",
   "execution_count": null,
   "id": "a30a3816-6b1d-4857-88c3-22d12260208b",
   "metadata": {
    "tags": []
   },
   "outputs": [],
   "source": [
    "fig, axs = plt.subplots(figsize=[9,5], nrows=3, sharex=True)\n",
    "ax = axs[0]\n",
    "ax.scatter(is2data.atl03.lat, is2data.atl03.h, s=1, c='k', label='ATL03')\n",
    "ax.set_ylim((741, 818))\n",
    "ax.legend()\n",
    "ax = axs[1]\n",
    "ax.plot(df_bands.lat,df_bands.ndwi, c='b', label='NDWI')\n",
    "ax.set_ylim((0, 1))\n",
    "ax.legend()\n",
    "ax = axs[2]\n",
    "scale = 1e-4\n",
    "ax.plot(df_bands.lat,df_bands.B4*scale, c='r', label='B4')\n",
    "ax.plot(df_bands.lat,df_bands.B3*scale, c='g', label='B3')\n",
    "ax.plot(df_bands.lat,df_bands.B2*scale, c='b', label='B2')\n",
    "ax.set_ylim((0, 1))\n",
    "ax.legend()\n",
    "ax.set_xlim((is2data.gt.lat.min(), is2data.gt.lat.max()))\n",
    "ax.set_xlabel('latitude')"
   ]
  }
 ],
 "metadata": {
  "kernelspec": {
   "display_name": "Python 3 (ipykernel)",
   "language": "python",
   "name": "python3"
  },
  "language_info": {
   "codemirror_mode": {
    "name": "ipython",
    "version": 3
   },
   "file_extension": ".py",
   "mimetype": "text/x-python",
   "name": "python",
   "nbconvert_exporter": "python",
   "pygments_lexer": "ipython3",
   "version": "3.10.12"
  }
 },
 "nbformat": 4,
 "nbformat_minor": 5
}
