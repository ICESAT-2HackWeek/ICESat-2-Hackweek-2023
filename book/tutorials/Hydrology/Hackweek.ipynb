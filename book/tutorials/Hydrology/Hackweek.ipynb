{
 "cells": [
  {
   "cell_type": "markdown",
   "id": "2d44ca54-aab1-484f-864e-b3f519f64908",
   "metadata": {
    "user_expressions": []
   },
   "source": [
    "# ICESat-2 ATL13 Product for Inland Water monitoring\n",
    "\n",
    "This tutorial is developed for researchers interested in using the ATL13 product of the ICESat-2 for inland water monitoring e.g, lakes, rivers, reservoirs among others. In this tutorial, I have demonstrated how ATL13 product can be used for monitoring water surface height/elevation over time with a specific case study of Lake Victoria in the continent of Africa. With the tutorial, it is expected that the participants will achieve the following objectives:\n",
    "\n",
    "1. Understanding the ICESat-2 ATL13 product and its usage in inland hydrology\n",
    "2. Ability to access and extract required subset variables ATL13 data product\n",
    "3. Participants would be able to create a water surface elevation dynamics"
   ]
  },
  {
   "cell_type": "markdown",
   "id": "33b34008-786f-4d1e-90c5-c87ec6e7571c",
   "metadata": {
    "user_expressions": []
   },
   "source": [
    "## Introduction to altimetry satellites \n",
    "\n",
    "Information about water surface height is important for effective water monitoring and management.The limited capability coverage of insitu data, remote sensing altimetry has proven to be useful for monitoring water surface height. The altimetry satellite monitor the time it takes the reflectnace to get to the satellite from the earth surface element observed. The monitoring of water surface height is represented with the Eq (1) \n",
    "                           \n",
    "                           H=Alt−R+(DTC+WTC+IC+Ts)                 Eq.1\n",
    "\n",
    "H=orthometric height, Alt= Altitude, R= Range, DTC= dry tropospheric,  WTC= tropospheric , IC=Ionospheric, Ts=Solid Tide (Calmant et al., 2008).\n",
    "\n",
    "Represented below is a broader picture of how altimetry satellite monitors the surface water element.\n",
    "![Svalbard](./altim.jpg)\n",
    "\n",
    "Nielsen et al.  (2017)\n",
    "\n",
    "\n",
    "\n",
    "The chart below illustrates the historical development of altimetry satellites for water surface height monitoring.\n",
    "![Svalbard](./mussiom.JPG)\n",
    "(Yekeen et al. 2023)"
   ]
  },
  {
   "cell_type": "markdown",
   "id": "4b9e54de-b77d-4d48-b1a9-e403f562a70e",
   "metadata": {
    "user_expressions": []
   },
   "source": [
    "This product provides us with the ellipsoid height, orthometric height, wave height, latitude, longitude, time among others that will be used in this demonstration.\n",
    "\n",
    "A Detail Explanation of the ATL13 Product\n",
    "\n",
    "https://nsidc.org/sites/nsidc.org/files/technical-references/ICESat2_ATL13_data_dict_v003.pdf"
   ]
  },
  {
   "cell_type": "markdown",
   "id": "38b7dcaf-2b25-403b-8d33-db7954a7ec82",
   "metadata": {
    "user_expressions": []
   },
   "source": [
    "### Import the important packages for downloading of ICESat-2 ATL13 product"
   ]
  },
  {
   "cell_type": "code",
   "execution_count": null,
   "id": "104ce6bd-3a48-4a66-8579-d52dc0432a03",
   "metadata": {},
   "outputs": [],
   "source": [
    "import icepyx as ipx\n",
    "from pprint import pprint"
   ]
  },
  {
   "cell_type": "markdown",
   "id": "2d2a9a53-2d3a-4191-9f08-3d1e4819856f",
   "metadata": {
    "user_expressions": []
   },
   "source": [
    "## Lake Victoria in Central Africa \n",
    "![Svalbard](./studyarea.JPG)"
   ]
  },
  {
   "cell_type": "markdown",
   "id": "53588807-3d3c-4378-bb67-1980f07e0156",
   "metadata": {
    "user_expressions": []
   },
   "source": [
    "#### Define the boundary of the inland water body or area extent of your study area. \n",
    "The lower left longitude and latitude in degree decimal follow by the Upper right longitude and latitude in degree decimal also.\n",
    "(longitude, latitude, longitude, latitude)\n",
    "\n",
    "The date interval needs to be specify as well. \n"
   ]
  },
  {
   "cell_type": "code",
   "execution_count": 2,
   "id": "d7466c93-3309-4f9f-81c2-b3a6c0e4ebee",
   "metadata": {},
   "outputs": [
    {
     "data": {
      "text/plain": [
       "{'Number of available granules': 303,\n",
       " 'Average size of granules (MB)': 75.65766270955413,\n",
       " 'Total size of all granules (MB)': 22924.27180099492}"
      ]
     },
     "execution_count": 2,
     "metadata": {},
     "output_type": "execute_result"
    }
   ],
   "source": [
    "#Define CSA study area and type of data Lower left long,lat, upper right long, lat, you can also change the ATLs based on\n",
    "#need, ATL06, ATL08, ATL03 ETC. e. Lake Victoria located between Uganda, Kneya and Tanzania\n",
    "region_a = ipx.Query('ATL13', [ 31.966824, -1.833499, 33.875129, -0.495605], ['2018-10-01','2023-07-20'], \\\n",
    "                          start_time='00:00:00', end_time='23:59:59')\n",
    "region_a.avail_granules()"
   ]
  },
  {
   "cell_type": "markdown",
   "id": "a4473d99-b645-4b41-bc68-982e787aea07",
   "metadata": {
    "user_expressions": []
   },
   "source": [
    "This is to authentic if you are loggedin or not. To be able to do this, you need to have registered on Earthdata."
   ]
  },
  {
   "cell_type": "code",
   "execution_count": 3,
   "id": "129ee7f0-5d4c-4eac-a17f-8043750eb346",
   "metadata": {},
   "outputs": [
    {
     "name": "stdout",
     "output_type": "stream",
     "text": [
      "EARTHDATA_USERNAME and EARTHDATA_PASSWORD are not set in the current environment, try setting them or use a different strategy (netrc, interactive)\n",
      "You're now authenticated with NASA Earthdata Login\n",
      "Using token with expiration date: 10/07/2023\n"
     ]
    }
   ],
   "source": [
    "#Login\n",
    "region_a.earthdata_login('user name','email') #change this to your earthdata username and password"
   ]
  },
  {
   "cell_type": "markdown",
   "id": "c4d63cab-5319-4081-9b6b-b4363ed15669",
   "metadata": {
    "user_expressions": []
   },
   "source": [
    "Now this will tell us the number of available granules that are present for the region and duration."
   ]
  },
  {
   "cell_type": "code",
   "execution_count": null,
   "id": "73ef941c-e9fa-42f1-ae44-9ac838d46172",
   "metadata": {
    "tags": []
   },
   "outputs": [],
   "source": [
    "#Show the different granules\n",
    "region_a.order_granules()"
   ]
  },
  {
   "cell_type": "code",
   "execution_count": 5,
   "id": "7abb4440-392a-43d3-82f1-e3a835e92629",
   "metadata": {},
   "outputs": [
    {
     "name": "stdout",
     "output_type": "stream",
     "text": [
      "Beginning download of zipped output...\n",
      "Data request 5000004376012 of  1  order(s) is downloaded.\n",
      "Download complete\n"
     ]
    }
   ],
   "source": [
    "#Download the data\n",
    "region_a.download_granules('/tmp/Hydrology/')"
   ]
  },
  {
   "cell_type": "markdown",
   "id": "303c9f98-bac4-4200-9ec8-fcdc81204c0a",
   "metadata": {
    "user_expressions": []
   },
   "source": [
    "### .........Now lets create dataframe from the downloaded ICESat-2\n",
    "After Accessing the data, we are going to extract the data from all of the groundtracks. While some people would only be interested in the strong beams, because of the sizes of the lakes most especially the smallers ones, we might want to extract from all of the beams to have more observations. \n"
   ]
  },
  {
   "cell_type": "code",
   "execution_count": 6,
   "id": "eac7ab55-80f3-4981-a29a-e0297ea4eeec",
   "metadata": {
    "tags": []
   },
   "outputs": [],
   "source": [
    "import h5py \n",
    "import numpy as np\n",
    "import os\n",
    "import re\n",
    "import glob\n",
    "import geopandas as gpd\n",
    "from multiprocessing import Pool\n",
    "import pandas as pd\n",
    "%matplotlib inline\n",
    "import matplotlib.pyplot as plt\n",
    "import geopandas as gpd\n",
    "from shapely.geometry import Polygon\n",
    "import convert_GPS_time as cGPS\n",
    "from datetime import datetime\n",
    "import matplotlib.dates as mdates"
   ]
  },
  {
   "cell_type": "markdown",
   "id": "d98e41f4-9d76-4739-b156-1a309a53037b",
   "metadata": {
    "user_expressions": []
   },
   "source": [
    "Here we will set our data path and use the glob packae to locate all the file with thesame starting and format."
   ]
  },
  {
   "cell_type": "code",
   "execution_count": 7,
   "id": "bcc13a4f-5901-4fda-aa27-2fb8fbb3acb4",
   "metadata": {
    "tags": []
   },
   "outputs": [],
   "source": [
    "# Directory containing the files\n",
    "dir_path = '/home/jovyan/shared/ICESat-2-Hackweek/Hydrology/Lake Victoria/'\n",
    "\n",
    "# List all files in the directory\n",
    "file_list = glob.glob(os.path.join(dir_path, 'processed_ATL13*.h5'))\n",
    "\n",
    "# List of all the subgroups containing the beams\n",
    "sub_file_list = ['gt1l/', 'gt1r/', 'gt2l/', 'gt2r/', 'gt3l/', 'gt3r/']\n"
   ]
  },
  {
   "cell_type": "markdown",
   "id": "a194a6fe-9770-4802-87be-4f34a2fae522",
   "metadata": {
    "user_expressions": []
   },
   "source": [
    "Here we list the variables that we are interested in and save them into a dataframe."
   ]
  },
  {
   "cell_type": "code",
   "execution_count": 8,
   "id": "3d99de7c-605f-41fb-accc-9c6267ce046f",
   "metadata": {},
   "outputs": [],
   "source": [
    "\n",
    "# Loop through all the files\n",
    "for file_path in file_list:\n",
    "    # Open the file and read the data\n",
    "    data = h5py.File(file_path, 'r')\n",
    "    # Loop through all the subgroups and extract the data\n",
    "    for subgroup in sub_file_list:\n",
    "        if subgroup in data:\n",
    "            lat = data.get(os.path.join(subgroup, 'segment_lat'))\n",
    "            lon = data.get(os.path.join(subgroup, 'segment_lon'))\n",
    "            height = data.get(os.path.join(subgroup, 'ht_ortho'))\n",
    "            time = data.get(os.path.join(subgroup, 'delta_time'))\n",
    "            qf_bc = data.get(os.path.join(subgroup, 'qf_bckgrd'))\n",
    "            qf_bias = data.get(os.path.join(subgroup, 'qf_bias_em'))\n",
    "            qf_fit = data.get(os.path.join(subgroup, 'qf_bias_fit'))\n",
    "            swh = data.get(os.path.join(subgroup, 'significant_wave_ht'))\n",
    "            std_ws = data.get(os.path.join(subgroup, 'stdev_water_surf'))\n",
    "            \n",
    "            #if all(x is not None for x in [ht_water,lat, lon, height, time]):\n",
    "\n",
    "            if all(x is not None for x in [lat, lon, height, time, qf_bc, qf_bias, qf_fit, swh, std_ws]):\n",
    "                df = pd.DataFrame(data={\n",
    "                    'lat': lat[:],\n",
    "                    'lon': lon[:],\n",
    "                    'height': height[:],             \n",
    "                    'time': time[:],\n",
    "                    'qf_bc': qf_bc[:],\n",
    "                    'qf_bias': qf_bias[:],\n",
    "                    'qf_fit': qf_fit[:],\n",
    "                    'swh': swh[:],\n",
    "                    'std_ws' :std_ws[:]\n",
    "                })\n",
    "                # Add a column for the subgroup ID\n",
    "                df['subgroup'] = subgroup\n",
    "                # Concatenate the dataframes\n",
    "                if 'combined_data' not in locals():\n",
    "                    combined_data = df\n",
    "                else:\n",
    "                    combined_data = pd.concat([combined_data, df])\n",
    "    # Close the file\n",
    "    data.close()\n"
   ]
  },
  {
   "cell_type": "code",
   "execution_count": 9,
   "id": "9a92f68a-f51a-4ce0-b7e1-ba8766e5bfb4",
   "metadata": {},
   "outputs": [],
   "source": [
    "#save the dataframe as a csv file\n",
    "combined_data.to_csv('/tmp/Hydrology/combined_data1.csv', index=True)"
   ]
  },
  {
   "cell_type": "code",
   "execution_count": 10,
   "id": "cf51f4eb-2d1a-444a-8eae-b4bb22c80c94",
   "metadata": {
    "tags": []
   },
   "outputs": [
    {
     "name": "stderr",
     "output_type": "stream",
     "text": [
      "/tmp/ipykernel_551/3823291238.py:2: DtypeWarning: Columns (22,23) have mixed types. Specify dtype option on import or set low_memory=False.\n",
      "  combined_data=pd.read_csv(\"/home/jovyan/shared/ICESat-2-Hackweek/Hydrology/Lake Victoria/combined_data1.csv\")\n"
     ]
    }
   ],
   "source": [
    "#Import the csv file \n",
    "combined_data=pd.read_csv(\"/home/jovyan/shared/ICESat-2-Hackweek/Hydrology/Lake Victoria/combined_data1.csv\") "
   ]
  },
  {
   "cell_type": "code",
   "execution_count": 11,
   "id": "6f036a54-d901-4de4-8135-8328f1cbc490",
   "metadata": {
    "tags": []
   },
   "outputs": [],
   "source": [
    "All_lakes=combined_data"
   ]
  },
  {
   "cell_type": "markdown",
   "id": "74284c10-762d-4eb8-bdc8-4b90a9c5778c",
   "metadata": {
    "user_expressions": []
   },
   "source": [
    "Because the granules are always longer than the study boundary, it is important to have a water mask to prevent the interaction of water and land. In this stage, we are importing the lake area mask to extract only observations that are water surface without contamination with land."
   ]
  },
  {
   "cell_type": "code",
   "execution_count": 12,
   "id": "efb7c1ab-e1d9-4508-913f-88355b0de768",
   "metadata": {
    "tags": []
   },
   "outputs": [],
   "source": [
    "#import the shapefile of the lakes\n",
    "Lake1 = gpd.read_file('/home/jovyan/shared/ICESat-2-Hackweek/Hydrology/lake_victoria.shp')"
   ]
  },
  {
   "cell_type": "markdown",
   "id": "9fe014b0-45e6-4bd1-81dc-f97cf75ac6d3",
   "metadata": {
    "user_expressions": []
   },
   "source": [
    "![Svalbard](./Lakevic.JPG)"
   ]
  },
  {
   "cell_type": "code",
   "execution_count": 13,
   "id": "6b953743-091a-4171-9766-4b48abcdfdb0",
   "metadata": {
    "tags": []
   },
   "outputs": [],
   "source": [
    "# extract the data from the entire data\n",
    "def filter_data_by_polygon(df, polygon_geo_df):\n",
    "    df['geometry'] = gpd.points_from_xy(df['lon'], df['lat'])\n",
    "    filtered_data = df[gpd.GeoDataFrame(df, geometry='geometry').within(polygon_geo_df.unary_union)]\n",
    "    filtered_data = filtered_data.drop('geometry', axis=1)\n",
    "    return filtered_data"
   ]
  },
  {
   "cell_type": "markdown",
   "id": "57a600b1-5bad-431e-b1d3-38a4b85c81b0",
   "metadata": {
    "user_expressions": []
   },
   "source": [
    "Extract the required data "
   ]
  },
  {
   "cell_type": "code",
   "execution_count": 14,
   "id": "fa22796c-de44-4b4a-9f15-eea691ae9e44",
   "metadata": {
    "tags": []
   },
   "outputs": [],
   "source": [
    "filtered_csv1 = filter_data_by_polygon(All_lakes, Lake1)"
   ]
  },
  {
   "cell_type": "code",
   "execution_count": 15,
   "id": "d4a6c99d-0bb3-4317-80ab-5a4609c80f88",
   "metadata": {
    "tags": []
   },
   "outputs": [],
   "source": [
    "Lake_Victoria=filtered_csv1 "
   ]
  },
  {
   "cell_type": "markdown",
   "id": "f4d2bc17-1720-47fd-9b3f-6caec95b7521",
   "metadata": {
    "user_expressions": []
   },
   "source": [
    "The time is currently in the GPS format so with this code we will convert them to the Julian Day, Month and year"
   ]
  },
  {
   "cell_type": "code",
   "execution_count": 16,
   "id": "ffc74f36-9c76-46d6-bf5b-2bcee71c61c3",
   "metadata": {
    "tags": []
   },
   "outputs": [],
   "source": [
    "run -i convert_delta_time.py"
   ]
  },
  {
   "cell_type": "code",
   "execution_count": 17,
   "id": "b7a6948b-7718-40cd-b2ff-4316fa0585aa",
   "metadata": {
    "tags": []
   },
   "outputs": [],
   "source": [
    "temp = cGPS.convert_GPS_time(1.198800e+09 + Lake_Victoria.time, OFFSET=0.0)\n",
    "year = temp['year'][:].astype('int')\n",
    "month = temp['month'][:].astype('int')\n",
    "day = temp['day'][:].astype('int')\n",
    "hour = temp['hour'][:].astype('int')\n",
    "minute = temp['minute'][:].astype('int')\n",
    "second = temp['second'][:].astype('int')\n",
    "    #time=temp[year: 'year',month:'month' ,day: 'day' ][:].astype('int')\n",
    "year=np.c_[year]\n",
    "month=np.c_[month]\n",
    "day=np.c_[day]\n",
    "Lake_Victoria['Year'] =year\n",
    "Lake_Victoria['Month'] =month\n",
    "Lake_Victoria['Day'] =day\n",
    "Lake_Victoria['Time']=pd.to_datetime(Lake_Victoria['Year'].astype('str') + '-' + Lake_Victoria['Month'].astype('str')  + '-' + Lake_Victoria['Day'].astype('str'), yearfirst=True)"
   ]
  },
  {
   "cell_type": "code",
   "execution_count": 18,
   "id": "4315499f-24b3-4962-8862-6febdfa09b15",
   "metadata": {
    "tags": []
   },
   "outputs": [
    {
     "data": {
      "text/html": [
       "<div>\n",
       "<style scoped>\n",
       "    .dataframe tbody tr th:only-of-type {\n",
       "        vertical-align: middle;\n",
       "    }\n",
       "\n",
       "    .dataframe tbody tr th {\n",
       "        vertical-align: top;\n",
       "    }\n",
       "\n",
       "    .dataframe thead th {\n",
       "        text-align: right;\n",
       "    }\n",
       "</style>\n",
       "<table border=\"1\" class=\"dataframe\">\n",
       "  <thead>\n",
       "    <tr style=\"text-align: right;\">\n",
       "      <th></th>\n",
       "      <th>Unnamed: 0</th>\n",
       "      <th>ht_water</th>\n",
       "      <th>lat</th>\n",
       "      <th>lon</th>\n",
       "      <th>height</th>\n",
       "      <th>time</th>\n",
       "      <th>ice_flag</th>\n",
       "      <th>qf_bc</th>\n",
       "      <th>snow_ice</th>\n",
       "      <th>qf_bias</th>\n",
       "      <th>...</th>\n",
       "      <th>swh</th>\n",
       "      <th>l_layer</th>\n",
       "      <th>std_ws</th>\n",
       "      <th>s_bf</th>\n",
       "      <th>w_d</th>\n",
       "      <th>subgroup</th>\n",
       "      <th>Year</th>\n",
       "      <th>Month</th>\n",
       "      <th>Day</th>\n",
       "      <th>Time</th>\n",
       "    </tr>\n",
       "  </thead>\n",
       "  <tbody>\n",
       "    <tr>\n",
       "      <th>16</th>\n",
       "      <td>18</td>\n",
       "      <td>1117.5900</td>\n",
       "      <td>-0.602123</td>\n",
       "      <td>33.870005</td>\n",
       "      <td>1135.1748</td>\n",
       "      <td>2.531880e+07</td>\n",
       "      <td>127.0</td>\n",
       "      <td>1</td>\n",
       "      <td>0.0</td>\n",
       "      <td>0</td>\n",
       "      <td>...</td>\n",
       "      <td>0.26</td>\n",
       "      <td>1.0</td>\n",
       "      <td>0.065</td>\n",
       "      <td>0.000346</td>\n",
       "      <td>3.468284</td>\n",
       "      <td>gt1l/</td>\n",
       "      <td>2018</td>\n",
       "      <td>10</td>\n",
       "      <td>21</td>\n",
       "      <td>2018-10-21</td>\n",
       "    </tr>\n",
       "    <tr>\n",
       "      <th>17</th>\n",
       "      <td>19</td>\n",
       "      <td>1117.6124</td>\n",
       "      <td>-0.605284</td>\n",
       "      <td>33.869687</td>\n",
       "      <td>1135.1996</td>\n",
       "      <td>2.531880e+07</td>\n",
       "      <td>127.0</td>\n",
       "      <td>1</td>\n",
       "      <td>0.0</td>\n",
       "      <td>0</td>\n",
       "      <td>...</td>\n",
       "      <td>0.26</td>\n",
       "      <td>1.0</td>\n",
       "      <td>0.065</td>\n",
       "      <td>0.000346</td>\n",
       "      <td>3.468284</td>\n",
       "      <td>gt1l/</td>\n",
       "      <td>2018</td>\n",
       "      <td>10</td>\n",
       "      <td>21</td>\n",
       "      <td>2018-10-21</td>\n",
       "    </tr>\n",
       "    <tr>\n",
       "      <th>18</th>\n",
       "      <td>20</td>\n",
       "      <td>1117.5864</td>\n",
       "      <td>-0.607841</td>\n",
       "      <td>33.869432</td>\n",
       "      <td>1135.1753</td>\n",
       "      <td>2.531880e+07</td>\n",
       "      <td>127.0</td>\n",
       "      <td>1</td>\n",
       "      <td>0.0</td>\n",
       "      <td>0</td>\n",
       "      <td>...</td>\n",
       "      <td>0.26</td>\n",
       "      <td>1.0</td>\n",
       "      <td>0.065</td>\n",
       "      <td>0.000346</td>\n",
       "      <td>3.468284</td>\n",
       "      <td>gt1l/</td>\n",
       "      <td>2018</td>\n",
       "      <td>10</td>\n",
       "      <td>21</td>\n",
       "      <td>2018-10-21</td>\n",
       "    </tr>\n",
       "    <tr>\n",
       "      <th>19</th>\n",
       "      <td>21</td>\n",
       "      <td>1117.6119</td>\n",
       "      <td>-0.609506</td>\n",
       "      <td>33.869264</td>\n",
       "      <td>1135.2020</td>\n",
       "      <td>2.531880e+07</td>\n",
       "      <td>127.0</td>\n",
       "      <td>1</td>\n",
       "      <td>0.0</td>\n",
       "      <td>0</td>\n",
       "      <td>...</td>\n",
       "      <td>0.04</td>\n",
       "      <td>1.0</td>\n",
       "      <td>0.010</td>\n",
       "      <td>0.021160</td>\n",
       "      <td>3.774847</td>\n",
       "      <td>gt1l/</td>\n",
       "      <td>2018</td>\n",
       "      <td>10</td>\n",
       "      <td>21</td>\n",
       "      <td>2018-10-21</td>\n",
       "    </tr>\n",
       "    <tr>\n",
       "      <th>20</th>\n",
       "      <td>22</td>\n",
       "      <td>1117.6145</td>\n",
       "      <td>-0.611254</td>\n",
       "      <td>33.869092</td>\n",
       "      <td>1135.2058</td>\n",
       "      <td>2.531880e+07</td>\n",
       "      <td>127.0</td>\n",
       "      <td>1</td>\n",
       "      <td>0.0</td>\n",
       "      <td>0</td>\n",
       "      <td>...</td>\n",
       "      <td>0.04</td>\n",
       "      <td>1.0</td>\n",
       "      <td>0.010</td>\n",
       "      <td>0.021160</td>\n",
       "      <td>3.774847</td>\n",
       "      <td>gt1l/</td>\n",
       "      <td>2018</td>\n",
       "      <td>10</td>\n",
       "      <td>21</td>\n",
       "      <td>2018-10-21</td>\n",
       "    </tr>\n",
       "    <tr>\n",
       "      <th>...</th>\n",
       "      <td>...</td>\n",
       "      <td>...</td>\n",
       "      <td>...</td>\n",
       "      <td>...</td>\n",
       "      <td>...</td>\n",
       "      <td>...</td>\n",
       "      <td>...</td>\n",
       "      <td>...</td>\n",
       "      <td>...</td>\n",
       "      <td>...</td>\n",
       "      <td>...</td>\n",
       "      <td>...</td>\n",
       "      <td>...</td>\n",
       "      <td>...</td>\n",
       "      <td>...</td>\n",
       "      <td>...</td>\n",
       "      <td>...</td>\n",
       "      <td>...</td>\n",
       "      <td>...</td>\n",
       "      <td>...</td>\n",
       "      <td>...</td>\n",
       "    </tr>\n",
       "    <tr>\n",
       "      <th>811934</th>\n",
       "      <td>82</td>\n",
       "      <td>NaN</td>\n",
       "      <td>-0.685979</td>\n",
       "      <td>33.668160</td>\n",
       "      <td>1135.7320</td>\n",
       "      <td>1.640605e+08</td>\n",
       "      <td>NaN</td>\n",
       "      <td>0</td>\n",
       "      <td>NaN</td>\n",
       "      <td>0</td>\n",
       "      <td>...</td>\n",
       "      <td>0.44</td>\n",
       "      <td>NaN</td>\n",
       "      <td>0.110</td>\n",
       "      <td>NaN</td>\n",
       "      <td>NaN</td>\n",
       "      <td>gt3l/</td>\n",
       "      <td>2023</td>\n",
       "      <td>3</td>\n",
       "      <td>14</td>\n",
       "      <td>2023-03-14</td>\n",
       "    </tr>\n",
       "    <tr>\n",
       "      <th>811935</th>\n",
       "      <td>83</td>\n",
       "      <td>NaN</td>\n",
       "      <td>-0.686397</td>\n",
       "      <td>33.668122</td>\n",
       "      <td>1135.7255</td>\n",
       "      <td>1.640605e+08</td>\n",
       "      <td>NaN</td>\n",
       "      <td>0</td>\n",
       "      <td>NaN</td>\n",
       "      <td>0</td>\n",
       "      <td>...</td>\n",
       "      <td>0.44</td>\n",
       "      <td>NaN</td>\n",
       "      <td>0.110</td>\n",
       "      <td>NaN</td>\n",
       "      <td>NaN</td>\n",
       "      <td>gt3l/</td>\n",
       "      <td>2023</td>\n",
       "      <td>3</td>\n",
       "      <td>14</td>\n",
       "      <td>2023-03-14</td>\n",
       "    </tr>\n",
       "    <tr>\n",
       "      <th>811936</th>\n",
       "      <td>84</td>\n",
       "      <td>NaN</td>\n",
       "      <td>-0.687562</td>\n",
       "      <td>33.668015</td>\n",
       "      <td>1135.7468</td>\n",
       "      <td>1.640605e+08</td>\n",
       "      <td>NaN</td>\n",
       "      <td>0</td>\n",
       "      <td>NaN</td>\n",
       "      <td>0</td>\n",
       "      <td>...</td>\n",
       "      <td>0.44</td>\n",
       "      <td>NaN</td>\n",
       "      <td>0.110</td>\n",
       "      <td>NaN</td>\n",
       "      <td>NaN</td>\n",
       "      <td>gt3l/</td>\n",
       "      <td>2023</td>\n",
       "      <td>3</td>\n",
       "      <td>14</td>\n",
       "      <td>2023-03-14</td>\n",
       "    </tr>\n",
       "    <tr>\n",
       "      <th>811937</th>\n",
       "      <td>85</td>\n",
       "      <td>NaN</td>\n",
       "      <td>-0.692744</td>\n",
       "      <td>33.667544</td>\n",
       "      <td>1135.7163</td>\n",
       "      <td>1.640605e+08</td>\n",
       "      <td>NaN</td>\n",
       "      <td>0</td>\n",
       "      <td>NaN</td>\n",
       "      <td>0</td>\n",
       "      <td>...</td>\n",
       "      <td>0.44</td>\n",
       "      <td>NaN</td>\n",
       "      <td>0.110</td>\n",
       "      <td>NaN</td>\n",
       "      <td>NaN</td>\n",
       "      <td>gt3l/</td>\n",
       "      <td>2023</td>\n",
       "      <td>3</td>\n",
       "      <td>14</td>\n",
       "      <td>2023-03-14</td>\n",
       "    </tr>\n",
       "    <tr>\n",
       "      <th>811938</th>\n",
       "      <td>86</td>\n",
       "      <td>NaN</td>\n",
       "      <td>-0.758830</td>\n",
       "      <td>33.660830</td>\n",
       "      <td>1135.6062</td>\n",
       "      <td>1.640605e+08</td>\n",
       "      <td>NaN</td>\n",
       "      <td>0</td>\n",
       "      <td>NaN</td>\n",
       "      <td>0</td>\n",
       "      <td>...</td>\n",
       "      <td>0.44</td>\n",
       "      <td>NaN</td>\n",
       "      <td>0.110</td>\n",
       "      <td>NaN</td>\n",
       "      <td>NaN</td>\n",
       "      <td>gt3l/</td>\n",
       "      <td>2023</td>\n",
       "      <td>3</td>\n",
       "      <td>14</td>\n",
       "      <td>2023-03-14</td>\n",
       "    </tr>\n",
       "  </tbody>\n",
       "</table>\n",
       "<p>630815 rows × 23 columns</p>\n",
       "</div>"
      ],
      "text/plain": [
       "        Unnamed: 0   ht_water       lat        lon     height          time  \\\n",
       "16              18  1117.5900 -0.602123  33.870005  1135.1748  2.531880e+07   \n",
       "17              19  1117.6124 -0.605284  33.869687  1135.1996  2.531880e+07   \n",
       "18              20  1117.5864 -0.607841  33.869432  1135.1753  2.531880e+07   \n",
       "19              21  1117.6119 -0.609506  33.869264  1135.2020  2.531880e+07   \n",
       "20              22  1117.6145 -0.611254  33.869092  1135.2058  2.531880e+07   \n",
       "...            ...        ...       ...        ...        ...           ...   \n",
       "811934          82        NaN -0.685979  33.668160  1135.7320  1.640605e+08   \n",
       "811935          83        NaN -0.686397  33.668122  1135.7255  1.640605e+08   \n",
       "811936          84        NaN -0.687562  33.668015  1135.7468  1.640605e+08   \n",
       "811937          85        NaN -0.692744  33.667544  1135.7163  1.640605e+08   \n",
       "811938          86        NaN -0.758830  33.660830  1135.6062  1.640605e+08   \n",
       "\n",
       "        ice_flag  qf_bc  snow_ice  qf_bias  ...   swh  l_layer  std_ws  \\\n",
       "16         127.0      1       0.0        0  ...  0.26      1.0   0.065   \n",
       "17         127.0      1       0.0        0  ...  0.26      1.0   0.065   \n",
       "18         127.0      1       0.0        0  ...  0.26      1.0   0.065   \n",
       "19         127.0      1       0.0        0  ...  0.04      1.0   0.010   \n",
       "20         127.0      1       0.0        0  ...  0.04      1.0   0.010   \n",
       "...          ...    ...       ...      ...  ...   ...      ...     ...   \n",
       "811934       NaN      0       NaN        0  ...  0.44      NaN   0.110   \n",
       "811935       NaN      0       NaN        0  ...  0.44      NaN   0.110   \n",
       "811936       NaN      0       NaN        0  ...  0.44      NaN   0.110   \n",
       "811937       NaN      0       NaN        0  ...  0.44      NaN   0.110   \n",
       "811938       NaN      0       NaN        0  ...  0.44      NaN   0.110   \n",
       "\n",
       "            s_bf       w_d  subgroup  Year  Month Day       Time  \n",
       "16      0.000346  3.468284     gt1l/  2018     10  21 2018-10-21  \n",
       "17      0.000346  3.468284     gt1l/  2018     10  21 2018-10-21  \n",
       "18      0.000346  3.468284     gt1l/  2018     10  21 2018-10-21  \n",
       "19      0.021160  3.774847     gt1l/  2018     10  21 2018-10-21  \n",
       "20      0.021160  3.774847     gt1l/  2018     10  21 2018-10-21  \n",
       "...          ...       ...       ...   ...    ...  ..        ...  \n",
       "811934       NaN       NaN     gt3l/  2023      3  14 2023-03-14  \n",
       "811935       NaN       NaN     gt3l/  2023      3  14 2023-03-14  \n",
       "811936       NaN       NaN     gt3l/  2023      3  14 2023-03-14  \n",
       "811937       NaN       NaN     gt3l/  2023      3  14 2023-03-14  \n",
       "811938       NaN       NaN     gt3l/  2023      3  14 2023-03-14  \n",
       "\n",
       "[630815 rows x 23 columns]"
      ]
     },
     "execution_count": 18,
     "metadata": {},
     "output_type": "execute_result"
    }
   ],
   "source": [
    "Lake_Victoria"
   ]
  },
  {
   "cell_type": "code",
   "execution_count": 19,
   "id": "becc7070-e790-49fa-bf0b-ea5747ece4bb",
   "metadata": {
    "tags": []
   },
   "outputs": [],
   "source": [
    "Lake_Victoria=Lake_Victoria.drop(columns=['Year', 'Month', 'Day'])"
   ]
  },
  {
   "cell_type": "code",
   "execution_count": 20,
   "id": "1cf4f92e-0e98-4dcf-9e81-fef0a7767d83",
   "metadata": {
    "tags": []
   },
   "outputs": [],
   "source": [
    "#All_lakes=All_lakes[(All_lakes.snow_ice < 2) & All_lakes.l_layer < 0) & (All_lakes.qf_bc < 6) & (All_lakes.qf_bias +- 2) & (All_lakes.qf_fit +- 2) & (All_lakes.std_ws < 2)]"
   ]
  },
  {
   "cell_type": "code",
   "execution_count": 21,
   "id": "27697224-baf7-433b-b3c3-1f72aeb5e936",
   "metadata": {
    "tags": []
   },
   "outputs": [],
   "source": [
    "All_lakes=Lake_Victoria"
   ]
  },
  {
   "cell_type": "markdown",
   "id": "8b4a6c23-aecf-4ca7-af23-1c8cf4975ba1",
   "metadata": {
    "user_expressions": []
   },
   "source": [
    "Due to the combinations of the different beams and the other atmspheric effect, outlier are expected to be present in the data. To remove this, we use the inter-quartile range method to remove the outliers from the data"
   ]
  },
  {
   "cell_type": "code",
   "execution_count": 22,
   "id": "7177c6e5-97be-477d-afc2-57d633f98fd6",
   "metadata": {
    "tags": []
   },
   "outputs": [],
   "source": [
    "run -i outlier_removal.py"
   ]
  },
  {
   "cell_type": "code",
   "execution_count": 23,
   "id": "3f52d59a-7d86-411e-9d82-c7851a0f1ea5",
   "metadata": {
    "tags": []
   },
   "outputs": [],
   "source": [
    "lowerbound,upperbound = outlier_treatment(All_lakes.height)\n",
    "All_lakes[(All_lakes.height < lowerbound) | (All_lakes.height > upperbound)]\n",
    "All_lakes.drop(All_lakes[ (All_lakes.height > upperbound) | (All_lakes.height < lowerbound) ].index , inplace=True)"
   ]
  },
  {
   "cell_type": "code",
   "execution_count": 24,
   "id": "4bd7ef86-6a5c-4c18-b6f4-f239c38fbf6c",
   "metadata": {
    "tags": []
   },
   "outputs": [
    {
     "data": {
      "text/html": [
       "<div>\n",
       "<style scoped>\n",
       "    .dataframe tbody tr th:only-of-type {\n",
       "        vertical-align: middle;\n",
       "    }\n",
       "\n",
       "    .dataframe tbody tr th {\n",
       "        vertical-align: top;\n",
       "    }\n",
       "\n",
       "    .dataframe thead th {\n",
       "        text-align: right;\n",
       "    }\n",
       "</style>\n",
       "<table border=\"1\" class=\"dataframe\">\n",
       "  <thead>\n",
       "    <tr style=\"text-align: right;\">\n",
       "      <th></th>\n",
       "      <th>Unnamed: 0</th>\n",
       "      <th>ht_water</th>\n",
       "      <th>lat</th>\n",
       "      <th>lon</th>\n",
       "      <th>height</th>\n",
       "      <th>time</th>\n",
       "      <th>ice_flag</th>\n",
       "      <th>qf_bc</th>\n",
       "      <th>snow_ice</th>\n",
       "      <th>qf_bias</th>\n",
       "      <th>qf_fit</th>\n",
       "      <th>flag_asr</th>\n",
       "      <th>flag_atm</th>\n",
       "      <th>swh</th>\n",
       "      <th>l_layer</th>\n",
       "      <th>std_ws</th>\n",
       "      <th>s_bf</th>\n",
       "      <th>w_d</th>\n",
       "      <th>subgroup</th>\n",
       "      <th>Time</th>\n",
       "    </tr>\n",
       "  </thead>\n",
       "  <tbody>\n",
       "    <tr>\n",
       "      <th>16</th>\n",
       "      <td>18</td>\n",
       "      <td>1117.5900</td>\n",
       "      <td>-0.602123</td>\n",
       "      <td>33.870005</td>\n",
       "      <td>1135.1748</td>\n",
       "      <td>2.531880e+07</td>\n",
       "      <td>127.0</td>\n",
       "      <td>1</td>\n",
       "      <td>0.0</td>\n",
       "      <td>0</td>\n",
       "      <td>0</td>\n",
       "      <td>5.0</td>\n",
       "      <td>3.0</td>\n",
       "      <td>0.26</td>\n",
       "      <td>1.0</td>\n",
       "      <td>0.065</td>\n",
       "      <td>0.000346</td>\n",
       "      <td>3.468284</td>\n",
       "      <td>gt1l/</td>\n",
       "      <td>2018-10-21</td>\n",
       "    </tr>\n",
       "    <tr>\n",
       "      <th>17</th>\n",
       "      <td>19</td>\n",
       "      <td>1117.6124</td>\n",
       "      <td>-0.605284</td>\n",
       "      <td>33.869687</td>\n",
       "      <td>1135.1996</td>\n",
       "      <td>2.531880e+07</td>\n",
       "      <td>127.0</td>\n",
       "      <td>1</td>\n",
       "      <td>0.0</td>\n",
       "      <td>0</td>\n",
       "      <td>0</td>\n",
       "      <td>5.0</td>\n",
       "      <td>3.0</td>\n",
       "      <td>0.26</td>\n",
       "      <td>1.0</td>\n",
       "      <td>0.065</td>\n",
       "      <td>0.000346</td>\n",
       "      <td>3.468284</td>\n",
       "      <td>gt1l/</td>\n",
       "      <td>2018-10-21</td>\n",
       "    </tr>\n",
       "    <tr>\n",
       "      <th>18</th>\n",
       "      <td>20</td>\n",
       "      <td>1117.5864</td>\n",
       "      <td>-0.607841</td>\n",
       "      <td>33.869432</td>\n",
       "      <td>1135.1753</td>\n",
       "      <td>2.531880e+07</td>\n",
       "      <td>127.0</td>\n",
       "      <td>1</td>\n",
       "      <td>0.0</td>\n",
       "      <td>0</td>\n",
       "      <td>0</td>\n",
       "      <td>5.0</td>\n",
       "      <td>3.0</td>\n",
       "      <td>0.26</td>\n",
       "      <td>1.0</td>\n",
       "      <td>0.065</td>\n",
       "      <td>0.000346</td>\n",
       "      <td>3.468284</td>\n",
       "      <td>gt1l/</td>\n",
       "      <td>2018-10-21</td>\n",
       "    </tr>\n",
       "    <tr>\n",
       "      <th>19</th>\n",
       "      <td>21</td>\n",
       "      <td>1117.6119</td>\n",
       "      <td>-0.609506</td>\n",
       "      <td>33.869264</td>\n",
       "      <td>1135.2020</td>\n",
       "      <td>2.531880e+07</td>\n",
       "      <td>127.0</td>\n",
       "      <td>1</td>\n",
       "      <td>0.0</td>\n",
       "      <td>0</td>\n",
       "      <td>1</td>\n",
       "      <td>5.0</td>\n",
       "      <td>3.0</td>\n",
       "      <td>0.04</td>\n",
       "      <td>1.0</td>\n",
       "      <td>0.010</td>\n",
       "      <td>0.021160</td>\n",
       "      <td>3.774847</td>\n",
       "      <td>gt1l/</td>\n",
       "      <td>2018-10-21</td>\n",
       "    </tr>\n",
       "    <tr>\n",
       "      <th>20</th>\n",
       "      <td>22</td>\n",
       "      <td>1117.6145</td>\n",
       "      <td>-0.611254</td>\n",
       "      <td>33.869092</td>\n",
       "      <td>1135.2058</td>\n",
       "      <td>2.531880e+07</td>\n",
       "      <td>127.0</td>\n",
       "      <td>1</td>\n",
       "      <td>0.0</td>\n",
       "      <td>0</td>\n",
       "      <td>1</td>\n",
       "      <td>5.0</td>\n",
       "      <td>3.0</td>\n",
       "      <td>0.04</td>\n",
       "      <td>1.0</td>\n",
       "      <td>0.010</td>\n",
       "      <td>0.021160</td>\n",
       "      <td>3.774847</td>\n",
       "      <td>gt1l/</td>\n",
       "      <td>2018-10-21</td>\n",
       "    </tr>\n",
       "    <tr>\n",
       "      <th>...</th>\n",
       "      <td>...</td>\n",
       "      <td>...</td>\n",
       "      <td>...</td>\n",
       "      <td>...</td>\n",
       "      <td>...</td>\n",
       "      <td>...</td>\n",
       "      <td>...</td>\n",
       "      <td>...</td>\n",
       "      <td>...</td>\n",
       "      <td>...</td>\n",
       "      <td>...</td>\n",
       "      <td>...</td>\n",
       "      <td>...</td>\n",
       "      <td>...</td>\n",
       "      <td>...</td>\n",
       "      <td>...</td>\n",
       "      <td>...</td>\n",
       "      <td>...</td>\n",
       "      <td>...</td>\n",
       "      <td>...</td>\n",
       "    </tr>\n",
       "    <tr>\n",
       "      <th>811934</th>\n",
       "      <td>82</td>\n",
       "      <td>NaN</td>\n",
       "      <td>-0.685979</td>\n",
       "      <td>33.668160</td>\n",
       "      <td>1135.7320</td>\n",
       "      <td>1.640605e+08</td>\n",
       "      <td>NaN</td>\n",
       "      <td>0</td>\n",
       "      <td>NaN</td>\n",
       "      <td>0</td>\n",
       "      <td>0</td>\n",
       "      <td>NaN</td>\n",
       "      <td>NaN</td>\n",
       "      <td>0.44</td>\n",
       "      <td>NaN</td>\n",
       "      <td>0.110</td>\n",
       "      <td>NaN</td>\n",
       "      <td>NaN</td>\n",
       "      <td>gt3l/</td>\n",
       "      <td>2023-03-14</td>\n",
       "    </tr>\n",
       "    <tr>\n",
       "      <th>811935</th>\n",
       "      <td>83</td>\n",
       "      <td>NaN</td>\n",
       "      <td>-0.686397</td>\n",
       "      <td>33.668122</td>\n",
       "      <td>1135.7255</td>\n",
       "      <td>1.640605e+08</td>\n",
       "      <td>NaN</td>\n",
       "      <td>0</td>\n",
       "      <td>NaN</td>\n",
       "      <td>0</td>\n",
       "      <td>0</td>\n",
       "      <td>NaN</td>\n",
       "      <td>NaN</td>\n",
       "      <td>0.44</td>\n",
       "      <td>NaN</td>\n",
       "      <td>0.110</td>\n",
       "      <td>NaN</td>\n",
       "      <td>NaN</td>\n",
       "      <td>gt3l/</td>\n",
       "      <td>2023-03-14</td>\n",
       "    </tr>\n",
       "    <tr>\n",
       "      <th>811936</th>\n",
       "      <td>84</td>\n",
       "      <td>NaN</td>\n",
       "      <td>-0.687562</td>\n",
       "      <td>33.668015</td>\n",
       "      <td>1135.7468</td>\n",
       "      <td>1.640605e+08</td>\n",
       "      <td>NaN</td>\n",
       "      <td>0</td>\n",
       "      <td>NaN</td>\n",
       "      <td>0</td>\n",
       "      <td>0</td>\n",
       "      <td>NaN</td>\n",
       "      <td>NaN</td>\n",
       "      <td>0.44</td>\n",
       "      <td>NaN</td>\n",
       "      <td>0.110</td>\n",
       "      <td>NaN</td>\n",
       "      <td>NaN</td>\n",
       "      <td>gt3l/</td>\n",
       "      <td>2023-03-14</td>\n",
       "    </tr>\n",
       "    <tr>\n",
       "      <th>811937</th>\n",
       "      <td>85</td>\n",
       "      <td>NaN</td>\n",
       "      <td>-0.692744</td>\n",
       "      <td>33.667544</td>\n",
       "      <td>1135.7163</td>\n",
       "      <td>1.640605e+08</td>\n",
       "      <td>NaN</td>\n",
       "      <td>0</td>\n",
       "      <td>NaN</td>\n",
       "      <td>0</td>\n",
       "      <td>0</td>\n",
       "      <td>NaN</td>\n",
       "      <td>NaN</td>\n",
       "      <td>0.44</td>\n",
       "      <td>NaN</td>\n",
       "      <td>0.110</td>\n",
       "      <td>NaN</td>\n",
       "      <td>NaN</td>\n",
       "      <td>gt3l/</td>\n",
       "      <td>2023-03-14</td>\n",
       "    </tr>\n",
       "    <tr>\n",
       "      <th>811938</th>\n",
       "      <td>86</td>\n",
       "      <td>NaN</td>\n",
       "      <td>-0.758830</td>\n",
       "      <td>33.660830</td>\n",
       "      <td>1135.6062</td>\n",
       "      <td>1.640605e+08</td>\n",
       "      <td>NaN</td>\n",
       "      <td>0</td>\n",
       "      <td>NaN</td>\n",
       "      <td>0</td>\n",
       "      <td>0</td>\n",
       "      <td>NaN</td>\n",
       "      <td>NaN</td>\n",
       "      <td>0.44</td>\n",
       "      <td>NaN</td>\n",
       "      <td>0.110</td>\n",
       "      <td>NaN</td>\n",
       "      <td>NaN</td>\n",
       "      <td>gt3l/</td>\n",
       "      <td>2023-03-14</td>\n",
       "    </tr>\n",
       "  </tbody>\n",
       "</table>\n",
       "<p>630814 rows × 20 columns</p>\n",
       "</div>"
      ],
      "text/plain": [
       "        Unnamed: 0   ht_water       lat        lon     height          time  \\\n",
       "16              18  1117.5900 -0.602123  33.870005  1135.1748  2.531880e+07   \n",
       "17              19  1117.6124 -0.605284  33.869687  1135.1996  2.531880e+07   \n",
       "18              20  1117.5864 -0.607841  33.869432  1135.1753  2.531880e+07   \n",
       "19              21  1117.6119 -0.609506  33.869264  1135.2020  2.531880e+07   \n",
       "20              22  1117.6145 -0.611254  33.869092  1135.2058  2.531880e+07   \n",
       "...            ...        ...       ...        ...        ...           ...   \n",
       "811934          82        NaN -0.685979  33.668160  1135.7320  1.640605e+08   \n",
       "811935          83        NaN -0.686397  33.668122  1135.7255  1.640605e+08   \n",
       "811936          84        NaN -0.687562  33.668015  1135.7468  1.640605e+08   \n",
       "811937          85        NaN -0.692744  33.667544  1135.7163  1.640605e+08   \n",
       "811938          86        NaN -0.758830  33.660830  1135.6062  1.640605e+08   \n",
       "\n",
       "        ice_flag  qf_bc  snow_ice  qf_bias  qf_fit  flag_asr  flag_atm   swh  \\\n",
       "16         127.0      1       0.0        0       0       5.0       3.0  0.26   \n",
       "17         127.0      1       0.0        0       0       5.0       3.0  0.26   \n",
       "18         127.0      1       0.0        0       0       5.0       3.0  0.26   \n",
       "19         127.0      1       0.0        0       1       5.0       3.0  0.04   \n",
       "20         127.0      1       0.0        0       1       5.0       3.0  0.04   \n",
       "...          ...    ...       ...      ...     ...       ...       ...   ...   \n",
       "811934       NaN      0       NaN        0       0       NaN       NaN  0.44   \n",
       "811935       NaN      0       NaN        0       0       NaN       NaN  0.44   \n",
       "811936       NaN      0       NaN        0       0       NaN       NaN  0.44   \n",
       "811937       NaN      0       NaN        0       0       NaN       NaN  0.44   \n",
       "811938       NaN      0       NaN        0       0       NaN       NaN  0.44   \n",
       "\n",
       "        l_layer  std_ws      s_bf       w_d subgroup       Time  \n",
       "16          1.0   0.065  0.000346  3.468284    gt1l/ 2018-10-21  \n",
       "17          1.0   0.065  0.000346  3.468284    gt1l/ 2018-10-21  \n",
       "18          1.0   0.065  0.000346  3.468284    gt1l/ 2018-10-21  \n",
       "19          1.0   0.010  0.021160  3.774847    gt1l/ 2018-10-21  \n",
       "20          1.0   0.010  0.021160  3.774847    gt1l/ 2018-10-21  \n",
       "...         ...     ...       ...       ...      ...        ...  \n",
       "811934      NaN   0.110       NaN       NaN    gt3l/ 2023-03-14  \n",
       "811935      NaN   0.110       NaN       NaN    gt3l/ 2023-03-14  \n",
       "811936      NaN   0.110       NaN       NaN    gt3l/ 2023-03-14  \n",
       "811937      NaN   0.110       NaN       NaN    gt3l/ 2023-03-14  \n",
       "811938      NaN   0.110       NaN       NaN    gt3l/ 2023-03-14  \n",
       "\n",
       "[630814 rows x 20 columns]"
      ]
     },
     "execution_count": 24,
     "metadata": {},
     "output_type": "execute_result"
    }
   ],
   "source": [
    "All_lakes"
   ]
  },
  {
   "cell_type": "markdown",
   "id": "b07b072c-31ad-4fc6-baf0-98d17998269b",
   "metadata": {
    "user_expressions": []
   },
   "source": [
    "Here we will calculate the daily mean and adopt it as our water level height while we also adopt its standard devaition as the spatial uncertainty."
   ]
  },
  {
   "cell_type": "code",
   "execution_count": 25,
   "id": "5d57ea79-1727-4eca-8c4f-7f1bfbc36795",
   "metadata": {
    "tags": []
   },
   "outputs": [],
   "source": [
    "All_lakes=All_lakes.groupby('Time')\n",
    "All_lakes=All_lakes['height'].agg(['mean', 'std'])"
   ]
  },
  {
   "cell_type": "code",
   "execution_count": 26,
   "id": "2826de05-ba81-4a47-ae15-a5f590d536f6",
   "metadata": {
    "tags": []
   },
   "outputs": [
    {
     "data": {
      "text/html": [
       "<div>\n",
       "<style scoped>\n",
       "    .dataframe tbody tr th:only-of-type {\n",
       "        vertical-align: middle;\n",
       "    }\n",
       "\n",
       "    .dataframe tbody tr th {\n",
       "        vertical-align: top;\n",
       "    }\n",
       "\n",
       "    .dataframe thead th {\n",
       "        text-align: right;\n",
       "    }\n",
       "</style>\n",
       "<table border=\"1\" class=\"dataframe\">\n",
       "  <thead>\n",
       "    <tr style=\"text-align: right;\">\n",
       "      <th></th>\n",
       "      <th>mean</th>\n",
       "      <th>std</th>\n",
       "    </tr>\n",
       "    <tr>\n",
       "      <th>Time</th>\n",
       "      <th></th>\n",
       "      <th></th>\n",
       "    </tr>\n",
       "  </thead>\n",
       "  <tbody>\n",
       "    <tr>\n",
       "      <th>2018-10-21</th>\n",
       "      <td>1135.044146</td>\n",
       "      <td>0.075003</td>\n",
       "    </tr>\n",
       "    <tr>\n",
       "      <th>2018-11-06</th>\n",
       "      <td>1135.195079</td>\n",
       "      <td>0.173076</td>\n",
       "    </tr>\n",
       "    <tr>\n",
       "      <th>2018-11-22</th>\n",
       "      <td>1134.910300</td>\n",
       "      <td>NaN</td>\n",
       "    </tr>\n",
       "    <tr>\n",
       "      <th>2018-12-13</th>\n",
       "      <td>1135.074087</td>\n",
       "      <td>0.105894</td>\n",
       "    </tr>\n",
       "    <tr>\n",
       "      <th>2018-12-21</th>\n",
       "      <td>1134.913000</td>\n",
       "      <td>NaN</td>\n",
       "    </tr>\n",
       "    <tr>\n",
       "      <th>...</th>\n",
       "      <td>...</td>\n",
       "      <td>...</td>\n",
       "    </tr>\n",
       "    <tr>\n",
       "      <th>2023-01-28</th>\n",
       "      <td>1135.976530</td>\n",
       "      <td>0.102157</td>\n",
       "    </tr>\n",
       "    <tr>\n",
       "      <th>2023-02-13</th>\n",
       "      <td>1135.607841</td>\n",
       "      <td>0.118052</td>\n",
       "    </tr>\n",
       "    <tr>\n",
       "      <th>2023-02-26</th>\n",
       "      <td>1135.588323</td>\n",
       "      <td>0.123084</td>\n",
       "    </tr>\n",
       "    <tr>\n",
       "      <th>2023-03-06</th>\n",
       "      <td>1135.420421</td>\n",
       "      <td>0.119426</td>\n",
       "    </tr>\n",
       "    <tr>\n",
       "      <th>2023-03-14</th>\n",
       "      <td>1135.696764</td>\n",
       "      <td>0.150969</td>\n",
       "    </tr>\n",
       "  </tbody>\n",
       "</table>\n",
       "<p>85 rows × 2 columns</p>\n",
       "</div>"
      ],
      "text/plain": [
       "                   mean       std\n",
       "Time                             \n",
       "2018-10-21  1135.044146  0.075003\n",
       "2018-11-06  1135.195079  0.173076\n",
       "2018-11-22  1134.910300       NaN\n",
       "2018-12-13  1135.074087  0.105894\n",
       "2018-12-21  1134.913000       NaN\n",
       "...                 ...       ...\n",
       "2023-01-28  1135.976530  0.102157\n",
       "2023-02-13  1135.607841  0.118052\n",
       "2023-02-26  1135.588323  0.123084\n",
       "2023-03-06  1135.420421  0.119426\n",
       "2023-03-14  1135.696764  0.150969\n",
       "\n",
       "[85 rows x 2 columns]"
      ]
     },
     "execution_count": 26,
     "metadata": {},
     "output_type": "execute_result"
    }
   ],
   "source": [
    "All_lakes"
   ]
  },
  {
   "cell_type": "code",
   "execution_count": 27,
   "id": "1ba2e097-f1fe-4dc1-8588-bcb251c20fd2",
   "metadata": {
    "tags": []
   },
   "outputs": [],
   "source": [
    "merged_L12_2=All_lakes"
   ]
  },
  {
   "cell_type": "markdown",
   "id": "70f4841c-b33c-4d9e-bcfa-3930342bd632",
   "metadata": {
    "user_expressions": []
   },
   "source": [
    "Using the matplot library we will plot the water height. Before that we will make sure that the date is sorted."
   ]
  },
  {
   "cell_type": "code",
   "execution_count": 28,
   "id": "e6756abb-bbdf-483f-8ae2-cf028b71f97d",
   "metadata": {
    "tags": []
   },
   "outputs": [
    {
     "data": {
      "image/png": "[encoded data removed]",
      "text/plain": [
       "<Figure size 900x400 with 1 Axes>"
      ]
     },
     "metadata": {},
     "output_type": "display_data"
    }
   ],
   "source": [
    "merged_L12_2.sort_index()\n",
    "\n",
    "fig, ax1 = plt.subplots(figsize=(9,4))\n",
    "\n",
    "# plot precipitation as vertical lines\n",
    "ax1.plot(merged_L12_2['mean'], color='blue')\n",
    "\n",
    "# set x-axis label\n",
    "ax1.set_xlabel('Date', fontsize=9)\n",
    "ax1.tick_params('x', colors='black', labelsize=8)\n",
    "fig.autofmt_xdate(rotation=90)\n",
    "\n",
    "# set y-axis label for precipitation\n",
    "ax1.set_ylabel('Water Level (m)', color='blue', fontsize=9)\n",
    "ax1.tick_params('y', colors='blue', labelsize=9)\n",
    "plt.show()\n"
   ]
  },
  {
   "cell_type": "markdown",
   "id": "e55e3f22-ff90-409d-a895-8249bd9bf69c",
   "metadata": {
    "user_expressions": []
   },
   "source": [
    "Here we will plot the height and the uncertainty of each height"
   ]
  },
  {
   "cell_type": "code",
   "execution_count": 29,
   "id": "69bd521f-1942-4a23-9814-6a8ec9d5648a",
   "metadata": {
    "tags": []
   },
   "outputs": [
    {
     "data": {
      "image/png": "[encoded data removed]",
      "text/plain": [
       "<Figure size 900x400 with 2 Axes>"
      ]
     },
     "metadata": {},
     "output_type": "display_data"
    }
   ],
   "source": [
    "#create the uncertainty graph\n",
    "\n",
    "merged_L12_2.sort_index()\n",
    "\n",
    "fig, ax1 = plt.subplots(figsize=(9,4))\n",
    "\n",
    "# plot precipitation as vertical lines\n",
    "ax1.plot(merged_L12_2['mean'], color='blue')\n",
    "\n",
    "# set x-axis label\n",
    "ax1.set_xlabel('Date', fontsize=9)\n",
    "ax1.tick_params('x', colors='black', labelsize=9)\n",
    "fig.autofmt_xdate(rotation=90)\n",
    "\n",
    "# set y-axis label for precipitation\n",
    "ax1.set_ylabel('Water Level (m)', color='blue', fontsize=9)\n",
    "ax1.tick_params('y', colors='blue', labelsize=9)\n",
    "\n",
    "# create a twin axis for stage data\n",
    "ax2 = ax1.twinx()\n",
    "\n",
    "# plot stage data as a line\n",
    "ax2.vlines(merged_L12_2.index, 0, merged_L12_2['std'], colors='black', alpha=1, linestyle=':')\n",
    "ax2.plot(merged_L12_2.index, merged_L12_2['std'], color='black', alpha=1, linestyle=' ', marker='o', markersize=5)\n",
    "\n",
    "# set y-axis label for stage data\n",
    "ax2.set_ylabel('Uncertainty (m)', color='black', fontsize=9)\n",
    "ax2.tick_params('y', colors='black',labelsize=9)\n",
    "\n",
    "# set title for the plot\n",
    "#plt.title('Lake HC_16   Water Level Vs Precipitation', fontsize=18)\n",
    "\n",
    "# show grid lines\n",
    "#plt.grid(True)\n",
    "\n",
    "plt.show()"
   ]
  },
  {
   "cell_type": "markdown",
   "id": "7caced5e-a165-4a0c-bc2a-99db2a5bbe7e",
   "metadata": {
    "user_expressions": []
   },
   "source": [
    "using the linear regression fitting line, we will determine the annual variation of the water level"
   ]
  },
  {
   "cell_type": "code",
   "execution_count": 30,
   "id": "57c95fe6-bfef-4de2-b607-4a761cec5b4d",
   "metadata": {
    "tags": []
   },
   "outputs": [
    {
     "data": {
      "image/png": "[encoded data removed]",
      "text/plain": [
       "<Figure size 900x400 with 1 Axes>"
      ]
     },
     "metadata": {},
     "output_type": "display_data"
    }
   ],
   "source": [
    "# Sort the DataFrame by date in ascending order\n",
    "merged_L12_2.sort_index(inplace=True)\n",
    "\n",
    "# Create the figure and axis\n",
    "fig, ax1 = plt.subplots(figsize=(9, 4))\n",
    "\n",
    "# Plot water level as a line\n",
    "ax1.plot(merged_L12_2['mean'], color='blue', label='Water Level')\n",
    "\n",
    "# Calculate linear regression coefficients (slope and intercept)\n",
    "fit_coeffs = np.polyfit(range(len(merged_L12_2)), merged_L12_2['mean'], 1)\n",
    "fit_line = np.poly1d(fit_coeffs)\n",
    "\n",
    "fit_line_x = np.array([0, len(merged_L12_2) - 1])\n",
    "fit_line_y = fit_line(fit_line_x)\n",
    "\n",
    "# Plot the fitting line\n",
    "ax1.plot(merged_L12_2.index, fit_line(range(len(merged_L12_2))), color='red', linestyle='--', label='Fitting Line')\n",
    "\n",
    "# Set x-axis label and rotate date labels\n",
    "ax1.set_xlabel('Date', fontsize=9)\n",
    "ax1.tick_params('x', colors='black', labelsize=9)\n",
    "fig.autofmt_xdate(rotation=90)\n",
    "\n",
    "# Set y-axis label for water level\n",
    "ax1.set_ylabel('Water Level (m)', color='blue', fontsize=9)\n",
    "ax1.tick_params('y', colors='blue', labelsize=9)\n",
    "\n",
    "# Display the linear regression equation\n",
    "equation_text = f'y = {fit_coeffs[0]:.4f}x + {fit_coeffs[1]:.4f}'\n",
    "ax1.text(0.05, 0.95, equation_text, transform=ax1.transAxes, fontsize=9)\n",
    "\n",
    "# Show legend\n",
    "ax1.legend()\n",
    "\n",
    "# Show the plot\n",
    "plt.show()"
   ]
  },
  {
   "cell_type": "markdown",
   "id": "f344426d-55f5-469c-9dd9-7903ed49e92d",
   "metadata": {
    "tags": [],
    "user_expressions": []
   },
   "source": [
    "Thanks for following along.  \n",
    "\n",
    "### References\n",
    "Calmant, S., Seyler, F., & Cretaux, J. F. (2008). Monitoring Continental Surface Waters by Satellite Altimetry. Surveys in Geophysics, 29(4), 247–269. https://doi.org/10.1007/s10712-008-9051-1\n",
    "\n",
    "Nielsen, K.; Stenseng, L.; Andersen, O.B.; Knudsen, P. The Performance and Potentials of the CryoSat-2 SAR and SARIn Modes for Lake Level Estimation. Water 2017, 9, 374. https://doi.org/10.3390/w9060374\n",
    "\n",
    "Shamsudeen Yekeen, Ben DeVries, Aaron Berg, Rosy Tutton , Branden Walker, Jackson Seto, Philip Marsh. (2023) Operational Methodology for the Monitoring of Canadian Arctic Lakes Water Surface Elevation (WSE) Dynamics Using  Gauges, ICESat-2 and Sentinel-3 Data: In Preparation for SWOT Altimetry Data: 44th Canadian Symposium on Remote Sensing /44e Symposium canadien de télédétection\n",
    "\n",
    "\n",
    "\n"
   ]
  }
 ],
 "metadata": {
  "kernelspec": {
   "display_name": "Python 3 (ipykernel)",
   "language": "python",
   "name": "python3"
  },
  "language_info": {
   "codemirror_mode": {
    "name": "ipython",
    "version": 3
   },
   "file_extension": ".py",
   "mimetype": "text/x-python",
   "name": "python",
   "nbconvert_exporter": "python",
   "pygments_lexer": "ipython3",
   "version": "3.10.12"
  }
 },
 "nbformat": 4,
 "nbformat_minor": 5
}
